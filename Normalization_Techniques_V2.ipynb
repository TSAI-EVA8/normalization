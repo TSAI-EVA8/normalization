{
 "cells": [
  {
   "cell_type": "markdown",
   "metadata": {
    "id": "3DWSFYfH82PY"
   },
   "source": [
    "We are introducing different normalization techniques in the code that gave 99.4% acccuracy.\n",
    "1. Layer Normaization\n",
    "2. Group Normalization\n",
    "3. Batch Normalization along with L1 regularization"
   ]
  },
  {
   "cell_type": "markdown",
   "metadata": {
    "id": "aO-7t1Y7-hV4"
   },
   "source": [
    "# Import Libraries"
   ]
  },
  {
   "cell_type": "code",
   "execution_count": 2,
   "metadata": {
    "colab": {
     "base_uri": "https://localhost:8080/"
    },
    "id": "SJlmUIFBMfor",
    "outputId": "e543cdfc-9d75-479c-ed82-db544ebff142"
   },
   "outputs": [
    {
     "name": "stdout",
     "output_type": "stream",
     "text": [
      "Mounted at /content/drive\n"
     ]
    }
   ],
   "source": [
    "from google.colab import drive\n",
    "drive.mount('/content/drive',force_remount=True)"
   ]
  },
  {
   "cell_type": "code",
   "execution_count": 4,
   "metadata": {
    "id": "8kH16rnZ7wt_"
   },
   "outputs": [],
   "source": [
    "from __future__ import print_function\n",
    "import torch\n",
    "import torch.nn as nn\n",
    "import torch.nn.functional as F\n",
    "import torch.optim as optim\n",
    "from torchvision import datasets, transforms\n"
   ]
  },
  {
   "cell_type": "code",
   "execution_count": 5,
   "metadata": {
    "id": "jp3VNM6tb3JF"
   },
   "outputs": [],
   "source": [
    "import sys\n",
    "sys.path.insert(0,'/content/drive/MyDrive/Colab_Notebooks/EVA8/normalizationTechniques')\n",
    "from model import Net\n",
    "import config as cf"
   ]
  },
  {
   "cell_type": "code",
   "execution_count": 6,
   "metadata": {
    "colab": {
     "base_uri": "https://localhost:8080/"
    },
    "id": "VNIzCNdcBa4a",
    "outputId": "4a8d62f0-2fa1-436c-f7b2-180cd35b03fb"
   },
   "outputs": [
    {
     "name": "stdout",
     "output_type": "stream",
     "text": [
      "Looking in indexes: https://pypi.org/simple, https://us-python.pkg.dev/colab-wheels/public/simple/\n",
      "Requirement already satisfied: torchsummary in /usr/local/lib/python3.8/dist-packages (1.5.1)\n",
      "cuda\n"
     ]
    }
   ],
   "source": [
    "!pip install torchsummary\n",
    "from torchsummary import summary\n",
    "use_cuda = torch.cuda.is_available()\n",
    "device = torch.device(\"cuda\" if use_cuda else \"cpu\")\n",
    "print(device)\n"
   ]
  },
  {
   "cell_type": "code",
   "execution_count": 7,
   "metadata": {
    "id": "pblPeoczs1Qj"
   },
   "outputs": [],
   "source": [
    "## CONSTANTS\n",
    "SEED=42\n",
    "DROPOUT_VALUE = 0.1\n",
    "NUM_GROUPS_FOR_GN = 2\n",
    "LAMBDA=5e-4\n",
    "EPOCHS=20"
   ]
  },
  {
   "cell_type": "markdown",
   "metadata": {
    "id": "ky3f_Odl-7um"
   },
   "source": [
    "## Data Transformations\n",
    "\n"
   ]
  },
  {
   "cell_type": "code",
   "execution_count": 8,
   "metadata": {
    "id": "YtssFUKb-jqx"
   },
   "outputs": [],
   "source": [
    "# Train Phase transformations\n",
    "train_transforms = transforms.Compose([\n",
    "                                      #  transforms.Resize((28, 28)),\n",
    "                                       transforms.RandomRotation((-8.0, 8.0), fill=(1,)),\n",
    "                                       transforms.ToTensor(),\n",
    "                                       transforms.Normalize((0.1307,), (0.3081,)) # The mean and std have to be sequences (e.g., tuples), therefore you should add a comma after the values. \n",
    "                                       # Note the difference between (0.1307) and (0.1307,)\n",
    "                                       ])\n",
    "\n",
    "# Test Phase transformations\n",
    "test_transforms = transforms.Compose([\n",
    "                                      #  transforms.Resize((28, 28)),\n",
    "                                      #  transforms.ColorJitter(brightness=0.10, contrast=0.1, saturation=0.10, hue=0.1),\n",
    "                                       transforms.ToTensor(),\n",
    "                                       transforms.Normalize((0.1307,), (0.3081,))\n",
    "                                       ])\n"
   ]
  },
  {
   "cell_type": "markdown",
   "metadata": {
    "id": "oQciFYo2B1mO"
   },
   "source": [
    "# Dataset and Creating Train/Test Split"
   ]
  },
  {
   "cell_type": "code",
   "execution_count": 9,
   "metadata": {
    "colab": {
     "base_uri": "https://localhost:8080/",
     "height": 443,
     "referenced_widgets": [
      "209859e436d745d199165e61a66bba26",
      "76ecec0247c44b75a0bc8722714a6137",
      "8da4fb2b91b54e598777d515f48fa9ba",
      "4dfb01d6aa3240f1904e547f253d7aa2",
      "a916b6ad28494cef9fead13825631180",
      "6ef77d7b7c4446849419416a8bb3cf86",
      "16074b0103704eebb34ecd441070b6ac",
      "a718ad818af04c1fbebe9805fe0ec4a6",
      "3476adcba1ed419ca836bf3ef51f2fec",
      "dc8f5d480f4946a182150bb5940ff48c",
      "75f776802cfb410e87f073e7688f2592",
      "f960673128904b81a95bcb5d17e5a958",
      "3bb009e9a23f4c36814551c41565b777",
      "d00b8f37f0a64539a7afdff5aed236bd",
      "7d160a6262c84be8a2db863dc394ac0c",
      "c29323d17251405a94483c8faf86f04b",
      "2a16fb6d8e20467895b55c68a48cbb32",
      "dc93c2e40e714cd1a3b8344850b5d9cb",
      "f632383f00be4e77aaafbba37913ce2c",
      "753699e93b294a3a9887235725658948",
      "ca047f1c8f994a9195e5860df7af9bb1",
      "8710c64b70a849158399aa326d1c3cea",
      "9c7d429783bb461e80f83c817e3acbd6",
      "176972ed189c4baf9e0efe00c598a19c",
      "a826001fb13248f6aa724fdca26bfad8",
      "e488ba031e764a6b82ca97c6bd8c13e3",
      "ec2c97254b5742c8a0a2d2e60edb845e",
      "c72187c2c95d48628accb382c01ac955",
      "3b2e3bab4a6942a58811ea03450590ef",
      "d9f5531365c14b12a43c740a44955ad0",
      "d690e63a7a314e03836ce88ff4bb2a38",
      "f3ee4a7bc7bf4888a9ac21cc0271bdbf",
      "99083da8ab6a42279e4b74955c97ea40",
      "ec99adb94ed84a87abedf6dd984770ce",
      "a874ab73c2ba4c5a89e6a55203e8e198",
      "a4a37f2ff9924ab29763af0b2b93157d",
      "81eb6cf8683740239d404a14a70d321d",
      "f0aaec46316d438f94af0b5b4fb34b4b",
      "e5f8d357da0b4b678ed30e4af2a7d09f",
      "c612b16f554f4ed8a6dc66ca46243fd9",
      "e8f410b687254dd2b8c08f11b9c31795",
      "3596ec97d9df4e8cb7a6bc7cb8d63b63",
      "3283d82e1fa54f09822f61a8ddd7ecd1",
      "9f106ab467ba4d3b866f375db555455f"
     ]
    },
    "id": "_4A84rlfDA23",
    "outputId": "e5597023-49c2-4760-8bee-5fe20a937338"
   },
   "outputs": [
    {
     "name": "stdout",
     "output_type": "stream",
     "text": [
      "Downloading http://yann.lecun.com/exdb/mnist/train-images-idx3-ubyte.gz\n",
      "Downloading http://yann.lecun.com/exdb/mnist/train-images-idx3-ubyte.gz to ./data/MNIST/raw/train-images-idx3-ubyte.gz\n"
     ]
    },
    {
     "data": {
      "application/vnd.jupyter.widget-view+json": {
       "model_id": "209859e436d745d199165e61a66bba26",
       "version_major": 2,
       "version_minor": 0
      },
      "text/plain": [
       "  0%|          | 0/9912422 [00:00<?, ?it/s]"
      ]
     },
     "metadata": {},
     "output_type": "display_data"
    },
    {
     "name": "stdout",
     "output_type": "stream",
     "text": [
      "Extracting ./data/MNIST/raw/train-images-idx3-ubyte.gz to ./data/MNIST/raw\n",
      "\n",
      "Downloading http://yann.lecun.com/exdb/mnist/train-labels-idx1-ubyte.gz\n",
      "Downloading http://yann.lecun.com/exdb/mnist/train-labels-idx1-ubyte.gz to ./data/MNIST/raw/train-labels-idx1-ubyte.gz\n"
     ]
    },
    {
     "data": {
      "application/vnd.jupyter.widget-view+json": {
       "model_id": "f960673128904b81a95bcb5d17e5a958",
       "version_major": 2,
       "version_minor": 0
      },
      "text/plain": [
       "  0%|          | 0/28881 [00:00<?, ?it/s]"
      ]
     },
     "metadata": {},
     "output_type": "display_data"
    },
    {
     "name": "stdout",
     "output_type": "stream",
     "text": [
      "Extracting ./data/MNIST/raw/train-labels-idx1-ubyte.gz to ./data/MNIST/raw\n",
      "\n",
      "Downloading http://yann.lecun.com/exdb/mnist/t10k-images-idx3-ubyte.gz\n",
      "Downloading http://yann.lecun.com/exdb/mnist/t10k-images-idx3-ubyte.gz to ./data/MNIST/raw/t10k-images-idx3-ubyte.gz\n"
     ]
    },
    {
     "data": {
      "application/vnd.jupyter.widget-view+json": {
       "model_id": "9c7d429783bb461e80f83c817e3acbd6",
       "version_major": 2,
       "version_minor": 0
      },
      "text/plain": [
       "  0%|          | 0/1648877 [00:00<?, ?it/s]"
      ]
     },
     "metadata": {},
     "output_type": "display_data"
    },
    {
     "name": "stdout",
     "output_type": "stream",
     "text": [
      "Extracting ./data/MNIST/raw/t10k-images-idx3-ubyte.gz to ./data/MNIST/raw\n",
      "\n",
      "Downloading http://yann.lecun.com/exdb/mnist/t10k-labels-idx1-ubyte.gz\n",
      "Downloading http://yann.lecun.com/exdb/mnist/t10k-labels-idx1-ubyte.gz to ./data/MNIST/raw/t10k-labels-idx1-ubyte.gz\n"
     ]
    },
    {
     "data": {
      "application/vnd.jupyter.widget-view+json": {
       "model_id": "ec99adb94ed84a87abedf6dd984770ce",
       "version_major": 2,
       "version_minor": 0
      },
      "text/plain": [
       "  0%|          | 0/4542 [00:00<?, ?it/s]"
      ]
     },
     "metadata": {},
     "output_type": "display_data"
    },
    {
     "name": "stdout",
     "output_type": "stream",
     "text": [
      "Extracting ./data/MNIST/raw/t10k-labels-idx1-ubyte.gz to ./data/MNIST/raw\n",
      "\n"
     ]
    }
   ],
   "source": [
    "train = datasets.MNIST('./data', train=True, download=True, transform=train_transforms)\n",
    "test = datasets.MNIST('./data', train=False, download=True, transform=test_transforms)"
   ]
  },
  {
   "cell_type": "markdown",
   "metadata": {
    "id": "qgldp_3-Dn0c"
   },
   "source": [
    "# Dataloader Arguments & Test/Train Dataloaders\n"
   ]
  },
  {
   "cell_type": "code",
   "execution_count": 10,
   "metadata": {
    "colab": {
     "base_uri": "https://localhost:8080/"
    },
    "id": "C8OLDR79DrHG",
    "outputId": "5a903ffb-06c4-4812-efd7-3ad42e482519"
   },
   "outputs": [
    {
     "name": "stdout",
     "output_type": "stream",
     "text": [
      "CUDA Available? True\n"
     ]
    },
    {
     "name": "stderr",
     "output_type": "stream",
     "text": [
      "/usr/local/lib/python3.8/dist-packages/torch/utils/data/dataloader.py:554: UserWarning: This DataLoader will create 4 worker processes in total. Our suggested max number of worker in current system is 2, which is smaller than what this DataLoader is going to create. Please be aware that excessive worker creation might get DataLoader running slow or even freeze, lower the worker number to avoid potential slowness/freeze if necessary.\n",
      "  warnings.warn(_create_warning_msg(\n"
     ]
    }
   ],
   "source": [
    "#SEED = 42\n",
    "\n",
    "# CUDA?\n",
    "cuda = torch.cuda.is_available()\n",
    "print(\"CUDA Available?\", cuda)\n",
    "\n",
    "# For reproducibility\n",
    "torch.manual_seed(SEED)\n",
    "\n",
    "if cuda:\n",
    "    torch.cuda.manual_seed(SEED)\n",
    "\n",
    "# dataloader arguments - something you'll fetch these from cmdprmt\n",
    "dataloader_args = dict(shuffle=True, batch_size=128, num_workers=4, pin_memory=True) if cuda else dict(shuffle=True, batch_size=64)\n",
    "\n",
    "# train dataloader\n",
    "train_loader = torch.utils.data.DataLoader(train, **dataloader_args)\n",
    "\n",
    "# test dataloader\n",
    "test_loader = torch.utils.data.DataLoader(test, **dataloader_args)"
   ]
  },
  {
   "cell_type": "markdown",
   "metadata": {
    "id": "Q8x3p050-DaZ"
   },
   "source": []
  },
  {
   "cell_type": "markdown",
   "metadata": {
    "id": "ubQL3H6RJL3h"
   },
   "source": [
    "# The model\n",
    "Let's start with the model we first saw"
   ]
  },
  {
   "cell_type": "code",
   "execution_count": 12,
   "metadata": {
    "id": "7FXQlB9kH1ov"
   },
   "outputs": [],
   "source": [
    "\n",
    "# import torch.nn.functional as F\n",
    "# #dropout_value = DROPOUT_VALUE\n",
    "# #num_groups = NUM_GROUPS_FOR_GN\n",
    "\n",
    "# class Net(nn.Module):\n",
    "#     def __init__(self,use_norm):\n",
    "#         super(Net, self).__init__()\n",
    "#         self.use_norm=use_norm\n",
    "#         # Input Block\n",
    "        \n",
    "#         if self.use_norm=='BATCH':\n",
    "#           norm1=nn.BatchNorm2d(14) ## adding self.norm1 adds the paramtere two times\n",
    "#         elif self.use_norm=='LAYER':\n",
    "#           norm1=nn.LayerNorm([14,26,26])\n",
    "#         else:# self.use_norm=='GROUP':\n",
    "#           norm1=nn.GroupNorm (NUM_GROUPS_FOR_GN,14)\n",
    "\n",
    "#         self.convblock1 = nn.Sequential(\n",
    "#             nn.Conv2d(in_channels=1, out_channels=14, kernel_size=(3, 3), padding=0, bias=False),\n",
    "#             nn.ReLU(),\n",
    "#             norm1,\n",
    "#             nn.Dropout(DROPOUT_VALUE)\n",
    "#         ) # output_size = 26\n",
    "\n",
    "        \n",
    "#         # CONVOLUTION BLOCK 1\n",
    "        \n",
    "#         if self.use_norm=='BATCH':\n",
    "#           norm2=nn.BatchNorm2d(28)\n",
    "#         elif self.use_norm=='LAYER':\n",
    "#           norm2=nn.LayerNorm([28,24,24])\n",
    "#         elif self.use_norm=='GROUP':\n",
    "#           norm2=nn.GroupNorm (NUM_GROUPS_FOR_GN,28)\n",
    "\n",
    "\n",
    "#         self.convblock2 = nn.Sequential(\n",
    "#             nn.Conv2d(in_channels=14, out_channels=28, kernel_size=(3, 3), padding=0, bias=False),\n",
    "#             nn.ReLU(),\n",
    "#             norm2,\n",
    "#             nn.Dropout(DROPOUT_VALUE)\n",
    "#         ) # output_size = 24\n",
    "\n",
    "#         # TRANSITION BLOCK 1\n",
    "#         self.convblock3 = nn.Sequential(\n",
    "#             nn.Conv2d(in_channels=28, out_channels=12, kernel_size=(1, 1), padding=0, bias=False),\n",
    "#         ) # output_size = 24\n",
    "#         self.pool1 = nn.MaxPool2d(2, 2) # output_size = 12\n",
    "\n",
    "#         # CONVOLUTION BLOCK 2\n",
    "#         if self.use_norm=='BATCH':\n",
    "#           norm3=nn.BatchNorm2d(14)\n",
    "#           norm4=nn.BatchNorm2d(12)\n",
    "#           norm5=nn.BatchNorm2d(12)\n",
    "#           norm6=nn.BatchNorm2d(12)\n",
    "        \n",
    "#         elif self.use_norm=='LAYER':\n",
    "#           norm3=nn.LayerNorm([14,10,10])\n",
    "#           norm4=nn.LayerNorm([12,8,8])\n",
    "#           norm5=nn.LayerNorm([12,6,6])\n",
    "#           norm6=nn.LayerNorm([12,6,6])\n",
    "          \n",
    "#         elif self.use_norm=='GROUP':\n",
    "#           norm3=nn.GroupNorm (NUM_GROUPS_FOR_GN,14)\n",
    "#           norm4=nn.GroupNorm (NUM_GROUPS_FOR_GN,12)\n",
    "#           norm5=nn.GroupNorm (NUM_GROUPS_FOR_GN,12)\n",
    "#           norm6=nn.GroupNorm (NUM_GROUPS_FOR_GN,12)\n",
    "        \n",
    "#         self.convblock4 = nn.Sequential(\n",
    "#             nn.Conv2d(in_channels=12, out_channels=14, kernel_size=(3, 3), padding=0, bias=False),\n",
    "#             nn.ReLU(),            \n",
    "#             norm3,\n",
    "#             nn.Dropout(DROPOUT_VALUE)\n",
    "#         ) # output_size = 10\n",
    "#         self.convblock5 = nn.Sequential(\n",
    "#             nn.Conv2d(in_channels=14, out_channels=12, kernel_size=(3, 3), padding=0, bias=False),\n",
    "#             nn.ReLU(),            \n",
    "#             norm4,\n",
    "#             nn.Dropout(DROPOUT_VALUE)\n",
    "#         ) # output_size = 8\n",
    "#         self.convblock6 = nn.Sequential(\n",
    "#             nn.Conv2d(in_channels=12, out_channels=12, kernel_size=(3, 3), padding=0, bias=False),\n",
    "#             nn.ReLU(),            \n",
    "#             norm5,\n",
    "#             nn.Dropout(DROPOUT_VALUE)\n",
    "#         ) # output_size = 6\n",
    "\n",
    "#         self.convblock7 = nn.Sequential(\n",
    "#             nn.Conv2d(in_channels=12, out_channels=12, kernel_size=(3, 3), padding=1, bias=False),\n",
    "#             nn.ReLU(),            \n",
    "#             norm6,\n",
    "#             nn.Dropout(DROPOUT_VALUE)\n",
    "#         ) # output_size = 6\n",
    "        \n",
    "#         # OUTPUT BLOCK\n",
    "#         self.gap = nn.Sequential(\n",
    "#             nn.AvgPool2d(kernel_size=6)\n",
    "#         ) # output_size = 1\n",
    "\n",
    "#         self.convblock8 = nn.Sequential(\n",
    "#             nn.Conv2d(in_channels=12, out_channels=10, kernel_size=(1, 1), padding=0, bias=False),\n",
    "#         )\n",
    "\n",
    "#         self.dropout = nn.Dropout(DROPOUT_VALUE)\n",
    "\n",
    "#     def forward(self, x):\n",
    "#         x = self.convblock1(x)\n",
    "#         x = self.convblock2(x)\n",
    "#         x = self.convblock3(x)\n",
    "#         x = self.pool1(x)\n",
    "#         x = self.convblock4(x)\n",
    "#         x = self.convblock5(x)\n",
    "#         x = self.convblock6(x)\n",
    "#         x = self.convblock7(x)\n",
    "#         x = self.gap(x)        \n",
    "#         x = self.convblock8(x)\n",
    "#         x = x.view(-1, 10)\n",
    "#         return F.log_softmax(x, dim=-1)\n",
    "\n",
    "\n",
    "#       "
   ]
  },
  {
   "cell_type": "markdown",
   "metadata": {
    "id": "M3-vp8X9LCWo"
   },
   "source": [
    "# Model Params\n",
    "Can't emphasize on how important viewing Model Summary is. \n",
    "Unfortunately, there is no in-built model visualizer, so we have to take external help"
   ]
  },
  {
   "cell_type": "code",
   "execution_count": 13,
   "metadata": {
    "colab": {
     "base_uri": "https://localhost:8080/"
    },
    "id": "5skB97zIJQQe",
    "outputId": "8006cac0-4a4f-4307-f055-ac43e5a62bfc"
   },
   "outputs": [
    {
     "name": "stdout",
     "output_type": "stream",
     "text": [
      "----------------------------------------------------------------\n",
      "        Layer (type)               Output Shape         Param #\n",
      "================================================================\n",
      "            Conv2d-1           [-1, 14, 26, 26]             126\n",
      "              ReLU-2           [-1, 14, 26, 26]               0\n",
      "         GroupNorm-3           [-1, 14, 26, 26]              28\n",
      "           Dropout-4           [-1, 14, 26, 26]               0\n",
      "            Conv2d-5           [-1, 28, 24, 24]           3,528\n",
      "              ReLU-6           [-1, 28, 24, 24]               0\n",
      "         GroupNorm-7           [-1, 28, 24, 24]              56\n",
      "           Dropout-8           [-1, 28, 24, 24]               0\n",
      "            Conv2d-9           [-1, 12, 24, 24]             336\n",
      "        MaxPool2d-10           [-1, 12, 12, 12]               0\n",
      "           Conv2d-11           [-1, 14, 10, 10]           1,512\n",
      "             ReLU-12           [-1, 14, 10, 10]               0\n",
      "        GroupNorm-13           [-1, 14, 10, 10]              28\n",
      "          Dropout-14           [-1, 14, 10, 10]               0\n",
      "           Conv2d-15             [-1, 12, 8, 8]           1,512\n",
      "             ReLU-16             [-1, 12, 8, 8]               0\n",
      "        GroupNorm-17             [-1, 12, 8, 8]              24\n",
      "          Dropout-18             [-1, 12, 8, 8]               0\n",
      "           Conv2d-19             [-1, 12, 6, 6]           1,296\n",
      "             ReLU-20             [-1, 12, 6, 6]               0\n",
      "        GroupNorm-21             [-1, 12, 6, 6]              24\n",
      "          Dropout-22             [-1, 12, 6, 6]               0\n",
      "           Conv2d-23             [-1, 12, 6, 6]           1,296\n",
      "             ReLU-24             [-1, 12, 6, 6]               0\n",
      "        GroupNorm-25             [-1, 12, 6, 6]              24\n",
      "          Dropout-26             [-1, 12, 6, 6]               0\n",
      "        AvgPool2d-27             [-1, 12, 1, 1]               0\n",
      "           Conv2d-28             [-1, 10, 1, 1]             120\n",
      "================================================================\n",
      "Total params: 9,910\n",
      "Trainable params: 9,910\n",
      "Non-trainable params: 0\n",
      "----------------------------------------------------------------\n",
      "Input size (MB): 0.00\n",
      "Forward/backward pass size (MB): 0.94\n",
      "Params size (MB): 0.04\n",
      "Estimated Total Size (MB): 0.98\n",
      "----------------------------------------------------------------\n"
     ]
    }
   ],
   "source": [
    "model = Net(\"GROUP\").to(device)\n",
    "summary(model, input_size=(1, 28, 28))"
   ]
  },
  {
   "cell_type": "markdown",
   "metadata": {
    "id": "1__x_SbrL7z3"
   },
   "source": [
    "# Training and Testing\n",
    "\n",
    "All right, so we have 6.3M params, and that's too many, we know that. But the purpose of this notebook is to set things right for our future experiments. \n",
    "\n",
    "Looking at logs can be boring, so we'll introduce **tqdm** progressbar to get cooler logs. \n",
    "\n",
    "Let's write train and test functions"
   ]
  },
  {
   "cell_type": "code",
   "execution_count": 14,
   "metadata": {
    "id": "fbkF2nN_LYIb"
   },
   "outputs": [],
   "source": [
    "from tqdm import tqdm\n",
    "\n",
    "def train(model, device, train_loader, optimizer,use_L1_regularization,epoch):\n",
    "  model.train()\n",
    "  pbar = tqdm(train_loader)\n",
    "  correct = 0\n",
    "  processed = 0\n",
    "  for batch_idx, (data, target) in enumerate(pbar):\n",
    "    # get samples\n",
    "    data, target = data.to(device), target.to(device)\n",
    "\n",
    "    # Init\n",
    "    optimizer.zero_grad()\n",
    "    # In PyTorch, we need to set the gradients to zero before starting to do backpropragation because PyTorch accumulates the gradients on subsequent backward passes. \n",
    "    # Because of this, when you start your training loop, ideally you should zero out the gradients so that you do the parameter update correctly.\n",
    "\n",
    "    # Predict\n",
    "    y_pred = model(data)\n",
    "\n",
    "    # Calculate loss\n",
    "    nll_loss = F.nll_loss(y_pred, target)\n",
    "    \n",
    "    \n",
    "    ## only in case of Batch Normalization\n",
    "    if use_L1_regularization==True:\n",
    "      #print(\"using the L1 regularization\")\n",
    "      reg_loss = sum([torch.sum(abs(param)) for param in model.parameters()])\n",
    "      loss= nll_loss + LAMBDA * reg_loss\n",
    "    else:\n",
    "      loss = nll_loss\n",
    "\n",
    "\n",
    "    train_losses.append(loss)\n",
    "\n",
    "    # Backpropagation\n",
    "    loss.backward()\n",
    "    optimizer.step()\n",
    "\n",
    "    # Update pbar-tqdm\n",
    "    \n",
    "    pred = y_pred.argmax(dim=1, keepdim=True)  # get the index of the max log-probability\n",
    "    correct += pred.eq(target.view_as(pred)).sum().item()\n",
    "    processed += len(data)\n",
    "\n",
    "    pbar.set_description(desc= f'Loss={loss.item()} Batch_id={batch_idx} Accuracy={100*correct/processed:0.2f}')\n",
    "    train_acc.append(100*correct/processed)\n",
    "\n",
    "def test(model, device, test_loader):\n",
    "    model.eval()\n",
    "    test_loss = 0\n",
    "    correct = 0\n",
    "    with torch.no_grad():\n",
    "        for data, target in test_loader:\n",
    "            data, target = data.to(device), target.to(device)\n",
    "            output = model(data)\n",
    "            test_loss += F.nll_loss(output, target, reduction='sum').item()  # sum up batch loss\n",
    "            pred = output.argmax(dim=1, keepdim=True)  # get the index of the max log-probability\n",
    "            correct += pred.eq(target.view_as(pred)).sum().item()\n",
    "\n",
    "    test_loss /= len(test_loader.dataset)\n",
    "    test_losses.append(test_loss)\n",
    "\n",
    "    print('\\nTest set: Average loss: {:.4f}, Accuracy: {}/{} ({:.2f}%)\\n'.format(\n",
    "        test_loss, correct, len(test_loader.dataset),\n",
    "        100. * correct / len(test_loader.dataset)))\n",
    "    \n",
    "    test_acc.append(100. * correct / len(test_loader.dataset))"
   ]
  },
  {
   "cell_type": "markdown",
   "metadata": {
    "id": "drokW8wWODKq"
   },
   "source": [
    "# Let's Train and test our model"
   ]
  },
  {
   "cell_type": "code",
   "execution_count": 15,
   "metadata": {
    "colab": {
     "base_uri": "https://localhost:8080/"
    },
    "id": "xMCFxeAKOB53",
    "outputId": "5c47e9b4-9c26-4056-d151-c87b9ec61c0a"
   },
   "outputs": [
    {
     "name": "stdout",
     "output_type": "stream",
     "text": [
      "******** using the LAYER noramlization technique ************\n",
      "EPOCH: 0\n"
     ]
    },
    {
     "name": "stderr",
     "output_type": "stream",
     "text": [
      "Loss=0.1402161419391632 Batch_id=468 Accuracy=82.13: 100%|██████████| 469/469 [00:18<00:00, 25.24it/s]\n"
     ]
    },
    {
     "name": "stdout",
     "output_type": "stream",
     "text": [
      "\n",
      "Test set: Average loss: 0.1838, Accuracy: 9586/10000 (95.86%)\n",
      "\n",
      "EPOCH: 1\n"
     ]
    },
    {
     "name": "stderr",
     "output_type": "stream",
     "text": [
      "Loss=0.08600936084985733 Batch_id=468 Accuracy=96.79: 100%|██████████| 469/469 [00:17<00:00, 26.40it/s]\n"
     ]
    },
    {
     "name": "stdout",
     "output_type": "stream",
     "text": [
      "\n",
      "Test set: Average loss: 0.0748, Accuracy: 9823/10000 (98.23%)\n",
      "\n",
      "EPOCH: 2\n"
     ]
    },
    {
     "name": "stderr",
     "output_type": "stream",
     "text": [
      "Loss=0.04755660519003868 Batch_id=468 Accuracy=97.58: 100%|██████████| 469/469 [00:17<00:00, 26.39it/s]\n"
     ]
    },
    {
     "name": "stdout",
     "output_type": "stream",
     "text": [
      "\n",
      "Test set: Average loss: 0.0612, Accuracy: 9832/10000 (98.32%)\n",
      "\n",
      "EPOCH: 3\n"
     ]
    },
    {
     "name": "stderr",
     "output_type": "stream",
     "text": [
      "Loss=0.06456423550844193 Batch_id=468 Accuracy=97.95: 100%|██████████| 469/469 [00:17<00:00, 26.35it/s]\n"
     ]
    },
    {
     "name": "stdout",
     "output_type": "stream",
     "text": [
      "\n",
      "Test set: Average loss: 0.0559, Accuracy: 9835/10000 (98.35%)\n",
      "\n",
      "EPOCH: 4\n"
     ]
    },
    {
     "name": "stderr",
     "output_type": "stream",
     "text": [
      "Loss=0.03855995461344719 Batch_id=468 Accuracy=98.16: 100%|██████████| 469/469 [00:17<00:00, 26.59it/s]\n"
     ]
    },
    {
     "name": "stdout",
     "output_type": "stream",
     "text": [
      "\n",
      "Test set: Average loss: 0.0379, Accuracy: 9899/10000 (98.99%)\n",
      "\n",
      "EPOCH: 5\n"
     ]
    },
    {
     "name": "stderr",
     "output_type": "stream",
     "text": [
      "Loss=0.09049808233976364 Batch_id=468 Accuracy=98.23: 100%|██████████| 469/469 [00:17<00:00, 26.36it/s]\n"
     ]
    },
    {
     "name": "stdout",
     "output_type": "stream",
     "text": [
      "\n",
      "Test set: Average loss: 0.0374, Accuracy: 9893/10000 (98.93%)\n",
      "\n",
      "EPOCH: 6\n"
     ]
    },
    {
     "name": "stderr",
     "output_type": "stream",
     "text": [
      "Loss=0.021616511046886444 Batch_id=468 Accuracy=98.36: 100%|██████████| 469/469 [00:17<00:00, 26.47it/s]\n"
     ]
    },
    {
     "name": "stdout",
     "output_type": "stream",
     "text": [
      "\n",
      "Test set: Average loss: 0.0293, Accuracy: 9916/10000 (99.16%)\n",
      "\n",
      "EPOCH: 7\n"
     ]
    },
    {
     "name": "stderr",
     "output_type": "stream",
     "text": [
      "Loss=0.023606477305293083 Batch_id=468 Accuracy=98.47: 100%|██████████| 469/469 [00:17<00:00, 26.41it/s]\n"
     ]
    },
    {
     "name": "stdout",
     "output_type": "stream",
     "text": [
      "\n",
      "Test set: Average loss: 0.0316, Accuracy: 9906/10000 (99.06%)\n",
      "\n",
      "EPOCH: 8\n"
     ]
    },
    {
     "name": "stderr",
     "output_type": "stream",
     "text": [
      "Loss=0.07828015834093094 Batch_id=468 Accuracy=98.49: 100%|██████████| 469/469 [00:17<00:00, 26.26it/s]\n"
     ]
    },
    {
     "name": "stdout",
     "output_type": "stream",
     "text": [
      "\n",
      "Test set: Average loss: 0.0295, Accuracy: 9911/10000 (99.11%)\n",
      "\n",
      "EPOCH: 9\n"
     ]
    },
    {
     "name": "stderr",
     "output_type": "stream",
     "text": [
      "Loss=0.011390302330255508 Batch_id=468 Accuracy=98.59: 100%|██████████| 469/469 [00:18<00:00, 25.78it/s]\n"
     ]
    },
    {
     "name": "stdout",
     "output_type": "stream",
     "text": [
      "\n",
      "Test set: Average loss: 0.0298, Accuracy: 9920/10000 (99.20%)\n",
      "\n",
      "EPOCH: 10\n"
     ]
    },
    {
     "name": "stderr",
     "output_type": "stream",
     "text": [
      "Loss=0.010474145412445068 Batch_id=468 Accuracy=98.68: 100%|██████████| 469/469 [00:17<00:00, 26.31it/s]\n"
     ]
    },
    {
     "name": "stdout",
     "output_type": "stream",
     "text": [
      "\n",
      "Test set: Average loss: 0.0268, Accuracy: 9919/10000 (99.19%)\n",
      "\n",
      "EPOCH: 11\n"
     ]
    },
    {
     "name": "stderr",
     "output_type": "stream",
     "text": [
      "Loss=0.011690839193761349 Batch_id=468 Accuracy=98.71: 100%|██████████| 469/469 [00:17<00:00, 26.36it/s]\n"
     ]
    },
    {
     "name": "stdout",
     "output_type": "stream",
     "text": [
      "\n",
      "Test set: Average loss: 0.0272, Accuracy: 9926/10000 (99.26%)\n",
      "\n",
      "EPOCH: 12\n"
     ]
    },
    {
     "name": "stderr",
     "output_type": "stream",
     "text": [
      "Loss=0.042521730065345764 Batch_id=468 Accuracy=98.78: 100%|██████████| 469/469 [00:18<00:00, 25.76it/s]\n"
     ]
    },
    {
     "name": "stdout",
     "output_type": "stream",
     "text": [
      "\n",
      "Test set: Average loss: 0.0302, Accuracy: 9907/10000 (99.07%)\n",
      "\n",
      "EPOCH: 13\n"
     ]
    },
    {
     "name": "stderr",
     "output_type": "stream",
     "text": [
      "Loss=0.009629773907363415 Batch_id=468 Accuracy=98.75: 100%|██████████| 469/469 [00:17<00:00, 26.23it/s]\n"
     ]
    },
    {
     "name": "stdout",
     "output_type": "stream",
     "text": [
      "\n",
      "Test set: Average loss: 0.0272, Accuracy: 9922/10000 (99.22%)\n",
      "\n",
      "EPOCH: 14\n"
     ]
    },
    {
     "name": "stderr",
     "output_type": "stream",
     "text": [
      "Loss=0.034883737564086914 Batch_id=468 Accuracy=98.85: 100%|██████████| 469/469 [00:17<00:00, 26.23it/s]\n"
     ]
    },
    {
     "name": "stdout",
     "output_type": "stream",
     "text": [
      "\n",
      "Test set: Average loss: 0.0259, Accuracy: 9925/10000 (99.25%)\n",
      "\n",
      "EPOCH: 15\n"
     ]
    },
    {
     "name": "stderr",
     "output_type": "stream",
     "text": [
      "Loss=0.03571765124797821 Batch_id=468 Accuracy=98.82: 100%|██████████| 469/469 [00:18<00:00, 25.88it/s]\n"
     ]
    },
    {
     "name": "stdout",
     "output_type": "stream",
     "text": [
      "\n",
      "Test set: Average loss: 0.0265, Accuracy: 9916/10000 (99.16%)\n",
      "\n",
      "EPOCH: 16\n"
     ]
    },
    {
     "name": "stderr",
     "output_type": "stream",
     "text": [
      "Loss=0.03400259092450142 Batch_id=468 Accuracy=98.88: 100%|██████████| 469/469 [00:18<00:00, 25.99it/s]\n"
     ]
    },
    {
     "name": "stdout",
     "output_type": "stream",
     "text": [
      "\n",
      "Test set: Average loss: 0.0298, Accuracy: 9910/10000 (99.10%)\n",
      "\n",
      "EPOCH: 17\n"
     ]
    },
    {
     "name": "stderr",
     "output_type": "stream",
     "text": [
      "Loss=0.03368214890360832 Batch_id=468 Accuracy=98.90: 100%|██████████| 469/469 [00:18<00:00, 25.91it/s]\n"
     ]
    },
    {
     "name": "stdout",
     "output_type": "stream",
     "text": [
      "\n",
      "Test set: Average loss: 0.0250, Accuracy: 9925/10000 (99.25%)\n",
      "\n",
      "EPOCH: 18\n"
     ]
    },
    {
     "name": "stderr",
     "output_type": "stream",
     "text": [
      "Loss=0.011252143420279026 Batch_id=468 Accuracy=98.83: 100%|██████████| 469/469 [00:18<00:00, 25.67it/s]\n"
     ]
    },
    {
     "name": "stdout",
     "output_type": "stream",
     "text": [
      "\n",
      "Test set: Average loss: 0.0283, Accuracy: 9916/10000 (99.16%)\n",
      "\n",
      "EPOCH: 19\n"
     ]
    },
    {
     "name": "stderr",
     "output_type": "stream",
     "text": [
      "Loss=0.017315400764346123 Batch_id=468 Accuracy=98.92: 100%|██████████| 469/469 [00:17<00:00, 26.26it/s]\n"
     ]
    },
    {
     "name": "stdout",
     "output_type": "stream",
     "text": [
      "\n",
      "Test set: Average loss: 0.0244, Accuracy: 9926/10000 (99.26%)\n",
      "\n",
      "******** using the BATCH noramlization technique ************\n",
      "EPOCH: 0\n"
     ]
    },
    {
     "name": "stderr",
     "output_type": "stream",
     "text": [
      "Loss=0.33334875106811523 Batch_id=468 Accuracy=88.04: 100%|██████████| 469/469 [00:19<00:00, 23.98it/s]\n"
     ]
    },
    {
     "name": "stdout",
     "output_type": "stream",
     "text": [
      "\n",
      "Test set: Average loss: 0.1250, Accuracy: 9629/10000 (96.29%)\n",
      "\n",
      "EPOCH: 1\n"
     ]
    },
    {
     "name": "stderr",
     "output_type": "stream",
     "text": [
      "Loss=0.29144468903541565 Batch_id=468 Accuracy=96.92: 100%|██████████| 469/469 [00:19<00:00, 24.49it/s]\n"
     ]
    },
    {
     "name": "stdout",
     "output_type": "stream",
     "text": [
      "\n",
      "Test set: Average loss: 0.0587, Accuracy: 9808/10000 (98.08%)\n",
      "\n",
      "EPOCH: 2\n"
     ]
    },
    {
     "name": "stderr",
     "output_type": "stream",
     "text": [
      "Loss=0.23092518746852875 Batch_id=468 Accuracy=97.22: 100%|██████████| 469/469 [00:18<00:00, 25.21it/s]\n"
     ]
    },
    {
     "name": "stdout",
     "output_type": "stream",
     "text": [
      "\n",
      "Test set: Average loss: 0.0489, Accuracy: 9847/10000 (98.47%)\n",
      "\n",
      "EPOCH: 3\n"
     ]
    },
    {
     "name": "stderr",
     "output_type": "stream",
     "text": [
      "Loss=0.2760586142539978 Batch_id=468 Accuracy=97.46: 100%|██████████| 469/469 [00:18<00:00, 25.34it/s]\n"
     ]
    },
    {
     "name": "stdout",
     "output_type": "stream",
     "text": [
      "\n",
      "Test set: Average loss: 0.0734, Accuracy: 9757/10000 (97.57%)\n",
      "\n",
      "EPOCH: 4\n"
     ]
    },
    {
     "name": "stderr",
     "output_type": "stream",
     "text": [
      "Loss=0.2640596032142639 Batch_id=468 Accuracy=97.58: 100%|██████████| 469/469 [00:18<00:00, 25.18it/s]\n"
     ]
    },
    {
     "name": "stdout",
     "output_type": "stream",
     "text": [
      "\n",
      "Test set: Average loss: 0.0432, Accuracy: 9871/10000 (98.71%)\n",
      "\n",
      "EPOCH: 5\n"
     ]
    },
    {
     "name": "stderr",
     "output_type": "stream",
     "text": [
      "Loss=0.20461390912532806 Batch_id=468 Accuracy=97.71: 100%|██████████| 469/469 [00:18<00:00, 25.29it/s]\n"
     ]
    },
    {
     "name": "stdout",
     "output_type": "stream",
     "text": [
      "\n",
      "Test set: Average loss: 0.0487, Accuracy: 9842/10000 (98.42%)\n",
      "\n",
      "EPOCH: 6\n"
     ]
    },
    {
     "name": "stderr",
     "output_type": "stream",
     "text": [
      "Loss=0.3236957788467407 Batch_id=468 Accuracy=97.83: 100%|██████████| 469/469 [00:18<00:00, 25.23it/s]\n"
     ]
    },
    {
     "name": "stdout",
     "output_type": "stream",
     "text": [
      "\n",
      "Test set: Average loss: 0.0431, Accuracy: 9858/10000 (98.58%)\n",
      "\n",
      "EPOCH: 7\n"
     ]
    },
    {
     "name": "stderr",
     "output_type": "stream",
     "text": [
      "Loss=0.20268923044204712 Batch_id=468 Accuracy=97.78: 100%|██████████| 469/469 [00:18<00:00, 25.15it/s]\n"
     ]
    },
    {
     "name": "stdout",
     "output_type": "stream",
     "text": [
      "\n",
      "Test set: Average loss: 0.0500, Accuracy: 9830/10000 (98.30%)\n",
      "\n",
      "EPOCH: 8\n"
     ]
    },
    {
     "name": "stderr",
     "output_type": "stream",
     "text": [
      "Loss=0.3284672498703003 Batch_id=468 Accuracy=97.83: 100%|██████████| 469/469 [00:18<00:00, 25.26it/s]\n"
     ]
    },
    {
     "name": "stdout",
     "output_type": "stream",
     "text": [
      "\n",
      "Test set: Average loss: 0.0496, Accuracy: 9849/10000 (98.49%)\n",
      "\n",
      "EPOCH: 9\n"
     ]
    },
    {
     "name": "stderr",
     "output_type": "stream",
     "text": [
      "Loss=0.28353482484817505 Batch_id=468 Accuracy=97.86: 100%|██████████| 469/469 [00:18<00:00, 25.35it/s]\n"
     ]
    },
    {
     "name": "stdout",
     "output_type": "stream",
     "text": [
      "\n",
      "Test set: Average loss: 0.0435, Accuracy: 9857/10000 (98.57%)\n",
      "\n",
      "EPOCH: 10\n"
     ]
    },
    {
     "name": "stderr",
     "output_type": "stream",
     "text": [
      "Loss=0.19784533977508545 Batch_id=468 Accuracy=97.86: 100%|██████████| 469/469 [00:18<00:00, 25.39it/s]\n"
     ]
    },
    {
     "name": "stdout",
     "output_type": "stream",
     "text": [
      "\n",
      "Test set: Average loss: 0.0430, Accuracy: 9875/10000 (98.75%)\n",
      "\n",
      "EPOCH: 11\n"
     ]
    },
    {
     "name": "stderr",
     "output_type": "stream",
     "text": [
      "Loss=0.1897834688425064 Batch_id=468 Accuracy=97.90: 100%|██████████| 469/469 [00:18<00:00, 25.49it/s]\n"
     ]
    },
    {
     "name": "stdout",
     "output_type": "stream",
     "text": [
      "\n",
      "Test set: Average loss: 0.0486, Accuracy: 9856/10000 (98.56%)\n",
      "\n",
      "EPOCH: 12\n"
     ]
    },
    {
     "name": "stderr",
     "output_type": "stream",
     "text": [
      "Loss=0.22028712928295135 Batch_id=468 Accuracy=97.81: 100%|██████████| 469/469 [00:18<00:00, 25.13it/s]\n"
     ]
    },
    {
     "name": "stdout",
     "output_type": "stream",
     "text": [
      "\n",
      "Test set: Average loss: 0.0443, Accuracy: 9860/10000 (98.60%)\n",
      "\n",
      "EPOCH: 13\n"
     ]
    },
    {
     "name": "stderr",
     "output_type": "stream",
     "text": [
      "Loss=0.24603287875652313 Batch_id=468 Accuracy=98.03: 100%|██████████| 469/469 [00:18<00:00, 25.32it/s]\n"
     ]
    },
    {
     "name": "stdout",
     "output_type": "stream",
     "text": [
      "\n",
      "Test set: Average loss: 0.0383, Accuracy: 9878/10000 (98.78%)\n",
      "\n",
      "EPOCH: 14\n"
     ]
    },
    {
     "name": "stderr",
     "output_type": "stream",
     "text": [
      "Loss=0.24506111443042755 Batch_id=468 Accuracy=97.90: 100%|██████████| 469/469 [00:18<00:00, 25.19it/s]\n"
     ]
    },
    {
     "name": "stdout",
     "output_type": "stream",
     "text": [
      "\n",
      "Test set: Average loss: 0.0413, Accuracy: 9882/10000 (98.82%)\n",
      "\n",
      "EPOCH: 15\n"
     ]
    },
    {
     "name": "stderr",
     "output_type": "stream",
     "text": [
      "Loss=0.1941656917333603 Batch_id=468 Accuracy=98.00: 100%|██████████| 469/469 [00:21<00:00, 21.55it/s]\n"
     ]
    },
    {
     "name": "stdout",
     "output_type": "stream",
     "text": [
      "\n",
      "Test set: Average loss: 0.0392, Accuracy: 9878/10000 (98.78%)\n",
      "\n",
      "EPOCH: 16\n"
     ]
    },
    {
     "name": "stderr",
     "output_type": "stream",
     "text": [
      "Loss=0.2193867564201355 Batch_id=468 Accuracy=97.99: 100%|██████████| 469/469 [00:20<00:00, 23.06it/s]\n"
     ]
    },
    {
     "name": "stdout",
     "output_type": "stream",
     "text": [
      "\n",
      "Test set: Average loss: 0.0475, Accuracy: 9845/10000 (98.45%)\n",
      "\n",
      "EPOCH: 17\n"
     ]
    },
    {
     "name": "stderr",
     "output_type": "stream",
     "text": [
      "Loss=0.20506557822227478 Batch_id=468 Accuracy=97.98: 100%|██████████| 469/469 [00:18<00:00, 25.18it/s]\n"
     ]
    },
    {
     "name": "stdout",
     "output_type": "stream",
     "text": [
      "\n",
      "Test set: Average loss: 0.0497, Accuracy: 9856/10000 (98.56%)\n",
      "\n",
      "EPOCH: 18\n"
     ]
    },
    {
     "name": "stderr",
     "output_type": "stream",
     "text": [
      "Loss=0.22920776903629303 Batch_id=468 Accuracy=98.07: 100%|██████████| 469/469 [00:18<00:00, 25.19it/s]\n"
     ]
    },
    {
     "name": "stdout",
     "output_type": "stream",
     "text": [
      "\n",
      "Test set: Average loss: 0.0372, Accuracy: 9890/10000 (98.90%)\n",
      "\n",
      "EPOCH: 19\n"
     ]
    },
    {
     "name": "stderr",
     "output_type": "stream",
     "text": [
      "Loss=0.18538497388362885 Batch_id=468 Accuracy=97.95: 100%|██████████| 469/469 [00:19<00:00, 23.87it/s]\n"
     ]
    },
    {
     "name": "stdout",
     "output_type": "stream",
     "text": [
      "\n",
      "Test set: Average loss: 0.0421, Accuracy: 9865/10000 (98.65%)\n",
      "\n",
      "******** using the GROUP noramlization technique ************\n",
      "EPOCH: 0\n"
     ]
    },
    {
     "name": "stderr",
     "output_type": "stream",
     "text": [
      "Loss=0.4269391894340515 Batch_id=468 Accuracy=80.35: 100%|██████████| 469/469 [00:19<00:00, 23.73it/s]\n"
     ]
    },
    {
     "name": "stdout",
     "output_type": "stream",
     "text": [
      "\n",
      "Test set: Average loss: 0.1278, Accuracy: 9660/10000 (96.60%)\n",
      "\n",
      "EPOCH: 1\n"
     ]
    },
    {
     "name": "stderr",
     "output_type": "stream",
     "text": [
      "Loss=0.29619574546813965 Batch_id=468 Accuracy=96.57: 100%|██████████| 469/469 [00:19<00:00, 23.72it/s]\n"
     ]
    },
    {
     "name": "stdout",
     "output_type": "stream",
     "text": [
      "\n",
      "Test set: Average loss: 0.0759, Accuracy: 9784/10000 (97.84%)\n",
      "\n",
      "EPOCH: 2\n"
     ]
    },
    {
     "name": "stderr",
     "output_type": "stream",
     "text": [
      "Loss=0.2837376594543457 Batch_id=468 Accuracy=97.18: 100%|██████████| 469/469 [00:19<00:00, 24.50it/s]\n"
     ]
    },
    {
     "name": "stdout",
     "output_type": "stream",
     "text": [
      "\n",
      "Test set: Average loss: 0.0591, Accuracy: 9826/10000 (98.26%)\n",
      "\n",
      "EPOCH: 3\n"
     ]
    },
    {
     "name": "stderr",
     "output_type": "stream",
     "text": [
      "Loss=0.2286786437034607 Batch_id=468 Accuracy=97.30: 100%|██████████| 469/469 [00:19<00:00, 24.66it/s]\n"
     ]
    },
    {
     "name": "stdout",
     "output_type": "stream",
     "text": [
      "\n",
      "Test set: Average loss: 0.0508, Accuracy: 9852/10000 (98.52%)\n",
      "\n",
      "EPOCH: 4\n"
     ]
    },
    {
     "name": "stderr",
     "output_type": "stream",
     "text": [
      "Loss=0.282257080078125 Batch_id=468 Accuracy=97.59: 100%|██████████| 469/469 [00:19<00:00, 24.29it/s]\n"
     ]
    },
    {
     "name": "stdout",
     "output_type": "stream",
     "text": [
      "\n",
      "Test set: Average loss: 0.0572, Accuracy: 9827/10000 (98.27%)\n",
      "\n",
      "EPOCH: 5\n"
     ]
    },
    {
     "name": "stderr",
     "output_type": "stream",
     "text": [
      "Loss=0.30794858932495117 Batch_id=468 Accuracy=97.50: 100%|██████████| 469/469 [00:19<00:00, 24.63it/s]\n"
     ]
    },
    {
     "name": "stdout",
     "output_type": "stream",
     "text": [
      "\n",
      "Test set: Average loss: 0.0662, Accuracy: 9814/10000 (98.14%)\n",
      "\n",
      "EPOCH: 6\n"
     ]
    },
    {
     "name": "stderr",
     "output_type": "stream",
     "text": [
      "Loss=0.33072829246520996 Batch_id=468 Accuracy=97.72: 100%|██████████| 469/469 [00:19<00:00, 24.41it/s]\n"
     ]
    },
    {
     "name": "stdout",
     "output_type": "stream",
     "text": [
      "\n",
      "Test set: Average loss: 0.0494, Accuracy: 9855/10000 (98.55%)\n",
      "\n",
      "EPOCH: 7\n"
     ]
    },
    {
     "name": "stderr",
     "output_type": "stream",
     "text": [
      "Loss=0.24396538734436035 Batch_id=468 Accuracy=97.77: 100%|██████████| 469/469 [00:19<00:00, 23.85it/s]\n"
     ]
    },
    {
     "name": "stdout",
     "output_type": "stream",
     "text": [
      "\n",
      "Test set: Average loss: 0.0481, Accuracy: 9860/10000 (98.60%)\n",
      "\n",
      "EPOCH: 8\n"
     ]
    },
    {
     "name": "stderr",
     "output_type": "stream",
     "text": [
      "Loss=0.22120115160942078 Batch_id=468 Accuracy=97.77: 100%|██████████| 469/469 [00:19<00:00, 24.68it/s]\n"
     ]
    },
    {
     "name": "stdout",
     "output_type": "stream",
     "text": [
      "\n",
      "Test set: Average loss: 0.0437, Accuracy: 9874/10000 (98.74%)\n",
      "\n",
      "EPOCH: 9\n"
     ]
    },
    {
     "name": "stderr",
     "output_type": "stream",
     "text": [
      "Loss=0.25016897916793823 Batch_id=468 Accuracy=97.74: 100%|██████████| 469/469 [00:19<00:00, 24.43it/s]\n"
     ]
    },
    {
     "name": "stdout",
     "output_type": "stream",
     "text": [
      "\n",
      "Test set: Average loss: 0.0621, Accuracy: 9818/10000 (98.18%)\n",
      "\n",
      "EPOCH: 10\n"
     ]
    },
    {
     "name": "stderr",
     "output_type": "stream",
     "text": [
      "Loss=0.21606214344501495 Batch_id=468 Accuracy=97.76: 100%|██████████| 469/469 [00:19<00:00, 23.84it/s]\n"
     ]
    },
    {
     "name": "stdout",
     "output_type": "stream",
     "text": [
      "\n",
      "Test set: Average loss: 0.0517, Accuracy: 9831/10000 (98.31%)\n",
      "\n",
      "EPOCH: 11\n"
     ]
    },
    {
     "name": "stderr",
     "output_type": "stream",
     "text": [
      "Loss=0.27314355969429016 Batch_id=468 Accuracy=97.85: 100%|██████████| 469/469 [00:19<00:00, 24.14it/s]\n"
     ]
    },
    {
     "name": "stdout",
     "output_type": "stream",
     "text": [
      "\n",
      "Test set: Average loss: 0.0409, Accuracy: 9871/10000 (98.71%)\n",
      "\n",
      "EPOCH: 12\n"
     ]
    },
    {
     "name": "stderr",
     "output_type": "stream",
     "text": [
      "Loss=0.26397964358329773 Batch_id=468 Accuracy=97.85: 100%|██████████| 469/469 [00:19<00:00, 24.55it/s]\n"
     ]
    },
    {
     "name": "stdout",
     "output_type": "stream",
     "text": [
      "\n",
      "Test set: Average loss: 0.0431, Accuracy: 9886/10000 (98.86%)\n",
      "\n",
      "EPOCH: 13\n"
     ]
    },
    {
     "name": "stderr",
     "output_type": "stream",
     "text": [
      "Loss=0.21748103201389313 Batch_id=468 Accuracy=97.89: 100%|██████████| 469/469 [00:19<00:00, 24.45it/s]\n"
     ]
    },
    {
     "name": "stdout",
     "output_type": "stream",
     "text": [
      "\n",
      "Test set: Average loss: 0.0319, Accuracy: 9897/10000 (98.97%)\n",
      "\n",
      "EPOCH: 14\n"
     ]
    },
    {
     "name": "stderr",
     "output_type": "stream",
     "text": [
      "Loss=0.2543211281299591 Batch_id=468 Accuracy=97.90: 100%|██████████| 469/469 [00:19<00:00, 24.41it/s]\n"
     ]
    },
    {
     "name": "stdout",
     "output_type": "stream",
     "text": [
      "\n",
      "Test set: Average loss: 0.0448, Accuracy: 9870/10000 (98.70%)\n",
      "\n",
      "EPOCH: 15\n"
     ]
    },
    {
     "name": "stderr",
     "output_type": "stream",
     "text": [
      "Loss=0.1907690018415451 Batch_id=468 Accuracy=97.87: 100%|██████████| 469/469 [00:19<00:00, 24.25it/s]\n"
     ]
    },
    {
     "name": "stdout",
     "output_type": "stream",
     "text": [
      "\n",
      "Test set: Average loss: 0.0526, Accuracy: 9846/10000 (98.46%)\n",
      "\n",
      "EPOCH: 16\n"
     ]
    },
    {
     "name": "stderr",
     "output_type": "stream",
     "text": [
      "Loss=0.17174012959003448 Batch_id=468 Accuracy=98.05: 100%|██████████| 469/469 [00:19<00:00, 23.61it/s]\n"
     ]
    },
    {
     "name": "stdout",
     "output_type": "stream",
     "text": [
      "\n",
      "Test set: Average loss: 0.0513, Accuracy: 9846/10000 (98.46%)\n",
      "\n",
      "EPOCH: 17\n"
     ]
    },
    {
     "name": "stderr",
     "output_type": "stream",
     "text": [
      "Loss=0.1925705522298813 Batch_id=468 Accuracy=97.97: 100%|██████████| 469/469 [00:19<00:00, 24.52it/s]\n"
     ]
    },
    {
     "name": "stdout",
     "output_type": "stream",
     "text": [
      "\n",
      "Test set: Average loss: 0.0411, Accuracy: 9874/10000 (98.74%)\n",
      "\n",
      "EPOCH: 18\n"
     ]
    },
    {
     "name": "stderr",
     "output_type": "stream",
     "text": [
      "Loss=0.2758805751800537 Batch_id=468 Accuracy=97.83: 100%|██████████| 469/469 [00:19<00:00, 23.98it/s]\n"
     ]
    },
    {
     "name": "stdout",
     "output_type": "stream",
     "text": [
      "\n",
      "Test set: Average loss: 0.0462, Accuracy: 9867/10000 (98.67%)\n",
      "\n",
      "EPOCH: 19\n"
     ]
    },
    {
     "name": "stderr",
     "output_type": "stream",
     "text": [
      "Loss=0.20668570697307587 Batch_id=468 Accuracy=97.93: 100%|██████████| 469/469 [00:19<00:00, 24.07it/s]\n"
     ]
    },
    {
     "name": "stdout",
     "output_type": "stream",
     "text": [
      "\n",
      "Test set: Average loss: 0.0383, Accuracy: 9888/10000 (98.88%)\n",
      "\n"
     ]
    }
   ],
   "source": [
    "from torch.optim.lr_scheduler import StepLR\n",
    "#scheduler = torch.optim.lr_scheduler.OneCycleLR(optimizer, max_lr=0.01, steps_per_epoch=len(train_loader), epochs=15)\n",
    "lstNorms=['LAYER','BATCH','GROUP']\n",
    "modelNamePrefix=\"normalizationModels_\"\n",
    "train_losses_dict = {}\n",
    "test_losses_dict = {}\n",
    "train_acc_dict = {}\n",
    "test_acc_dict = {}\n",
    "use_L1_regularization=False\n",
    "\n",
    "for norm in lstNorms:\n",
    "  print(\"******** using the \"+ norm+\" noramlization technique ************\")\n",
    "  model =  Net(norm).to(device)\n",
    "  ## oprimizerr & Scheduler\n",
    "  optimizer = optim.SGD(model.parameters(), lr=0.01, momentum=0.9)\n",
    "  #optimizer = optim.SGD(model.parameters(), lr=0.01, momentum=0.9)\n",
    "  #scheduler = StepLR(optimizer, step_size=6, gamma=0.1)\n",
    "  \n",
    "  ## variables to hold the losses & accuracy\n",
    "  train_losses = []\n",
    "  test_losses = []\n",
    "  train_acc = []\n",
    "  test_acc = []\n",
    "  \n",
    "  for epoch in range(EPOCHS):\n",
    "      print(\"EPOCH:\", epoch)\n",
    "      #print('LR:', scheduler.get_last_lr())\n",
    "      if(norm==\"BATCH\"):\n",
    "        use_L1_regularization=True      \n",
    "      train(model, device, train_loader, optimizer,use_L1_regularization, epoch)\n",
    "      test(model, device, test_loader)\n",
    "      #scheduler.step()\n",
    "  torch.save(model,\"/content/drive/MyDrive/Colab_Notebooks/EVA8/normalizationTechniques/Models/\"+modelNamePrefix+\"_\"+norm)\n",
    "  del model\n",
    "  \n",
    "  t=[t.cpu().item() for t in train_losses]\n",
    "  train_losses_dict[norm]=t\n",
    "  test_losses_dict[norm]=test_losses\n",
    "  train_acc_dict[norm]=train_acc\n",
    "  test_acc_dict[norm]=test_acc\n",
    "\n"
   ]
  },
  {
   "cell_type": "markdown",
   "metadata": {
    "id": "7XbJghZxBmbM"
   },
   "source": [
    "## Plotting the Results"
   ]
  },
  {
   "cell_type": "code",
   "execution_count": 16,
   "metadata": {
    "colab": {
     "base_uri": "https://localhost:8080/",
     "height": 828
    },
    "id": "RrMn9jkmuDCW",
    "outputId": "48ff3972-4206-4cf4-85c8-45d35c2ca475"
   },
   "outputs": [
    {
     "data": {
      "image/png": "[encoded data removed]",
      "text/plain": [
       "<Figure size 1080x1080 with 6 Axes>"
      ]
     },
     "metadata": {},
     "output_type": "display_data"
    }
   ],
   "source": [
    "\n",
    "## first bdirn the data to the cpu\n",
    "import numpy as np\n",
    "t=[t.cpu().item() for t in train_losses]\n",
    "import seaborn as sns\n",
    "import matplotlib.pyplot as plt\n",
    "sns.set()\n",
    "\n",
    "fig, axs = plt.subplots(2,3,figsize=(15,15))\n",
    "num_col=3\n",
    "num_row=2\n",
    "for i in range(num_row):\n",
    "  for j in range(num_col):\n",
    "    if(i==0):\n",
    "      axs[i, j].plot(test_losses_dict[lstNorms[j]])\n",
    "      axs[i,j].set_title(\"Test_Loss_\"+lstNorms[j])\n",
    "      #axs[i,j].set_xticks(range(0,21))\n",
    "\n",
    "    else:\n",
    "      axs[i, j].plot(test_acc_dict[lstNorms[j]])\n",
    "      axs[i,j].set_title(\"Test_Acc_\"+lstNorms[j])\n",
    "    axs[i,j].set_xlabel(\"Epochs\")  \n",
    "\n",
    "plt.show()\n",
    "\n",
    "\n",
    "     "
   ]
  },
  {
   "cell_type": "code",
   "execution_count": 21,
   "metadata": {
    "colab": {
     "base_uri": "https://localhost:8080/",
     "height": 832
    },
    "id": "o-f4O3EtiDqn",
    "outputId": "98f9c3bf-261a-43f9-ef85-168ffd110d79"
   },
   "outputs": [
    {
     "data": {
      "image/png": "[encoded data removed]",
      "text/plain": [
       "<Figure size 1080x1080 with 6 Axes>"
      ]
     },
     "metadata": {},
     "output_type": "display_data"
    }
   ],
   "source": [
    "## first bdirn the data to the cpu\n",
    "import numpy as np\n",
    "#t=[t.cpu().item() for t in train_losses]\n",
    "import seaborn as sns\n",
    "import matplotlib.pyplot as plt\n",
    "sns.set()\n",
    "\n",
    "fig, axs = plt.subplots(2,3,figsize=(15,15))\n",
    "num_col=3\n",
    "num_row=2\n",
    "for i in range(num_row):\n",
    "  for j in range(num_col):\n",
    "    if(i==0):\n",
    "      axs[i, j].plot(train_losses_dict[lstNorms[j]])\n",
    "      axs[i,j].set_title(\"Train_Loss_\"+lstNorms[j])\n",
    "      #axs[i,j].set_xticks(range(0,21))\n",
    "\n",
    "    else:\n",
    "      axs[i, j].plot(train_acc_dict[lstNorms[j]])\n",
    "      axs[i,j].set_title(\"Train_Acc_\"+lstNorms[j])\n",
    "    axs[i,j].set_xlabel(\"Epochs\")  \n",
    "\n",
    "plt.show()"
   ]
  },
  {
   "cell_type": "markdown",
   "metadata": {
    "id": "SDoT1N7Qtw1Y"
   },
   "source": [
    "## Checking for Misclassifications"
   ]
  },
  {
   "cell_type": "code",
   "execution_count": 22,
   "metadata": {
    "id": "tN61WU-BcFIF"
   },
   "outputs": [],
   "source": [
    "def get_misclassified(model, device, test_loader):\n",
    "    misclassified = []\n",
    "    misclassified_pred = []\n",
    "    misclassified_target = []\n",
    "    # put the model to evaluation mode\n",
    "    model.eval()\n",
    "    # turn off gradients\n",
    "    with torch.no_grad():\n",
    "        for data, target in test_loader:\n",
    "            # move them to the respective device\n",
    "            data, target = data.to(device), target.to(device)\n",
    "            # do inferencing\n",
    "            output = model(data)\n",
    "            # get the predicted output\n",
    "            pred = output.argmax(dim=1, keepdim=True)\n",
    "\n",
    "            # get the current misclassified in this batch\n",
    "            list_misclassified = (pred.eq(target.view_as(pred)) == False)\n",
    "            batch_misclassified = data[list_misclassified]\n",
    "            batch_mis_pred = pred[list_misclassified]\n",
    "            batch_mis_target = target.view_as(pred)[list_misclassified]\n",
    "\n",
    "            # batch_misclassified =\n",
    "\n",
    "            misclassified.append(batch_misclassified)\n",
    "            misclassified_pred.append(batch_mis_pred)\n",
    "            misclassified_target.append(batch_mis_target)\n",
    "\n",
    "    # group all the batched together\n",
    "    misclassified = torch.cat(misclassified)\n",
    "    misclassified_pred = torch.cat(misclassified_pred)\n",
    "    misclassified_target = torch.cat(misclassified_target)\n",
    "\n",
    "    return list(map(lambda x, y, z: (x, y, z), misclassified, misclassified_pred, misclassified_target))\n",
    "     "
   ]
  },
  {
   "cell_type": "code",
   "execution_count": 19,
   "metadata": {
    "id": "fihs5kRtcMM7"
   },
   "outputs": [],
   "source": [
    "def plotMisclassified(misclassified):\n",
    "  import seaborn as sns\n",
    "  import matplotlib.pyplot as plt\n",
    "  num_images = 10\n",
    "  num_row=5\n",
    "  num_col=2\n",
    "  #fig = plt.figure()\n",
    "  fig, axes = plt.subplots(num_row, num_col, figsize=(1.5*num_col,2*num_row))\n",
    "  for idx, (image, pred, target) in enumerate(misclassified[:num_images]):\n",
    "      image, pred, target = image.cpu().numpy(), pred.cpu(), target.cpu()\n",
    "      # ax = fig.add_subplot(2, 5, idx+1)\n",
    "      ax=axes[idx//num_col, idx%num_col]\n",
    "      ax.axis('off')\n",
    "\n",
    "      ax.set_title('\\ntarget {},pred {}'.format(target.item(), pred.item()), fontsize=10)\n",
    "      ax.imshow(image,interpolation='bilinear')\n",
    "      ax.axis('off')\n",
    "  #plt.tight_layout()\n",
    "  #plt.figure(12,12)\n",
    "  plt.show()"
   ]
  },
  {
   "cell_type": "code",
   "execution_count": 23,
   "metadata": {
    "colab": {
     "base_uri": "https://localhost:8080/",
     "height": 1000
    },
    "id": "VzWjWXFqcIO2",
    "outputId": "31c1c9a0-6321-4600-a2f4-f52fae586dd7"
   },
   "outputs": [
    {
     "name": "stdout",
     "output_type": "stream",
     "text": [
      "Getting Misclassifications for the Model with Norm  LAYER\n"
     ]
    },
    {
     "data": {
      "image/png": "[encoded data removed]",
      "text/plain": [
       "<Figure size 216x720 with 10 Axes>"
      ]
     },
     "metadata": {},
     "output_type": "display_data"
    },
    {
     "name": "stdout",
     "output_type": "stream",
     "text": [
      "********************************\n",
      "Getting Misclassifications for the Model with Norm  BATCH\n"
     ]
    },
    {
     "data": {
      "image/png": "[encoded data removed]",
      "text/plain": [
       "<Figure size 216x720 with 10 Axes>"
      ]
     },
     "metadata": {},
     "output_type": "display_data"
    },
    {
     "name": "stdout",
     "output_type": "stream",
     "text": [
      "********************************\n",
      "Getting Misclassifications for the Model with Norm  GROUP\n"
     ]
    },
    {
     "data": {
      "image/png": "[encoded data removed]",
      "text/plain": [
       "<Figure size 216x720 with 10 Axes>"
      ]
     },
     "metadata": {},
     "output_type": "display_data"
    },
    {
     "name": "stdout",
     "output_type": "stream",
     "text": [
      "********************************\n"
     ]
    }
   ],
   "source": [
    "for norm in lstNorms:\n",
    "  print(\"Getting Misclassifications for the Model with Norm \",norm)\n",
    "  model=torch.load(\"/content/drive/MyDrive/Colab_Notebooks/EVA8/normalizationTechniques/Models/\"+modelNamePrefix+\"_\"+norm)\n",
    "  misclassified = get_misclassified(model, device, test_loader)\n",
    "  plotMisclassified(misclassified)\n",
    "  print(\"********************************\")\n"
   ]
  }
 ],
 "metadata": {
  "accelerator": "GPU",
  "colab": {
   "provenance": []
  },
  "gpuClass": "standard",
  "kernelspec": {
   "display_name": "Python 3 (ipykernel)",
   "language": "python",
   "name": "python3"
  },
  "language_info": {
   "codemirror_mode": {
    "name": "ipython",
    "version": 3
   },
   "file_extension": ".py",
   "mimetype": "text/x-python",
   "name": "python",
   "nbconvert_exporter": "python",
   "pygments_lexer": "ipython3",
   "version": "3.7.11"
  },
  "widgets": {
   "application/vnd.jupyter.widget-state+json": {
    "16074b0103704eebb34ecd441070b6ac": {
     "model_module": "@jupyter-widgets/controls",
     "model_module_version": "1.5.0",
     "model_name": "DescriptionStyleModel",
     "state": {
      "_model_module": "@jupyter-widgets/controls",
      "_model_module_version": "1.5.0",
      "_model_name": "DescriptionStyleModel",
      "_view_count": null,
      "_view_module": "@jupyter-widgets/base",
      "_view_module_version": "1.2.0",
      "_view_name": "StyleView",
      "description_width": ""
     }
    },
    "176972ed189c4baf9e0efe00c598a19c": {
     "model_module": "@jupyter-widgets/controls",
     "model_module_version": "1.5.0",
     "model_name": "HTMLModel",
     "state": {
      "_dom_classes": [],
      "_model_module": "@jupyter-widgets/controls",
      "_model_module_version": "1.5.0",
      "_model_name": "HTMLModel",
      "_view_count": null,
      "_view_module": "@jupyter-widgets/controls",
      "_view_module_version": "1.5.0",
      "_view_name": "HTMLView",
      "description": "",
      "description_tooltip": null,
      "layout": "IPY_MODEL_c72187c2c95d48628accb382c01ac955",
      "placeholder": "​",
      "style": "IPY_MODEL_3b2e3bab4a6942a58811ea03450590ef",
      "value": "100%"
     }
    },
    "209859e436d745d199165e61a66bba26": {
     "model_module": "@jupyter-widgets/controls",
     "model_module_version": "1.5.0",
     "model_name": "HBoxModel",
     "state": {
      "_dom_classes": [],
      "_model_module": "@jupyter-widgets/controls",
      "_model_module_version": "1.5.0",
      "_model_name": "HBoxModel",
      "_view_count": null,
      "_view_module": "@jupyter-widgets/controls",
      "_view_module_version": "1.5.0",
      "_view_name": "HBoxView",
      "box_style": "",
      "children": [
       "IPY_MODEL_76ecec0247c44b75a0bc8722714a6137",
       "IPY_MODEL_8da4fb2b91b54e598777d515f48fa9ba",
       "IPY_MODEL_4dfb01d6aa3240f1904e547f253d7aa2"
      ],
      "layout": "IPY_MODEL_a916b6ad28494cef9fead13825631180"
     }
    },
    "2a16fb6d8e20467895b55c68a48cbb32": {
     "model_module": "@jupyter-widgets/base",
     "model_module_version": "1.2.0",
     "model_name": "LayoutModel",
     "state": {
      "_model_module": "@jupyter-widgets/base",
      "_model_module_version": "1.2.0",
      "_model_name": "LayoutModel",
      "_view_count": null,
      "_view_module": "@jupyter-widgets/base",
      "_view_module_version": "1.2.0",
      "_view_name": "LayoutView",
      "align_content": null,
      "align_items": null,
      "align_self": null,
      "border": null,
      "bottom": null,
      "display": null,
      "flex": null,
      "flex_flow": null,
      "grid_area": null,
      "grid_auto_columns": null,
      "grid_auto_flow": null,
      "grid_auto_rows": null,
      "grid_column": null,
      "grid_gap": null,
      "grid_row": null,
      "grid_template_areas": null,
      "grid_template_columns": null,
      "grid_template_rows": null,
      "height": null,
      "justify_content": null,
      "justify_items": null,
      "left": null,
      "margin": null,
      "max_height": null,
      "max_width": null,
      "min_height": null,
      "min_width": null,
      "object_fit": null,
      "object_position": null,
      "order": null,
      "overflow": null,
      "overflow_x": null,
      "overflow_y": null,
      "padding": null,
      "right": null,
      "top": null,
      "visibility": null,
      "width": null
     }
    },
    "3283d82e1fa54f09822f61a8ddd7ecd1": {
     "model_module": "@jupyter-widgets/base",
     "model_module_version": "1.2.0",
     "model_name": "LayoutModel",
     "state": {
      "_model_module": "@jupyter-widgets/base",
      "_model_module_version": "1.2.0",
      "_model_name": "LayoutModel",
      "_view_count": null,
      "_view_module": "@jupyter-widgets/base",
      "_view_module_version": "1.2.0",
      "_view_name": "LayoutView",
      "align_content": null,
      "align_items": null,
      "align_self": null,
      "border": null,
      "bottom": null,
      "display": null,
      "flex": null,
      "flex_flow": null,
      "grid_area": null,
      "grid_auto_columns": null,
      "grid_auto_flow": null,
      "grid_auto_rows": null,
      "grid_column": null,
      "grid_gap": null,
      "grid_row": null,
      "grid_template_areas": null,
      "grid_template_columns": null,
      "grid_template_rows": null,
      "height": null,
      "justify_content": null,
      "justify_items": null,
      "left": null,
      "margin": null,
      "max_height": null,
      "max_width": null,
      "min_height": null,
      "min_width": null,
      "object_fit": null,
      "object_position": null,
      "order": null,
      "overflow": null,
      "overflow_x": null,
      "overflow_y": null,
      "padding": null,
      "right": null,
      "top": null,
      "visibility": null,
      "width": null
     }
    },
    "3476adcba1ed419ca836bf3ef51f2fec": {
     "model_module": "@jupyter-widgets/controls",
     "model_module_version": "1.5.0",
     "model_name": "ProgressStyleModel",
     "state": {
      "_model_module": "@jupyter-widgets/controls",
      "_model_module_version": "1.5.0",
      "_model_name": "ProgressStyleModel",
      "_view_count": null,
      "_view_module": "@jupyter-widgets/base",
      "_view_module_version": "1.2.0",
      "_view_name": "StyleView",
      "bar_color": null,
      "description_width": ""
     }
    },
    "3596ec97d9df4e8cb7a6bc7cb8d63b63": {
     "model_module": "@jupyter-widgets/controls",
     "model_module_version": "1.5.0",
     "model_name": "ProgressStyleModel",
     "state": {
      "_model_module": "@jupyter-widgets/controls",
      "_model_module_version": "1.5.0",
      "_model_name": "ProgressStyleModel",
      "_view_count": null,
      "_view_module": "@jupyter-widgets/base",
      "_view_module_version": "1.2.0",
      "_view_name": "StyleView",
      "bar_color": null,
      "description_width": ""
     }
    },
    "3b2e3bab4a6942a58811ea03450590ef": {
     "model_module": "@jupyter-widgets/controls",
     "model_module_version": "1.5.0",
     "model_name": "DescriptionStyleModel",
     "state": {
      "_model_module": "@jupyter-widgets/controls",
      "_model_module_version": "1.5.0",
      "_model_name": "DescriptionStyleModel",
      "_view_count": null,
      "_view_module": "@jupyter-widgets/base",
      "_view_module_version": "1.2.0",
      "_view_name": "StyleView",
      "description_width": ""
     }
    },
    "3bb009e9a23f4c36814551c41565b777": {
     "model_module": "@jupyter-widgets/controls",
     "model_module_version": "1.5.0",
     "model_name": "HTMLModel",
     "state": {
      "_dom_classes": [],
      "_model_module": "@jupyter-widgets/controls",
      "_model_module_version": "1.5.0",
      "_model_name": "HTMLModel",
      "_view_count": null,
      "_view_module": "@jupyter-widgets/controls",
      "_view_module_version": "1.5.0",
      "_view_name": "HTMLView",
      "description": "",
      "description_tooltip": null,
      "layout": "IPY_MODEL_2a16fb6d8e20467895b55c68a48cbb32",
      "placeholder": "​",
      "style": "IPY_MODEL_dc93c2e40e714cd1a3b8344850b5d9cb",
      "value": "100%"
     }
    },
    "4dfb01d6aa3240f1904e547f253d7aa2": {
     "model_module": "@jupyter-widgets/controls",
     "model_module_version": "1.5.0",
     "model_name": "HTMLModel",
     "state": {
      "_dom_classes": [],
      "_model_module": "@jupyter-widgets/controls",
      "_model_module_version": "1.5.0",
      "_model_name": "HTMLModel",
      "_view_count": null,
      "_view_module": "@jupyter-widgets/controls",
      "_view_module_version": "1.5.0",
      "_view_name": "HTMLView",
      "description": "",
      "description_tooltip": null,
      "layout": "IPY_MODEL_dc8f5d480f4946a182150bb5940ff48c",
      "placeholder": "​",
      "style": "IPY_MODEL_75f776802cfb410e87f073e7688f2592",
      "value": " 9912422/9912422 [00:00&lt;00:00, 20713104.56it/s]"
     }
    },
    "6ef77d7b7c4446849419416a8bb3cf86": {
     "model_module": "@jupyter-widgets/base",
     "model_module_version": "1.2.0",
     "model_name": "LayoutModel",
     "state": {
      "_model_module": "@jupyter-widgets/base",
      "_model_module_version": "1.2.0",
      "_model_name": "LayoutModel",
      "_view_count": null,
      "_view_module": "@jupyter-widgets/base",
      "_view_module_version": "1.2.0",
      "_view_name": "LayoutView",
      "align_content": null,
      "align_items": null,
      "align_self": null,
      "border": null,
      "bottom": null,
      "display": null,
      "flex": null,
      "flex_flow": null,
      "grid_area": null,
      "grid_auto_columns": null,
      "grid_auto_flow": null,
      "grid_auto_rows": null,
      "grid_column": null,
      "grid_gap": null,
      "grid_row": null,
      "grid_template_areas": null,
      "grid_template_columns": null,
      "grid_template_rows": null,
      "height": null,
      "justify_content": null,
      "justify_items": null,
      "left": null,
      "margin": null,
      "max_height": null,
      "max_width": null,
      "min_height": null,
      "min_width": null,
      "object_fit": null,
      "object_position": null,
      "order": null,
      "overflow": null,
      "overflow_x": null,
      "overflow_y": null,
      "padding": null,
      "right": null,
      "top": null,
      "visibility": null,
      "width": null
     }
    },
    "753699e93b294a3a9887235725658948": {
     "model_module": "@jupyter-widgets/controls",
     "model_module_version": "1.5.0",
     "model_name": "ProgressStyleModel",
     "state": {
      "_model_module": "@jupyter-widgets/controls",
      "_model_module_version": "1.5.0",
      "_model_name": "ProgressStyleModel",
      "_view_count": null,
      "_view_module": "@jupyter-widgets/base",
      "_view_module_version": "1.2.0",
      "_view_name": "StyleView",
      "bar_color": null,
      "description_width": ""
     }
    },
    "75f776802cfb410e87f073e7688f2592": {
     "model_module": "@jupyter-widgets/controls",
     "model_module_version": "1.5.0",
     "model_name": "DescriptionStyleModel",
     "state": {
      "_model_module": "@jupyter-widgets/controls",
      "_model_module_version": "1.5.0",
      "_model_name": "DescriptionStyleModel",
      "_view_count": null,
      "_view_module": "@jupyter-widgets/base",
      "_view_module_version": "1.2.0",
      "_view_name": "StyleView",
      "description_width": ""
     }
    },
    "76ecec0247c44b75a0bc8722714a6137": {
     "model_module": "@jupyter-widgets/controls",
     "model_module_version": "1.5.0",
     "model_name": "HTMLModel",
     "state": {
      "_dom_classes": [],
      "_model_module": "@jupyter-widgets/controls",
      "_model_module_version": "1.5.0",
      "_model_name": "HTMLModel",
      "_view_count": null,
      "_view_module": "@jupyter-widgets/controls",
      "_view_module_version": "1.5.0",
      "_view_name": "HTMLView",
      "description": "",
      "description_tooltip": null,
      "layout": "IPY_MODEL_6ef77d7b7c4446849419416a8bb3cf86",
      "placeholder": "​",
      "style": "IPY_MODEL_16074b0103704eebb34ecd441070b6ac",
      "value": "100%"
     }
    },
    "7d160a6262c84be8a2db863dc394ac0c": {
     "model_module": "@jupyter-widgets/controls",
     "model_module_version": "1.5.0",
     "model_name": "HTMLModel",
     "state": {
      "_dom_classes": [],
      "_model_module": "@jupyter-widgets/controls",
      "_model_module_version": "1.5.0",
      "_model_name": "HTMLModel",
      "_view_count": null,
      "_view_module": "@jupyter-widgets/controls",
      "_view_module_version": "1.5.0",
      "_view_name": "HTMLView",
      "description": "",
      "description_tooltip": null,
      "layout": "IPY_MODEL_ca047f1c8f994a9195e5860df7af9bb1",
      "placeholder": "​",
      "style": "IPY_MODEL_8710c64b70a849158399aa326d1c3cea",
      "value": " 28881/28881 [00:00&lt;00:00, 609779.23it/s]"
     }
    },
    "81eb6cf8683740239d404a14a70d321d": {
     "model_module": "@jupyter-widgets/controls",
     "model_module_version": "1.5.0",
     "model_name": "HTMLModel",
     "state": {
      "_dom_classes": [],
      "_model_module": "@jupyter-widgets/controls",
      "_model_module_version": "1.5.0",
      "_model_name": "HTMLModel",
      "_view_count": null,
      "_view_module": "@jupyter-widgets/controls",
      "_view_module_version": "1.5.0",
      "_view_name": "HTMLView",
      "description": "",
      "description_tooltip": null,
      "layout": "IPY_MODEL_3283d82e1fa54f09822f61a8ddd7ecd1",
      "placeholder": "​",
      "style": "IPY_MODEL_9f106ab467ba4d3b866f375db555455f",
      "value": " 4542/4542 [00:00&lt;00:00, 27188.44it/s]"
     }
    },
    "8710c64b70a849158399aa326d1c3cea": {
     "model_module": "@jupyter-widgets/controls",
     "model_module_version": "1.5.0",
     "model_name": "DescriptionStyleModel",
     "state": {
      "_model_module": "@jupyter-widgets/controls",
      "_model_module_version": "1.5.0",
      "_model_name": "DescriptionStyleModel",
      "_view_count": null,
      "_view_module": "@jupyter-widgets/base",
      "_view_module_version": "1.2.0",
      "_view_name": "StyleView",
      "description_width": ""
     }
    },
    "8da4fb2b91b54e598777d515f48fa9ba": {
     "model_module": "@jupyter-widgets/controls",
     "model_module_version": "1.5.0",
     "model_name": "FloatProgressModel",
     "state": {
      "_dom_classes": [],
      "_model_module": "@jupyter-widgets/controls",
      "_model_module_version": "1.5.0",
      "_model_name": "FloatProgressModel",
      "_view_count": null,
      "_view_module": "@jupyter-widgets/controls",
      "_view_module_version": "1.5.0",
      "_view_name": "ProgressView",
      "bar_style": "success",
      "description": "",
      "description_tooltip": null,
      "layout": "IPY_MODEL_a718ad818af04c1fbebe9805fe0ec4a6",
      "max": 9912422,
      "min": 0,
      "orientation": "horizontal",
      "style": "IPY_MODEL_3476adcba1ed419ca836bf3ef51f2fec",
      "value": 9912422
     }
    },
    "99083da8ab6a42279e4b74955c97ea40": {
     "model_module": "@jupyter-widgets/controls",
     "model_module_version": "1.5.0",
     "model_name": "DescriptionStyleModel",
     "state": {
      "_model_module": "@jupyter-widgets/controls",
      "_model_module_version": "1.5.0",
      "_model_name": "DescriptionStyleModel",
      "_view_count": null,
      "_view_module": "@jupyter-widgets/base",
      "_view_module_version": "1.2.0",
      "_view_name": "StyleView",
      "description_width": ""
     }
    },
    "9c7d429783bb461e80f83c817e3acbd6": {
     "model_module": "@jupyter-widgets/controls",
     "model_module_version": "1.5.0",
     "model_name": "HBoxModel",
     "state": {
      "_dom_classes": [],
      "_model_module": "@jupyter-widgets/controls",
      "_model_module_version": "1.5.0",
      "_model_name": "HBoxModel",
      "_view_count": null,
      "_view_module": "@jupyter-widgets/controls",
      "_view_module_version": "1.5.0",
      "_view_name": "HBoxView",
      "box_style": "",
      "children": [
       "IPY_MODEL_176972ed189c4baf9e0efe00c598a19c",
       "IPY_MODEL_a826001fb13248f6aa724fdca26bfad8",
       "IPY_MODEL_e488ba031e764a6b82ca97c6bd8c13e3"
      ],
      "layout": "IPY_MODEL_ec2c97254b5742c8a0a2d2e60edb845e"
     }
    },
    "9f106ab467ba4d3b866f375db555455f": {
     "model_module": "@jupyter-widgets/controls",
     "model_module_version": "1.5.0",
     "model_name": "DescriptionStyleModel",
     "state": {
      "_model_module": "@jupyter-widgets/controls",
      "_model_module_version": "1.5.0",
      "_model_name": "DescriptionStyleModel",
      "_view_count": null,
      "_view_module": "@jupyter-widgets/base",
      "_view_module_version": "1.2.0",
      "_view_name": "StyleView",
      "description_width": ""
     }
    },
    "a4a37f2ff9924ab29763af0b2b93157d": {
     "model_module": "@jupyter-widgets/controls",
     "model_module_version": "1.5.0",
     "model_name": "FloatProgressModel",
     "state": {
      "_dom_classes": [],
      "_model_module": "@jupyter-widgets/controls",
      "_model_module_version": "1.5.0",
      "_model_name": "FloatProgressModel",
      "_view_count": null,
      "_view_module": "@jupyter-widgets/controls",
      "_view_module_version": "1.5.0",
      "_view_name": "ProgressView",
      "bar_style": "success",
      "description": "",
      "description_tooltip": null,
      "layout": "IPY_MODEL_e8f410b687254dd2b8c08f11b9c31795",
      "max": 4542,
      "min": 0,
      "orientation": "horizontal",
      "style": "IPY_MODEL_3596ec97d9df4e8cb7a6bc7cb8d63b63",
      "value": 4542
     }
    },
    "a718ad818af04c1fbebe9805fe0ec4a6": {
     "model_module": "@jupyter-widgets/base",
     "model_module_version": "1.2.0",
     "model_name": "LayoutModel",
     "state": {
      "_model_module": "@jupyter-widgets/base",
      "_model_module_version": "1.2.0",
      "_model_name": "LayoutModel",
      "_view_count": null,
      "_view_module": "@jupyter-widgets/base",
      "_view_module_version": "1.2.0",
      "_view_name": "LayoutView",
      "align_content": null,
      "align_items": null,
      "align_self": null,
      "border": null,
      "bottom": null,
      "display": null,
      "flex": null,
      "flex_flow": null,
      "grid_area": null,
      "grid_auto_columns": null,
      "grid_auto_flow": null,
      "grid_auto_rows": null,
      "grid_column": null,
      "grid_gap": null,
      "grid_row": null,
      "grid_template_areas": null,
      "grid_template_columns": null,
      "grid_template_rows": null,
      "height": null,
      "justify_content": null,
      "justify_items": null,
      "left": null,
      "margin": null,
      "max_height": null,
      "max_width": null,
      "min_height": null,
      "min_width": null,
      "object_fit": null,
      "object_position": null,
      "order": null,
      "overflow": null,
      "overflow_x": null,
      "overflow_y": null,
      "padding": null,
      "right": null,
      "top": null,
      "visibility": null,
      "width": null
     }
    },
    "a826001fb13248f6aa724fdca26bfad8": {
     "model_module": "@jupyter-widgets/controls",
     "model_module_version": "1.5.0",
     "model_name": "FloatProgressModel",
     "state": {
      "_dom_classes": [],
      "_model_module": "@jupyter-widgets/controls",
      "_model_module_version": "1.5.0",
      "_model_name": "FloatProgressModel",
      "_view_count": null,
      "_view_module": "@jupyter-widgets/controls",
      "_view_module_version": "1.5.0",
      "_view_name": "ProgressView",
      "bar_style": "success",
      "description": "",
      "description_tooltip": null,
      "layout": "IPY_MODEL_d9f5531365c14b12a43c740a44955ad0",
      "max": 1648877,
      "min": 0,
      "orientation": "horizontal",
      "style": "IPY_MODEL_d690e63a7a314e03836ce88ff4bb2a38",
      "value": 1648877
     }
    },
    "a874ab73c2ba4c5a89e6a55203e8e198": {
     "model_module": "@jupyter-widgets/controls",
     "model_module_version": "1.5.0",
     "model_name": "HTMLModel",
     "state": {
      "_dom_classes": [],
      "_model_module": "@jupyter-widgets/controls",
      "_model_module_version": "1.5.0",
      "_model_name": "HTMLModel",
      "_view_count": null,
      "_view_module": "@jupyter-widgets/controls",
      "_view_module_version": "1.5.0",
      "_view_name": "HTMLView",
      "description": "",
      "description_tooltip": null,
      "layout": "IPY_MODEL_e5f8d357da0b4b678ed30e4af2a7d09f",
      "placeholder": "​",
      "style": "IPY_MODEL_c612b16f554f4ed8a6dc66ca46243fd9",
      "value": "100%"
     }
    },
    "a916b6ad28494cef9fead13825631180": {
     "model_module": "@jupyter-widgets/base",
     "model_module_version": "1.2.0",
     "model_name": "LayoutModel",
     "state": {
      "_model_module": "@jupyter-widgets/base",
      "_model_module_version": "1.2.0",
      "_model_name": "LayoutModel",
      "_view_count": null,
      "_view_module": "@jupyter-widgets/base",
      "_view_module_version": "1.2.0",
      "_view_name": "LayoutView",
      "align_content": null,
      "align_items": null,
      "align_self": null,
      "border": null,
      "bottom": null,
      "display": null,
      "flex": null,
      "flex_flow": null,
      "grid_area": null,
      "grid_auto_columns": null,
      "grid_auto_flow": null,
      "grid_auto_rows": null,
      "grid_column": null,
      "grid_gap": null,
      "grid_row": null,
      "grid_template_areas": null,
      "grid_template_columns": null,
      "grid_template_rows": null,
      "height": null,
      "justify_content": null,
      "justify_items": null,
      "left": null,
      "margin": null,
      "max_height": null,
      "max_width": null,
      "min_height": null,
      "min_width": null,
      "object_fit": null,
      "object_position": null,
      "order": null,
      "overflow": null,
      "overflow_x": null,
      "overflow_y": null,
      "padding": null,
      "right": null,
      "top": null,
      "visibility": null,
      "width": null
     }
    },
    "c29323d17251405a94483c8faf86f04b": {
     "model_module": "@jupyter-widgets/base",
     "model_module_version": "1.2.0",
     "model_name": "LayoutModel",
     "state": {
      "_model_module": "@jupyter-widgets/base",
      "_model_module_version": "1.2.0",
      "_model_name": "LayoutModel",
      "_view_count": null,
      "_view_module": "@jupyter-widgets/base",
      "_view_module_version": "1.2.0",
      "_view_name": "LayoutView",
      "align_content": null,
      "align_items": null,
      "align_self": null,
      "border": null,
      "bottom": null,
      "display": null,
      "flex": null,
      "flex_flow": null,
      "grid_area": null,
      "grid_auto_columns": null,
      "grid_auto_flow": null,
      "grid_auto_rows": null,
      "grid_column": null,
      "grid_gap": null,
      "grid_row": null,
      "grid_template_areas": null,
      "grid_template_columns": null,
      "grid_template_rows": null,
      "height": null,
      "justify_content": null,
      "justify_items": null,
      "left": null,
      "margin": null,
      "max_height": null,
      "max_width": null,
      "min_height": null,
      "min_width": null,
      "object_fit": null,
      "object_position": null,
      "order": null,
      "overflow": null,
      "overflow_x": null,
      "overflow_y": null,
      "padding": null,
      "right": null,
      "top": null,
      "visibility": null,
      "width": null
     }
    },
    "c612b16f554f4ed8a6dc66ca46243fd9": {
     "model_module": "@jupyter-widgets/controls",
     "model_module_version": "1.5.0",
     "model_name": "DescriptionStyleModel",
     "state": {
      "_model_module": "@jupyter-widgets/controls",
      "_model_module_version": "1.5.0",
      "_model_name": "DescriptionStyleModel",
      "_view_count": null,
      "_view_module": "@jupyter-widgets/base",
      "_view_module_version": "1.2.0",
      "_view_name": "StyleView",
      "description_width": ""
     }
    },
    "c72187c2c95d48628accb382c01ac955": {
     "model_module": "@jupyter-widgets/base",
     "model_module_version": "1.2.0",
     "model_name": "LayoutModel",
     "state": {
      "_model_module": "@jupyter-widgets/base",
      "_model_module_version": "1.2.0",
      "_model_name": "LayoutModel",
      "_view_count": null,
      "_view_module": "@jupyter-widgets/base",
      "_view_module_version": "1.2.0",
      "_view_name": "LayoutView",
      "align_content": null,
      "align_items": null,
      "align_self": null,
      "border": null,
      "bottom": null,
      "display": null,
      "flex": null,
      "flex_flow": null,
      "grid_area": null,
      "grid_auto_columns": null,
      "grid_auto_flow": null,
      "grid_auto_rows": null,
      "grid_column": null,
      "grid_gap": null,
      "grid_row": null,
      "grid_template_areas": null,
      "grid_template_columns": null,
      "grid_template_rows": null,
      "height": null,
      "justify_content": null,
      "justify_items": null,
      "left": null,
      "margin": null,
      "max_height": null,
      "max_width": null,
      "min_height": null,
      "min_width": null,
      "object_fit": null,
      "object_position": null,
      "order": null,
      "overflow": null,
      "overflow_x": null,
      "overflow_y": null,
      "padding": null,
      "right": null,
      "top": null,
      "visibility": null,
      "width": null
     }
    },
    "ca047f1c8f994a9195e5860df7af9bb1": {
     "model_module": "@jupyter-widgets/base",
     "model_module_version": "1.2.0",
     "model_name": "LayoutModel",
     "state": {
      "_model_module": "@jupyter-widgets/base",
      "_model_module_version": "1.2.0",
      "_model_name": "LayoutModel",
      "_view_count": null,
      "_view_module": "@jupyter-widgets/base",
      "_view_module_version": "1.2.0",
      "_view_name": "LayoutView",
      "align_content": null,
      "align_items": null,
      "align_self": null,
      "border": null,
      "bottom": null,
      "display": null,
      "flex": null,
      "flex_flow": null,
      "grid_area": null,
      "grid_auto_columns": null,
      "grid_auto_flow": null,
      "grid_auto_rows": null,
      "grid_column": null,
      "grid_gap": null,
      "grid_row": null,
      "grid_template_areas": null,
      "grid_template_columns": null,
      "grid_template_rows": null,
      "height": null,
      "justify_content": null,
      "justify_items": null,
      "left": null,
      "margin": null,
      "max_height": null,
      "max_width": null,
      "min_height": null,
      "min_width": null,
      "object_fit": null,
      "object_position": null,
      "order": null,
      "overflow": null,
      "overflow_x": null,
      "overflow_y": null,
      "padding": null,
      "right": null,
      "top": null,
      "visibility": null,
      "width": null
     }
    },
    "d00b8f37f0a64539a7afdff5aed236bd": {
     "model_module": "@jupyter-widgets/controls",
     "model_module_version": "1.5.0",
     "model_name": "FloatProgressModel",
     "state": {
      "_dom_classes": [],
      "_model_module": "@jupyter-widgets/controls",
      "_model_module_version": "1.5.0",
      "_model_name": "FloatProgressModel",
      "_view_count": null,
      "_view_module": "@jupyter-widgets/controls",
      "_view_module_version": "1.5.0",
      "_view_name": "ProgressView",
      "bar_style": "success",
      "description": "",
      "description_tooltip": null,
      "layout": "IPY_MODEL_f632383f00be4e77aaafbba37913ce2c",
      "max": 28881,
      "min": 0,
      "orientation": "horizontal",
      "style": "IPY_MODEL_753699e93b294a3a9887235725658948",
      "value": 28881
     }
    },
    "d690e63a7a314e03836ce88ff4bb2a38": {
     "model_module": "@jupyter-widgets/controls",
     "model_module_version": "1.5.0",
     "model_name": "ProgressStyleModel",
     "state": {
      "_model_module": "@jupyter-widgets/controls",
      "_model_module_version": "1.5.0",
      "_model_name": "ProgressStyleModel",
      "_view_count": null,
      "_view_module": "@jupyter-widgets/base",
      "_view_module_version": "1.2.0",
      "_view_name": "StyleView",
      "bar_color": null,
      "description_width": ""
     }
    },
    "d9f5531365c14b12a43c740a44955ad0": {
     "model_module": "@jupyter-widgets/base",
     "model_module_version": "1.2.0",
     "model_name": "LayoutModel",
     "state": {
      "_model_module": "@jupyter-widgets/base",
      "_model_module_version": "1.2.0",
      "_model_name": "LayoutModel",
      "_view_count": null,
      "_view_module": "@jupyter-widgets/base",
      "_view_module_version": "1.2.0",
      "_view_name": "LayoutView",
      "align_content": null,
      "align_items": null,
      "align_self": null,
      "border": null,
      "bottom": null,
      "display": null,
      "flex": null,
      "flex_flow": null,
      "grid_area": null,
      "grid_auto_columns": null,
      "grid_auto_flow": null,
      "grid_auto_rows": null,
      "grid_column": null,
      "grid_gap": null,
      "grid_row": null,
      "grid_template_areas": null,
      "grid_template_columns": null,
      "grid_template_rows": null,
      "height": null,
      "justify_content": null,
      "justify_items": null,
      "left": null,
      "margin": null,
      "max_height": null,
      "max_width": null,
      "min_height": null,
      "min_width": null,
      "object_fit": null,
      "object_position": null,
      "order": null,
      "overflow": null,
      "overflow_x": null,
      "overflow_y": null,
      "padding": null,
      "right": null,
      "top": null,
      "visibility": null,
      "width": null
     }
    },
    "dc8f5d480f4946a182150bb5940ff48c": {
     "model_module": "@jupyter-widgets/base",
     "model_module_version": "1.2.0",
     "model_name": "LayoutModel",
     "state": {
      "_model_module": "@jupyter-widgets/base",
      "_model_module_version": "1.2.0",
      "_model_name": "LayoutModel",
      "_view_count": null,
      "_view_module": "@jupyter-widgets/base",
      "_view_module_version": "1.2.0",
      "_view_name": "LayoutView",
      "align_content": null,
      "align_items": null,
      "align_self": null,
      "border": null,
      "bottom": null,
      "display": null,
      "flex": null,
      "flex_flow": null,
      "grid_area": null,
      "grid_auto_columns": null,
      "grid_auto_flow": null,
      "grid_auto_rows": null,
      "grid_column": null,
      "grid_gap": null,
      "grid_row": null,
      "grid_template_areas": null,
      "grid_template_columns": null,
      "grid_template_rows": null,
      "height": null,
      "justify_content": null,
      "justify_items": null,
      "left": null,
      "margin": null,
      "max_height": null,
      "max_width": null,
      "min_height": null,
      "min_width": null,
      "object_fit": null,
      "object_position": null,
      "order": null,
      "overflow": null,
      "overflow_x": null,
      "overflow_y": null,
      "padding": null,
      "right": null,
      "top": null,
      "visibility": null,
      "width": null
     }
    },
    "dc93c2e40e714cd1a3b8344850b5d9cb": {
     "model_module": "@jupyter-widgets/controls",
     "model_module_version": "1.5.0",
     "model_name": "DescriptionStyleModel",
     "state": {
      "_model_module": "@jupyter-widgets/controls",
      "_model_module_version": "1.5.0",
      "_model_name": "DescriptionStyleModel",
      "_view_count": null,
      "_view_module": "@jupyter-widgets/base",
      "_view_module_version": "1.2.0",
      "_view_name": "StyleView",
      "description_width": ""
     }
    },
    "e488ba031e764a6b82ca97c6bd8c13e3": {
     "model_module": "@jupyter-widgets/controls",
     "model_module_version": "1.5.0",
     "model_name": "HTMLModel",
     "state": {
      "_dom_classes": [],
      "_model_module": "@jupyter-widgets/controls",
      "_model_module_version": "1.5.0",
      "_model_name": "HTMLModel",
      "_view_count": null,
      "_view_module": "@jupyter-widgets/controls",
      "_view_module_version": "1.5.0",
      "_view_name": "HTMLView",
      "description": "",
      "description_tooltip": null,
      "layout": "IPY_MODEL_f3ee4a7bc7bf4888a9ac21cc0271bdbf",
      "placeholder": "​",
      "style": "IPY_MODEL_99083da8ab6a42279e4b74955c97ea40",
      "value": " 1648877/1648877 [00:00&lt;00:00, 34358702.32it/s]"
     }
    },
    "e5f8d357da0b4b678ed30e4af2a7d09f": {
     "model_module": "@jupyter-widgets/base",
     "model_module_version": "1.2.0",
     "model_name": "LayoutModel",
     "state": {
      "_model_module": "@jupyter-widgets/base",
      "_model_module_version": "1.2.0",
      "_model_name": "LayoutModel",
      "_view_count": null,
      "_view_module": "@jupyter-widgets/base",
      "_view_module_version": "1.2.0",
      "_view_name": "LayoutView",
      "align_content": null,
      "align_items": null,
      "align_self": null,
      "border": null,
      "bottom": null,
      "display": null,
      "flex": null,
      "flex_flow": null,
      "grid_area": null,
      "grid_auto_columns": null,
      "grid_auto_flow": null,
      "grid_auto_rows": null,
      "grid_column": null,
      "grid_gap": null,
      "grid_row": null,
      "grid_template_areas": null,
      "grid_template_columns": null,
      "grid_template_rows": null,
      "height": null,
      "justify_content": null,
      "justify_items": null,
      "left": null,
      "margin": null,
      "max_height": null,
      "max_width": null,
      "min_height": null,
      "min_width": null,
      "object_fit": null,
      "object_position": null,
      "order": null,
      "overflow": null,
      "overflow_x": null,
      "overflow_y": null,
      "padding": null,
      "right": null,
      "top": null,
      "visibility": null,
      "width": null
     }
    },
    "e8f410b687254dd2b8c08f11b9c31795": {
     "model_module": "@jupyter-widgets/base",
     "model_module_version": "1.2.0",
     "model_name": "LayoutModel",
     "state": {
      "_model_module": "@jupyter-widgets/base",
      "_model_module_version": "1.2.0",
      "_model_name": "LayoutModel",
      "_view_count": null,
      "_view_module": "@jupyter-widgets/base",
      "_view_module_version": "1.2.0",
      "_view_name": "LayoutView",
      "align_content": null,
      "align_items": null,
      "align_self": null,
      "border": null,
      "bottom": null,
      "display": null,
      "flex": null,
      "flex_flow": null,
      "grid_area": null,
      "grid_auto_columns": null,
      "grid_auto_flow": null,
      "grid_auto_rows": null,
      "grid_column": null,
      "grid_gap": null,
      "grid_row": null,
      "grid_template_areas": null,
      "grid_template_columns": null,
      "grid_template_rows": null,
      "height": null,
      "justify_content": null,
      "justify_items": null,
      "left": null,
      "margin": null,
      "max_height": null,
      "max_width": null,
      "min_height": null,
      "min_width": null,
      "object_fit": null,
      "object_position": null,
      "order": null,
      "overflow": null,
      "overflow_x": null,
      "overflow_y": null,
      "padding": null,
      "right": null,
      "top": null,
      "visibility": null,
      "width": null
     }
    },
    "ec2c97254b5742c8a0a2d2e60edb845e": {
     "model_module": "@jupyter-widgets/base",
     "model_module_version": "1.2.0",
     "model_name": "LayoutModel",
     "state": {
      "_model_module": "@jupyter-widgets/base",
      "_model_module_version": "1.2.0",
      "_model_name": "LayoutModel",
      "_view_count": null,
      "_view_module": "@jupyter-widgets/base",
      "_view_module_version": "1.2.0",
      "_view_name": "LayoutView",
      "align_content": null,
      "align_items": null,
      "align_self": null,
      "border": null,
      "bottom": null,
      "display": null,
      "flex": null,
      "flex_flow": null,
      "grid_area": null,
      "grid_auto_columns": null,
      "grid_auto_flow": null,
      "grid_auto_rows": null,
      "grid_column": null,
      "grid_gap": null,
      "grid_row": null,
      "grid_template_areas": null,
      "grid_template_columns": null,
      "grid_template_rows": null,
      "height": null,
      "justify_content": null,
      "justify_items": null,
      "left": null,
      "margin": null,
      "max_height": null,
      "max_width": null,
      "min_height": null,
      "min_width": null,
      "object_fit": null,
      "object_position": null,
      "order": null,
      "overflow": null,
      "overflow_x": null,
      "overflow_y": null,
      "padding": null,
      "right": null,
      "top": null,
      "visibility": null,
      "width": null
     }
    },
    "ec99adb94ed84a87abedf6dd984770ce": {
     "model_module": "@jupyter-widgets/controls",
     "model_module_version": "1.5.0",
     "model_name": "HBoxModel",
     "state": {
      "_dom_classes": [],
      "_model_module": "@jupyter-widgets/controls",
      "_model_module_version": "1.5.0",
      "_model_name": "HBoxModel",
      "_view_count": null,
      "_view_module": "@jupyter-widgets/controls",
      "_view_module_version": "1.5.0",
      "_view_name": "HBoxView",
      "box_style": "",
      "children": [
       "IPY_MODEL_a874ab73c2ba4c5a89e6a55203e8e198",
       "IPY_MODEL_a4a37f2ff9924ab29763af0b2b93157d",
       "IPY_MODEL_81eb6cf8683740239d404a14a70d321d"
      ],
      "layout": "IPY_MODEL_f0aaec46316d438f94af0b5b4fb34b4b"
     }
    },
    "f0aaec46316d438f94af0b5b4fb34b4b": {
     "model_module": "@jupyter-widgets/base",
     "model_module_version": "1.2.0",
     "model_name": "LayoutModel",
     "state": {
      "_model_module": "@jupyter-widgets/base",
      "_model_module_version": "1.2.0",
      "_model_name": "LayoutModel",
      "_view_count": null,
      "_view_module": "@jupyter-widgets/base",
      "_view_module_version": "1.2.0",
      "_view_name": "LayoutView",
      "align_content": null,
      "align_items": null,
      "align_self": null,
      "border": null,
      "bottom": null,
      "display": null,
      "flex": null,
      "flex_flow": null,
      "grid_area": null,
      "grid_auto_columns": null,
      "grid_auto_flow": null,
      "grid_auto_rows": null,
      "grid_column": null,
      "grid_gap": null,
      "grid_row": null,
      "grid_template_areas": null,
      "grid_template_columns": null,
      "grid_template_rows": null,
      "height": null,
      "justify_content": null,
      "justify_items": null,
      "left": null,
      "margin": null,
      "max_height": null,
      "max_width": null,
      "min_height": null,
      "min_width": null,
      "object_fit": null,
      "object_position": null,
      "order": null,
      "overflow": null,
      "overflow_x": null,
      "overflow_y": null,
      "padding": null,
      "right": null,
      "top": null,
      "visibility": null,
      "width": null
     }
    },
    "f3ee4a7bc7bf4888a9ac21cc0271bdbf": {
     "model_module": "@jupyter-widgets/base",
     "model_module_version": "1.2.0",
     "model_name": "LayoutModel",
     "state": {
      "_model_module": "@jupyter-widgets/base",
      "_model_module_version": "1.2.0",
      "_model_name": "LayoutModel",
      "_view_count": null,
      "_view_module": "@jupyter-widgets/base",
      "_view_module_version": "1.2.0",
      "_view_name": "LayoutView",
      "align_content": null,
      "align_items": null,
      "align_self": null,
      "border": null,
      "bottom": null,
      "display": null,
      "flex": null,
      "flex_flow": null,
      "grid_area": null,
      "grid_auto_columns": null,
      "grid_auto_flow": null,
      "grid_auto_rows": null,
      "grid_column": null,
      "grid_gap": null,
      "grid_row": null,
      "grid_template_areas": null,
      "grid_template_columns": null,
      "grid_template_rows": null,
      "height": null,
      "justify_content": null,
      "justify_items": null,
      "left": null,
      "margin": null,
      "max_height": null,
      "max_width": null,
      "min_height": null,
      "min_width": null,
      "object_fit": null,
      "object_position": null,
      "order": null,
      "overflow": null,
      "overflow_x": null,
      "overflow_y": null,
      "padding": null,
      "right": null,
      "top": null,
      "visibility": null,
      "width": null
     }
    },
    "f632383f00be4e77aaafbba37913ce2c": {
     "model_module": "@jupyter-widgets/base",
     "model_module_version": "1.2.0",
     "model_name": "LayoutModel",
     "state": {
      "_model_module": "@jupyter-widgets/base",
      "_model_module_version": "1.2.0",
      "_model_name": "LayoutModel",
      "_view_count": null,
      "_view_module": "@jupyter-widgets/base",
      "_view_module_version": "1.2.0",
      "_view_name": "LayoutView",
      "align_content": null,
      "align_items": null,
      "align_self": null,
      "border": null,
      "bottom": null,
      "display": null,
      "flex": null,
      "flex_flow": null,
      "grid_area": null,
      "grid_auto_columns": null,
      "grid_auto_flow": null,
      "grid_auto_rows": null,
      "grid_column": null,
      "grid_gap": null,
      "grid_row": null,
      "grid_template_areas": null,
      "grid_template_columns": null,
      "grid_template_rows": null,
      "height": null,
      "justify_content": null,
      "justify_items": null,
      "left": null,
      "margin": null,
      "max_height": null,
      "max_width": null,
      "min_height": null,
      "min_width": null,
      "object_fit": null,
      "object_position": null,
      "order": null,
      "overflow": null,
      "overflow_x": null,
      "overflow_y": null,
      "padding": null,
      "right": null,
      "top": null,
      "visibility": null,
      "width": null
     }
    },
    "f960673128904b81a95bcb5d17e5a958": {
     "model_module": "@jupyter-widgets/controls",
     "model_module_version": "1.5.0",
     "model_name": "HBoxModel",
     "state": {
      "_dom_classes": [],
      "_model_module": "@jupyter-widgets/controls",
      "_model_module_version": "1.5.0",
      "_model_name": "HBoxModel",
      "_view_count": null,
      "_view_module": "@jupyter-widgets/controls",
      "_view_module_version": "1.5.0",
      "_view_name": "HBoxView",
      "box_style": "",
      "children": [
       "IPY_MODEL_3bb009e9a23f4c36814551c41565b777",
       "IPY_MODEL_d00b8f37f0a64539a7afdff5aed236bd",
       "IPY_MODEL_7d160a6262c84be8a2db863dc394ac0c"
      ],
      "layout": "IPY_MODEL_c29323d17251405a94483c8faf86f04b"
     }
    }
   }
  }
 },
 "nbformat": 4,
 "nbformat_minor": 1
}
