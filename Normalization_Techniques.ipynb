{
 "cells": [
  {
   "cell_type": "markdown",
   "metadata": {
    "id": "3DWSFYfH82PY"
   },
   "source": [
    "We are introducing different normalization techniques in the code that gave 99.4% acccuracy.\n",
    "1. Layer Normaization\n",
    "2. Group Normalization\n",
    "3. Batch Normalization along with L1 regularization"
   ]
  },
  {
   "cell_type": "markdown",
   "metadata": {
    "id": "aO-7t1Y7-hV4"
   },
   "source": [
    "# Import Libraries"
   ]
  },
  {
   "cell_type": "code",
   "execution_count": null,
   "metadata": {
    "id": "8kH16rnZ7wt_"
   },
   "outputs": [],
   "source": [
    "from __future__ import print_function\n",
    "import torch\n",
    "import torch.nn as nn\n",
    "import torch.nn.functional as F\n",
    "import torch.optim as optim\n",
    "from torchvision import datasets, transforms"
   ]
  },
  {
   "cell_type": "code",
   "execution_count": null,
   "metadata": {
    "colab": {
     "base_uri": "https://localhost:8080/"
    },
    "id": "SJlmUIFBMfor",
    "outputId": "d53bb4f8-0c41-4362-d24f-88cf505be74c"
   },
   "outputs": [
    {
     "name": "stdout",
     "output_type": "stream",
     "text": [
      "Mounted at /content/drive\n"
     ]
    }
   ],
   "source": [
    "from google.colab import drive\n",
    "drive.mount('/content/drive',force_remount=True)"
   ]
  },
  {
   "cell_type": "code",
   "execution_count": null,
   "metadata": {
    "colab": {
     "base_uri": "https://localhost:8080/"
    },
    "id": "VNIzCNdcBa4a",
    "outputId": "6c97c293-55d5-4fd6-c84e-b037b7839cd2"
   },
   "outputs": [
    {
     "name": "stdout",
     "output_type": "stream",
     "text": [
      "Looking in indexes: https://pypi.org/simple, https://us-python.pkg.dev/colab-wheels/public/simple/\n",
      "Requirement already satisfied: torchsummary in /usr/local/lib/python3.8/dist-packages (1.5.1)\n",
      "cuda\n"
     ]
    }
   ],
   "source": [
    "!pip install torchsummary\n",
    "from torchsummary import summary\n",
    "use_cuda = torch.cuda.is_available()\n",
    "device = torch.device(\"cuda\" if use_cuda else \"cpu\")\n",
    "print(device)\n"
   ]
  },
  {
   "cell_type": "code",
   "execution_count": null,
   "metadata": {
    "id": "pblPeoczs1Qj"
   },
   "outputs": [],
   "source": [
    "## CONSTANTS\n",
    "SEED=42\n",
    "DROPOUT_VALUE = 0.1\n",
    "NUM_GROUPS_FOR_GN = 2\n",
    "LAMBDA=5e-4\n",
    "EPOCHS=20"
   ]
  },
  {
   "cell_type": "markdown",
   "metadata": {
    "id": "ky3f_Odl-7um"
   },
   "source": [
    "## Data Transformations\n",
    "\n"
   ]
  },
  {
   "cell_type": "code",
   "execution_count": null,
   "metadata": {
    "id": "YtssFUKb-jqx"
   },
   "outputs": [],
   "source": [
    "# Train Phase transformations\n",
    "train_transforms = transforms.Compose([\n",
    "                                      #  transforms.Resize((28, 28)),\n",
    "                                       transforms.RandomRotation((-8.0, 8.0), fill=(1,)),\n",
    "                                       transforms.ToTensor(),\n",
    "                                       transforms.Normalize((0.1307,), (0.3081,)) # The mean and std have to be sequences (e.g., tuples), therefore you should add a comma after the values. \n",
    "                                       # Note the difference between (0.1307) and (0.1307,)\n",
    "                                       ])\n",
    "\n",
    "# Test Phase transformations\n",
    "test_transforms = transforms.Compose([\n",
    "                                      #  transforms.Resize((28, 28)),\n",
    "                                      #  transforms.ColorJitter(brightness=0.10, contrast=0.1, saturation=0.10, hue=0.1),\n",
    "                                       transforms.ToTensor(),\n",
    "                                       transforms.Normalize((0.1307,), (0.3081,))\n",
    "                                       ])\n"
   ]
  },
  {
   "cell_type": "markdown",
   "metadata": {
    "id": "oQciFYo2B1mO"
   },
   "source": [
    "# Dataset and Creating Train/Test Split"
   ]
  },
  {
   "cell_type": "code",
   "execution_count": null,
   "metadata": {
    "colab": {
     "base_uri": "https://localhost:8080/",
     "height": 423,
     "referenced_widgets": [
      "3950a94ec2fd49798fd09a20b5ad3e4a",
      "5c19c0fc177d47ec92ab8dd6436a3f8b",
      "0b5a00a1f9844e4dac16684b6252905a",
      "acbf7f8fe8394bc0842d7992f0dead9b",
      "746c478082d64b528e06bffb38896e61",
      "29dd322fe444478bb69c9ac04acd5348",
      "86262e54567e47e7a14713a8727340b4",
      "20fb763136364253a7ededa3455a7b6f",
      "08e260b97ba645c4a778e4d2b86df9f5",
      "5f9a70e949a74e33a582f5e4d4a7e8bd",
      "a88dcd5f3b4346a79c52ea0dcdde0ead",
      "915ebeffdb5a4d2fb00ef2571fd180d9",
      "02f1000548534e3d997bf4363b20c674",
      "d7330aaedf2149df9ba68b336f1a39d7",
      "1f9c926c90764029acbbd3a510f845d5",
      "772def2eed524ca895d9bace34398a45",
      "61db4c0284d74c75a7c9a68dcdc26b67",
      "2c885d6e47d54163a2544f85082f6be7",
      "2f17fad1be434348ba04fd02ddf076a1",
      "bc2190842cde46408e41d43d87d78617",
      "479b99d09e55434aa93fceca86327dbb",
      "c14bad606421428f9bd03d079120094e",
      "3a787226a8d04eb49c5aec3f32d98706",
      "16e80ec9820a455db8104c53f5199191",
      "7a7680042be2418b8ebef8112f3d1cd6",
      "ad2908e1d5bc4c7db7ec1e937b4b1f5f",
      "9c6308adfc4749d4aef8cce4fa5a6def",
      "03041b5ea3144ad7a005f22420b0a9f6",
      "19205f16faba426aaf067adbbce4b5e5",
      "0542838533aa466391c34f8ecd10c1ba",
      "6f9539752da049c7aa3359b3a602e2c9",
      "d480721b3af3437f9d9db49decfc03ae",
      "7ce51d2dae13499ab4ea9da1400470ec",
      "8d9762df75af4806b69d1388c34112ec",
      "50268d9668ff4cf39b9d1feb278f2ab7",
      "4cf1dba7c1a047ac993a24bfef7c4a6d",
      "5e46591646444ade902e5632c442001c",
      "e7800a55765c4368a4d88fe8138c5f47",
      "d3aeb39fd18746aca77cdab88ec3ab70",
      "9165f767204b4d4f9855d37d06eec1ea",
      "f038cad390b34e7fb54a46496eae22ae",
      "0c16ae10894a47d68bf1b08a96f30873",
      "d3491f1840d14e11a4fd3ee1fdcd7898",
      "3dfac077731147fabe78b0690f3687ad"
     ]
    },
    "id": "_4A84rlfDA23",
    "outputId": "124e11e9-1828-4205-e990-58b5f7f8fcd0"
   },
   "outputs": [
    {
     "name": "stdout",
     "output_type": "stream",
     "text": [
      "Downloading http://yann.lecun.com/exdb/mnist/train-images-idx3-ubyte.gz\n",
      "Downloading http://yann.lecun.com/exdb/mnist/train-images-idx3-ubyte.gz to ./data/MNIST/raw/train-images-idx3-ubyte.gz\n"
     ]
    },
    {
     "data": {
      "application/vnd.jupyter.widget-view+json": {
       "model_id": "3950a94ec2fd49798fd09a20b5ad3e4a",
       "version_major": 2,
       "version_minor": 0
      },
      "text/plain": [
       "  0%|          | 0/9912422 [00:00<?, ?it/s]"
      ]
     },
     "metadata": {},
     "output_type": "display_data"
    },
    {
     "name": "stdout",
     "output_type": "stream",
     "text": [
      "Extracting ./data/MNIST/raw/train-images-idx3-ubyte.gz to ./data/MNIST/raw\n",
      "\n",
      "Downloading http://yann.lecun.com/exdb/mnist/train-labels-idx1-ubyte.gz\n",
      "Downloading http://yann.lecun.com/exdb/mnist/train-labels-idx1-ubyte.gz to ./data/MNIST/raw/train-labels-idx1-ubyte.gz\n"
     ]
    },
    {
     "data": {
      "application/vnd.jupyter.widget-view+json": {
       "model_id": "915ebeffdb5a4d2fb00ef2571fd180d9",
       "version_major": 2,
       "version_minor": 0
      },
      "text/plain": [
       "  0%|          | 0/28881 [00:00<?, ?it/s]"
      ]
     },
     "metadata": {},
     "output_type": "display_data"
    },
    {
     "name": "stdout",
     "output_type": "stream",
     "text": [
      "Extracting ./data/MNIST/raw/train-labels-idx1-ubyte.gz to ./data/MNIST/raw\n",
      "\n",
      "Downloading http://yann.lecun.com/exdb/mnist/t10k-images-idx3-ubyte.gz\n",
      "Downloading http://yann.lecun.com/exdb/mnist/t10k-images-idx3-ubyte.gz to ./data/MNIST/raw/t10k-images-idx3-ubyte.gz\n"
     ]
    },
    {
     "data": {
      "application/vnd.jupyter.widget-view+json": {
       "model_id": "3a787226a8d04eb49c5aec3f32d98706",
       "version_major": 2,
       "version_minor": 0
      },
      "text/plain": [
       "  0%|          | 0/1648877 [00:00<?, ?it/s]"
      ]
     },
     "metadata": {},
     "output_type": "display_data"
    },
    {
     "name": "stdout",
     "output_type": "stream",
     "text": [
      "Extracting ./data/MNIST/raw/t10k-images-idx3-ubyte.gz to ./data/MNIST/raw\n",
      "\n",
      "Downloading http://yann.lecun.com/exdb/mnist/t10k-labels-idx1-ubyte.gz\n",
      "Downloading http://yann.lecun.com/exdb/mnist/t10k-labels-idx1-ubyte.gz to ./data/MNIST/raw/t10k-labels-idx1-ubyte.gz\n"
     ]
    },
    {
     "data": {
      "application/vnd.jupyter.widget-view+json": {
       "model_id": "8d9762df75af4806b69d1388c34112ec",
       "version_major": 2,
       "version_minor": 0
      },
      "text/plain": [
       "  0%|          | 0/4542 [00:00<?, ?it/s]"
      ]
     },
     "metadata": {},
     "output_type": "display_data"
    },
    {
     "name": "stdout",
     "output_type": "stream",
     "text": [
      "Extracting ./data/MNIST/raw/t10k-labels-idx1-ubyte.gz to ./data/MNIST/raw\n",
      "\n"
     ]
    }
   ],
   "source": [
    "train = datasets.MNIST('./data', train=True, download=True, transform=train_transforms)\n",
    "test = datasets.MNIST('./data', train=False, download=True, transform=test_transforms)"
   ]
  },
  {
   "cell_type": "markdown",
   "metadata": {
    "id": "qgldp_3-Dn0c"
   },
   "source": [
    "# Dataloader Arguments & Test/Train Dataloaders\n"
   ]
  },
  {
   "cell_type": "code",
   "execution_count": null,
   "metadata": {
    "colab": {
     "base_uri": "https://localhost:8080/"
    },
    "id": "C8OLDR79DrHG",
    "outputId": "3e15afef-afe4-45f2-d25a-04f3a70f8430"
   },
   "outputs": [
    {
     "name": "stdout",
     "output_type": "stream",
     "text": [
      "CUDA Available? True\n"
     ]
    },
    {
     "name": "stderr",
     "output_type": "stream",
     "text": [
      "/usr/local/lib/python3.8/dist-packages/torch/utils/data/dataloader.py:554: UserWarning: This DataLoader will create 4 worker processes in total. Our suggested max number of worker in current system is 2, which is smaller than what this DataLoader is going to create. Please be aware that excessive worker creation might get DataLoader running slow or even freeze, lower the worker number to avoid potential slowness/freeze if necessary.\n",
      "  warnings.warn(_create_warning_msg(\n"
     ]
    }
   ],
   "source": [
    "#SEED = 42\n",
    "\n",
    "# CUDA?\n",
    "cuda = torch.cuda.is_available()\n",
    "print(\"CUDA Available?\", cuda)\n",
    "\n",
    "# For reproducibility\n",
    "torch.manual_seed(SEED)\n",
    "\n",
    "if cuda:\n",
    "    torch.cuda.manual_seed(SEED)\n",
    "\n",
    "# dataloader arguments - something you'll fetch these from cmdprmt\n",
    "dataloader_args = dict(shuffle=True, batch_size=128, num_workers=4, pin_memory=True) if cuda else dict(shuffle=True, batch_size=64)\n",
    "\n",
    "# train dataloader\n",
    "train_loader = torch.utils.data.DataLoader(train, **dataloader_args)\n",
    "\n",
    "# test dataloader\n",
    "test_loader = torch.utils.data.DataLoader(test, **dataloader_args)"
   ]
  },
  {
   "cell_type": "markdown",
   "metadata": {
    "id": "Q8x3p050-DaZ"
   },
   "source": []
  },
  {
   "cell_type": "markdown",
   "metadata": {
    "id": "ubQL3H6RJL3h"
   },
   "source": [
    "# The model\n",
    "Let's start with the model we first saw"
   ]
  },
  {
   "cell_type": "code",
   "execution_count": null,
   "metadata": {
    "id": "7FXQlB9kH1ov"
   },
   "outputs": [],
   "source": [
    "import torch.nn.functional as F\n",
    "#dropout_value = DROPOUT_VALUE\n",
    "#num_groups = NUM_GROUPS_FOR_GN\n",
    "\n",
    "class Net(nn.Module):\n",
    "    def __init__(self,use_norm):\n",
    "        super(Net, self).__init__()\n",
    "        self.use_norm=use_norm\n",
    "        # Input Block\n",
    "        \n",
    "        if self.use_norm=='BATCH':\n",
    "          norm1=nn.BatchNorm2d(14) ## adding self.norm1 adds the paramtere two times\n",
    "        elif self.use_norm=='LAYER':\n",
    "          norm1=nn.LayerNorm([14,26,26])\n",
    "        else:# self.use_norm=='GROUP':\n",
    "          norm1=nn.GroupNorm (NUM_GROUPS_FOR_GN,14)\n",
    "\n",
    "        self.convblock1 = nn.Sequential(\n",
    "            nn.Conv2d(in_channels=1, out_channels=14, kernel_size=(3, 3), padding=0, bias=False),\n",
    "            nn.ReLU(),\n",
    "            norm1,\n",
    "            nn.Dropout(DROPOUT_VALUE)\n",
    "        ) # output_size = 26\n",
    "\n",
    "        \n",
    "        # CONVOLUTION BLOCK 1\n",
    "        \n",
    "        if self.use_norm=='BATCH':\n",
    "          norm2=nn.BatchNorm2d(28)\n",
    "        elif self.use_norm=='LAYER':\n",
    "          norm2=nn.LayerNorm([28,24,24])\n",
    "        elif self.use_norm=='GROUP':\n",
    "          norm2=nn.GroupNorm (NUM_GROUPS_FOR_GN,28)\n",
    "\n",
    "\n",
    "        self.convblock2 = nn.Sequential(\n",
    "            nn.Conv2d(in_channels=14, out_channels=28, kernel_size=(3, 3), padding=0, bias=False),\n",
    "            nn.ReLU(),\n",
    "            norm2,\n",
    "            nn.Dropout(DROPOUT_VALUE)\n",
    "        ) # output_size = 24\n",
    "\n",
    "        # TRANSITION BLOCK 1\n",
    "        self.convblock3 = nn.Sequential(\n",
    "            nn.Conv2d(in_channels=28, out_channels=12, kernel_size=(1, 1), padding=0, bias=False),\n",
    "        ) # output_size = 24\n",
    "        self.pool1 = nn.MaxPool2d(2, 2) # output_size = 12\n",
    "\n",
    "        # CONVOLUTION BLOCK 2\n",
    "        if self.use_norm=='BATCH':\n",
    "          norm3=nn.BatchNorm2d(14)\n",
    "          norm4=nn.BatchNorm2d(12)\n",
    "          norm5=nn.BatchNorm2d(12)\n",
    "          norm6=nn.BatchNorm2d(12)\n",
    "        \n",
    "        elif self.use_norm=='LAYER':\n",
    "          norm3=nn.LayerNorm([14,10,10])\n",
    "          norm4=nn.LayerNorm([12,8,8])\n",
    "          norm5=nn.LayerNorm([12,6,6])\n",
    "          norm6=nn.LayerNorm([12,6,6])\n",
    "          \n",
    "        elif self.use_norm=='GROUP':\n",
    "          norm3=nn.GroupNorm (NUM_GROUPS_FOR_GN,14)\n",
    "          norm4=nn.GroupNorm (NUM_GROUPS_FOR_GN,12)\n",
    "          norm5=nn.GroupNorm (NUM_GROUPS_FOR_GN,12)\n",
    "          norm6=nn.GroupNorm (NUM_GROUPS_FOR_GN,12)\n",
    "        \n",
    "        self.convblock4 = nn.Sequential(\n",
    "            nn.Conv2d(in_channels=12, out_channels=14, kernel_size=(3, 3), padding=0, bias=False),\n",
    "            nn.ReLU(),            \n",
    "            norm3,\n",
    "            nn.Dropout(DROPOUT_VALUE)\n",
    "        ) # output_size = 10\n",
    "        self.convblock5 = nn.Sequential(\n",
    "            nn.Conv2d(in_channels=14, out_channels=12, kernel_size=(3, 3), padding=0, bias=False),\n",
    "            nn.ReLU(),            \n",
    "            norm4,\n",
    "            nn.Dropout(DROPOUT_VALUE)\n",
    "        ) # output_size = 8\n",
    "        self.convblock6 = nn.Sequential(\n",
    "            nn.Conv2d(in_channels=12, out_channels=12, kernel_size=(3, 3), padding=0, bias=False),\n",
    "            nn.ReLU(),            \n",
    "            norm5,\n",
    "            nn.Dropout(DROPOUT_VALUE)\n",
    "        ) # output_size = 6\n",
    "\n",
    "        self.convblock7 = nn.Sequential(\n",
    "            nn.Conv2d(in_channels=12, out_channels=12, kernel_size=(3, 3), padding=1, bias=False),\n",
    "            nn.ReLU(),            \n",
    "            norm6,\n",
    "            nn.Dropout(DROPOUT_VALUE)\n",
    "        ) # output_size = 6\n",
    "        \n",
    "        # OUTPUT BLOCK\n",
    "        self.gap = nn.Sequential(\n",
    "            nn.AvgPool2d(kernel_size=6)\n",
    "        ) # output_size = 1\n",
    "\n",
    "        self.convblock8 = nn.Sequential(\n",
    "            nn.Conv2d(in_channels=12, out_channels=10, kernel_size=(1, 1), padding=0, bias=False),\n",
    "        )\n",
    "\n",
    "        self.dropout = nn.Dropout(DROPOUT_VALUE)\n",
    "\n",
    "    def forward(self, x):\n",
    "        x = self.convblock1(x)\n",
    "        x = self.convblock2(x)\n",
    "        x = self.convblock3(x)\n",
    "        x = self.pool1(x)\n",
    "        x = self.convblock4(x)\n",
    "        x = self.convblock5(x)\n",
    "        x = self.convblock6(x)\n",
    "        x = self.convblock7(x)\n",
    "        x = self.gap(x)        \n",
    "        x = self.convblock8(x)\n",
    "        x = x.view(-1, 10)\n",
    "        return F.log_softmax(x, dim=-1)"
   ]
  },
  {
   "cell_type": "markdown",
   "metadata": {
    "id": "M3-vp8X9LCWo"
   },
   "source": [
    "# Model Params\n",
    "Can't emphasize on how important viewing Model Summary is. \n",
    "Unfortunately, there is no in-built model visualizer, so we have to take external help"
   ]
  },
  {
   "cell_type": "code",
   "execution_count": null,
   "metadata": {
    "colab": {
     "base_uri": "https://localhost:8080/"
    },
    "id": "5skB97zIJQQe",
    "outputId": "0f603f5b-8d62-4cf1-c70a-fcb9cf440b7b"
   },
   "outputs": [
    {
     "name": "stdout",
     "output_type": "stream",
     "text": [
      "----------------------------------------------------------------\n",
      "        Layer (type)               Output Shape         Param #\n",
      "================================================================\n",
      "            Conv2d-1           [-1, 14, 26, 26]             126\n",
      "              ReLU-2           [-1, 14, 26, 26]               0\n",
      "         GroupNorm-3           [-1, 14, 26, 26]              28\n",
      "           Dropout-4           [-1, 14, 26, 26]               0\n",
      "            Conv2d-5           [-1, 28, 24, 24]           3,528\n",
      "              ReLU-6           [-1, 28, 24, 24]               0\n",
      "         GroupNorm-7           [-1, 28, 24, 24]              56\n",
      "           Dropout-8           [-1, 28, 24, 24]               0\n",
      "            Conv2d-9           [-1, 12, 24, 24]             336\n",
      "        MaxPool2d-10           [-1, 12, 12, 12]               0\n",
      "           Conv2d-11           [-1, 14, 10, 10]           1,512\n",
      "             ReLU-12           [-1, 14, 10, 10]               0\n",
      "        GroupNorm-13           [-1, 14, 10, 10]              28\n",
      "          Dropout-14           [-1, 14, 10, 10]               0\n",
      "           Conv2d-15             [-1, 12, 8, 8]           1,512\n",
      "             ReLU-16             [-1, 12, 8, 8]               0\n",
      "        GroupNorm-17             [-1, 12, 8, 8]              24\n",
      "          Dropout-18             [-1, 12, 8, 8]               0\n",
      "           Conv2d-19             [-1, 12, 6, 6]           1,296\n",
      "             ReLU-20             [-1, 12, 6, 6]               0\n",
      "        GroupNorm-21             [-1, 12, 6, 6]              24\n",
      "          Dropout-22             [-1, 12, 6, 6]               0\n",
      "           Conv2d-23             [-1, 12, 6, 6]           1,296\n",
      "             ReLU-24             [-1, 12, 6, 6]               0\n",
      "        GroupNorm-25             [-1, 12, 6, 6]              24\n",
      "          Dropout-26             [-1, 12, 6, 6]               0\n",
      "        AvgPool2d-27             [-1, 12, 1, 1]               0\n",
      "           Conv2d-28             [-1, 10, 1, 1]             120\n",
      "================================================================\n",
      "Total params: 9,910\n",
      "Trainable params: 9,910\n",
      "Non-trainable params: 0\n",
      "----------------------------------------------------------------\n",
      "Input size (MB): 0.00\n",
      "Forward/backward pass size (MB): 0.94\n",
      "Params size (MB): 0.04\n",
      "Estimated Total Size (MB): 0.98\n",
      "----------------------------------------------------------------\n"
     ]
    }
   ],
   "source": [
    "model = Net(\"GROUP\").to(device)\n",
    "summary(model, input_size=(1, 28, 28))"
   ]
  },
  {
   "cell_type": "markdown",
   "metadata": {
    "id": "1__x_SbrL7z3"
   },
   "source": [
    "# Training and Testing\n",
    "\n",
    "All right, so we have 6.3M params, and that's too many, we know that. But the purpose of this notebook is to set things right for our future experiments. \n",
    "\n",
    "Looking at logs can be boring, so we'll introduce **tqdm** progressbar to get cooler logs. \n",
    "\n",
    "Let's write train and test functions"
   ]
  },
  {
   "cell_type": "code",
   "execution_count": null,
   "metadata": {
    "id": "fbkF2nN_LYIb"
   },
   "outputs": [],
   "source": [
    "from tqdm import tqdm\n",
    "\n",
    "def train(model, device, train_loader, optimizer,use_L1_regularization,epoch):\n",
    "  model.train()\n",
    "  pbar = tqdm(train_loader)\n",
    "  correct = 0\n",
    "  processed = 0\n",
    "  for batch_idx, (data, target) in enumerate(pbar):\n",
    "    # get samples\n",
    "    data, target = data.to(device), target.to(device)\n",
    "\n",
    "    # Init\n",
    "    optimizer.zero_grad()\n",
    "    # In PyTorch, we need to set the gradients to zero before starting to do backpropragation because PyTorch accumulates the gradients on subsequent backward passes. \n",
    "    # Because of this, when you start your training loop, ideally you should zero out the gradients so that you do the parameter update correctly.\n",
    "\n",
    "    # Predict\n",
    "    y_pred = model(data)\n",
    "\n",
    "    # Calculate loss\n",
    "    nll_loss = F.nll_loss(y_pred, target)\n",
    "    \n",
    "    \n",
    "    ## only in case of Batch Normalization\n",
    "    if use_L1_regularization==True:\n",
    "      #print(\"using the L1 regularization\")\n",
    "      reg_loss = sum([torch.sum(abs(param)) for param in model.parameters()])\n",
    "      loss= nll_loss + LAMBDA * reg_loss\n",
    "    else:\n",
    "      loss = nll_loss\n",
    "\n",
    "\n",
    "    train_losses.append(loss)\n",
    "\n",
    "    # Backpropagation\n",
    "    loss.backward()\n",
    "    optimizer.step()\n",
    "\n",
    "    # Update pbar-tqdm\n",
    "    \n",
    "    pred = y_pred.argmax(dim=1, keepdim=True)  # get the index of the max log-probability\n",
    "    correct += pred.eq(target.view_as(pred)).sum().item()\n",
    "    processed += len(data)\n",
    "\n",
    "    pbar.set_description(desc= f'Loss={loss.item()} Batch_id={batch_idx} Accuracy={100*correct/processed:0.2f}')\n",
    "    train_acc.append(100*correct/processed)\n",
    "\n",
    "def test(model, device, test_loader):\n",
    "    model.eval()\n",
    "    test_loss = 0\n",
    "    correct = 0\n",
    "    with torch.no_grad():\n",
    "        for data, target in test_loader:\n",
    "            data, target = data.to(device), target.to(device)\n",
    "            output = model(data)\n",
    "            test_loss += F.nll_loss(output, target, reduction='sum').item()  # sum up batch loss\n",
    "            pred = output.argmax(dim=1, keepdim=True)  # get the index of the max log-probability\n",
    "            correct += pred.eq(target.view_as(pred)).sum().item()\n",
    "\n",
    "    test_loss /= len(test_loader.dataset)\n",
    "    test_losses.append(test_loss)\n",
    "\n",
    "    print('\\nTest set: Average loss: {:.4f}, Accuracy: {}/{} ({:.2f}%)\\n'.format(\n",
    "        test_loss, correct, len(test_loader.dataset),\n",
    "        100. * correct / len(test_loader.dataset)))\n",
    "    \n",
    "    test_acc.append(100. * correct / len(test_loader.dataset))"
   ]
  },
  {
   "cell_type": "markdown",
   "metadata": {
    "id": "drokW8wWODKq"
   },
   "source": [
    "# Let's Train and test our model"
   ]
  },
  {
   "cell_type": "code",
   "execution_count": null,
   "metadata": {
    "colab": {
     "base_uri": "https://localhost:8080/"
    },
    "id": "xMCFxeAKOB53",
    "outputId": "99bc7953-8123-4a21-d7a3-27d204fd0d5a"
   },
   "outputs": [
    {
     "name": "stdout",
     "output_type": "stream",
     "text": [
      "******** using the LAYER noramlization technique ************\n",
      "EPOCH: 0\n",
      "LR: [0.3]\n"
     ]
    },
    {
     "name": "stderr",
     "output_type": "stream",
     "text": [
      "Loss=0.22626465559005737 Batch_id=468 Accuracy=77.98: 100%|██████████| 469/469 [00:20<00:00, 23.16it/s]\n"
     ]
    },
    {
     "name": "stdout",
     "output_type": "stream",
     "text": [
      "\n",
      "Test set: Average loss: 0.0790, Accuracy: 9760/10000 (97.60%)\n",
      "\n",
      "EPOCH: 1\n",
      "LR: [0.3]\n"
     ]
    },
    {
     "name": "stderr",
     "output_type": "stream",
     "text": [
      "Loss=0.11765030771493912 Batch_id=468 Accuracy=96.67: 100%|██████████| 469/469 [00:21<00:00, 21.43it/s]\n"
     ]
    },
    {
     "name": "stdout",
     "output_type": "stream",
     "text": [
      "\n",
      "Test set: Average loss: 0.0556, Accuracy: 9824/10000 (98.24%)\n",
      "\n",
      "EPOCH: 2\n",
      "LR: [0.3]\n"
     ]
    },
    {
     "name": "stderr",
     "output_type": "stream",
     "text": [
      "Loss=0.007235234137624502 Batch_id=468 Accuracy=97.64: 100%|██████████| 469/469 [00:17<00:00, 26.82it/s]\n"
     ]
    },
    {
     "name": "stdout",
     "output_type": "stream",
     "text": [
      "\n",
      "Test set: Average loss: 0.0416, Accuracy: 9856/10000 (98.56%)\n",
      "\n",
      "EPOCH: 3\n",
      "LR: [0.3]\n"
     ]
    },
    {
     "name": "stderr",
     "output_type": "stream",
     "text": [
      "Loss=0.11486471444368362 Batch_id=468 Accuracy=98.04: 100%|██████████| 469/469 [00:17<00:00, 26.86it/s]\n"
     ]
    },
    {
     "name": "stdout",
     "output_type": "stream",
     "text": [
      "\n",
      "Test set: Average loss: 0.0349, Accuracy: 9881/10000 (98.81%)\n",
      "\n",
      "EPOCH: 4\n",
      "LR: [0.3]\n"
     ]
    },
    {
     "name": "stderr",
     "output_type": "stream",
     "text": [
      "Loss=0.051535412669181824 Batch_id=468 Accuracy=98.20: 100%|██████████| 469/469 [00:19<00:00, 23.47it/s]\n"
     ]
    },
    {
     "name": "stdout",
     "output_type": "stream",
     "text": [
      "\n",
      "Test set: Average loss: 0.0311, Accuracy: 9890/10000 (98.90%)\n",
      "\n",
      "EPOCH: 5\n",
      "LR: [0.3]\n"
     ]
    },
    {
     "name": "stderr",
     "output_type": "stream",
     "text": [
      "Loss=0.03165706992149353 Batch_id=468 Accuracy=98.37: 100%|██████████| 469/469 [00:17<00:00, 26.35it/s]\n"
     ]
    },
    {
     "name": "stdout",
     "output_type": "stream",
     "text": [
      "\n",
      "Test set: Average loss: 0.0298, Accuracy: 9895/10000 (98.95%)\n",
      "\n",
      "EPOCH: 6\n",
      "LR: [0.03]\n"
     ]
    },
    {
     "name": "stderr",
     "output_type": "stream",
     "text": [
      "Loss=0.007086919154971838 Batch_id=468 Accuracy=98.73: 100%|██████████| 469/469 [00:17<00:00, 26.38it/s]\n"
     ]
    },
    {
     "name": "stdout",
     "output_type": "stream",
     "text": [
      "\n",
      "Test set: Average loss: 0.0208, Accuracy: 9931/10000 (99.31%)\n",
      "\n",
      "EPOCH: 7\n",
      "LR: [0.03]\n"
     ]
    },
    {
     "name": "stderr",
     "output_type": "stream",
     "text": [
      "Loss=0.01484385784715414 Batch_id=468 Accuracy=98.81: 100%|██████████| 469/469 [00:18<00:00, 25.55it/s]\n"
     ]
    },
    {
     "name": "stdout",
     "output_type": "stream",
     "text": [
      "\n",
      "Test set: Average loss: 0.0205, Accuracy: 9929/10000 (99.29%)\n",
      "\n",
      "EPOCH: 8\n",
      "LR: [0.03]\n"
     ]
    },
    {
     "name": "stderr",
     "output_type": "stream",
     "text": [
      "Loss=0.012306914664804935 Batch_id=468 Accuracy=98.86: 100%|██████████| 469/469 [00:17<00:00, 26.28it/s]\n"
     ]
    },
    {
     "name": "stdout",
     "output_type": "stream",
     "text": [
      "\n",
      "Test set: Average loss: 0.0205, Accuracy: 9933/10000 (99.33%)\n",
      "\n",
      "EPOCH: 9\n",
      "LR: [0.03]\n"
     ]
    },
    {
     "name": "stderr",
     "output_type": "stream",
     "text": [
      "Loss=0.009797348640859127 Batch_id=468 Accuracy=98.90: 100%|██████████| 469/469 [00:17<00:00, 26.63it/s]\n"
     ]
    },
    {
     "name": "stdout",
     "output_type": "stream",
     "text": [
      "\n",
      "Test set: Average loss: 0.0200, Accuracy: 9934/10000 (99.34%)\n",
      "\n",
      "EPOCH: 10\n",
      "LR: [0.03]\n"
     ]
    },
    {
     "name": "stderr",
     "output_type": "stream",
     "text": [
      "Loss=0.004552229307591915 Batch_id=468 Accuracy=98.94: 100%|██████████| 469/469 [00:17<00:00, 26.14it/s]\n"
     ]
    },
    {
     "name": "stdout",
     "output_type": "stream",
     "text": [
      "\n",
      "Test set: Average loss: 0.0204, Accuracy: 9937/10000 (99.37%)\n",
      "\n",
      "EPOCH: 11\n",
      "LR: [0.03]\n"
     ]
    },
    {
     "name": "stderr",
     "output_type": "stream",
     "text": [
      "Loss=0.011729537509381771 Batch_id=468 Accuracy=98.91: 100%|██████████| 469/469 [00:17<00:00, 26.24it/s]\n"
     ]
    },
    {
     "name": "stdout",
     "output_type": "stream",
     "text": [
      "\n",
      "Test set: Average loss: 0.0196, Accuracy: 9941/10000 (99.41%)\n",
      "\n",
      "EPOCH: 12\n",
      "LR: [0.003]\n"
     ]
    },
    {
     "name": "stderr",
     "output_type": "stream",
     "text": [
      "Loss=0.03101567178964615 Batch_id=468 Accuracy=98.93: 100%|██████████| 469/469 [00:17<00:00, 26.42it/s]\n"
     ]
    },
    {
     "name": "stdout",
     "output_type": "stream",
     "text": [
      "\n",
      "Test set: Average loss: 0.0195, Accuracy: 9937/10000 (99.37%)\n",
      "\n",
      "EPOCH: 13\n",
      "LR: [0.003]\n"
     ]
    },
    {
     "name": "stderr",
     "output_type": "stream",
     "text": [
      "Loss=0.014491314999759197 Batch_id=468 Accuracy=98.94: 100%|██████████| 469/469 [00:18<00:00, 25.81it/s]\n"
     ]
    },
    {
     "name": "stdout",
     "output_type": "stream",
     "text": [
      "\n",
      "Test set: Average loss: 0.0195, Accuracy: 9937/10000 (99.37%)\n",
      "\n",
      "EPOCH: 14\n",
      "LR: [0.003]\n"
     ]
    },
    {
     "name": "stderr",
     "output_type": "stream",
     "text": [
      "Loss=0.030695565044879913 Batch_id=468 Accuracy=98.95: 100%|██████████| 469/469 [00:17<00:00, 26.21it/s]\n"
     ]
    },
    {
     "name": "stdout",
     "output_type": "stream",
     "text": [
      "\n",
      "Test set: Average loss: 0.0195, Accuracy: 9939/10000 (99.39%)\n",
      "\n",
      "EPOCH: 15\n",
      "LR: [0.003]\n"
     ]
    },
    {
     "name": "stderr",
     "output_type": "stream",
     "text": [
      "Loss=0.011373248882591724 Batch_id=468 Accuracy=98.98: 100%|██████████| 469/469 [00:17<00:00, 26.49it/s]\n"
     ]
    },
    {
     "name": "stdout",
     "output_type": "stream",
     "text": [
      "\n",
      "Test set: Average loss: 0.0195, Accuracy: 9936/10000 (99.36%)\n",
      "\n",
      "EPOCH: 16\n",
      "LR: [0.003]\n"
     ]
    },
    {
     "name": "stderr",
     "output_type": "stream",
     "text": [
      "Loss=0.013846561312675476 Batch_id=468 Accuracy=99.01: 100%|██████████| 469/469 [00:17<00:00, 26.59it/s]\n"
     ]
    },
    {
     "name": "stdout",
     "output_type": "stream",
     "text": [
      "\n",
      "Test set: Average loss: 0.0198, Accuracy: 9935/10000 (99.35%)\n",
      "\n",
      "EPOCH: 17\n",
      "LR: [0.003]\n"
     ]
    },
    {
     "name": "stderr",
     "output_type": "stream",
     "text": [
      "Loss=0.04154449328780174 Batch_id=468 Accuracy=99.01: 100%|██████████| 469/469 [00:17<00:00, 26.46it/s]\n"
     ]
    },
    {
     "name": "stdout",
     "output_type": "stream",
     "text": [
      "\n",
      "Test set: Average loss: 0.0197, Accuracy: 9934/10000 (99.34%)\n",
      "\n",
      "EPOCH: 18\n",
      "LR: [0.00030000000000000003]\n"
     ]
    },
    {
     "name": "stderr",
     "output_type": "stream",
     "text": [
      "Loss=0.016954312101006508 Batch_id=468 Accuracy=98.95: 100%|██████████| 469/469 [00:17<00:00, 26.31it/s]\n"
     ]
    },
    {
     "name": "stdout",
     "output_type": "stream",
     "text": [
      "\n",
      "Test set: Average loss: 0.0196, Accuracy: 9934/10000 (99.34%)\n",
      "\n",
      "EPOCH: 19\n",
      "LR: [0.00030000000000000003]\n"
     ]
    },
    {
     "name": "stderr",
     "output_type": "stream",
     "text": [
      "Loss=0.014199892990291119 Batch_id=468 Accuracy=99.01: 100%|██████████| 469/469 [00:17<00:00, 26.51it/s]\n"
     ]
    },
    {
     "name": "stdout",
     "output_type": "stream",
     "text": [
      "\n",
      "Test set: Average loss: 0.0196, Accuracy: 9934/10000 (99.34%)\n",
      "\n",
      "******** using the BATCH noramlization technique ************\n",
      "EPOCH: 0\n",
      "LR: [0.3]\n"
     ]
    },
    {
     "name": "stderr",
     "output_type": "stream",
     "text": [
      "Loss=0.47451841831207275 Batch_id=468 Accuracy=91.41: 100%|██████████| 469/469 [00:19<00:00, 24.44it/s]\n"
     ]
    },
    {
     "name": "stdout",
     "output_type": "stream",
     "text": [
      "\n",
      "Test set: Average loss: 0.1825, Accuracy: 9402/10000 (94.02%)\n",
      "\n",
      "EPOCH: 1\n",
      "LR: [0.3]\n"
     ]
    },
    {
     "name": "stderr",
     "output_type": "stream",
     "text": [
      "Loss=0.472154438495636 Batch_id=468 Accuracy=94.87: 100%|██████████| 469/469 [00:18<00:00, 25.65it/s]\n"
     ]
    },
    {
     "name": "stdout",
     "output_type": "stream",
     "text": [
      "\n",
      "Test set: Average loss: 0.1115, Accuracy: 9649/10000 (96.49%)\n",
      "\n",
      "EPOCH: 2\n",
      "LR: [0.3]\n"
     ]
    },
    {
     "name": "stderr",
     "output_type": "stream",
     "text": [
      "Loss=0.4263608157634735 Batch_id=468 Accuracy=95.01: 100%|██████████| 469/469 [00:18<00:00, 25.39it/s]\n"
     ]
    },
    {
     "name": "stdout",
     "output_type": "stream",
     "text": [
      "\n",
      "Test set: Average loss: 0.1639, Accuracy: 9441/10000 (94.41%)\n",
      "\n",
      "EPOCH: 3\n",
      "LR: [0.3]\n"
     ]
    },
    {
     "name": "stderr",
     "output_type": "stream",
     "text": [
      "Loss=0.39421844482421875 Batch_id=468 Accuracy=95.23: 100%|██████████| 469/469 [00:20<00:00, 23.05it/s]\n"
     ]
    },
    {
     "name": "stdout",
     "output_type": "stream",
     "text": [
      "\n",
      "Test set: Average loss: 0.1211, Accuracy: 9614/10000 (96.14%)\n",
      "\n",
      "EPOCH: 4\n",
      "LR: [0.3]\n"
     ]
    },
    {
     "name": "stderr",
     "output_type": "stream",
     "text": [
      "Loss=0.3640294671058655 Batch_id=468 Accuracy=95.09: 100%|██████████| 469/469 [00:18<00:00, 25.72it/s]\n"
     ]
    },
    {
     "name": "stdout",
     "output_type": "stream",
     "text": [
      "\n",
      "Test set: Average loss: 0.1399, Accuracy: 9567/10000 (95.67%)\n",
      "\n",
      "EPOCH: 5\n",
      "LR: [0.3]\n"
     ]
    },
    {
     "name": "stderr",
     "output_type": "stream",
     "text": [
      "Loss=0.3777469992637634 Batch_id=468 Accuracy=95.29: 100%|██████████| 469/469 [00:18<00:00, 25.43it/s]\n"
     ]
    },
    {
     "name": "stdout",
     "output_type": "stream",
     "text": [
      "\n",
      "Test set: Average loss: 0.1198, Accuracy: 9627/10000 (96.27%)\n",
      "\n",
      "EPOCH: 6\n",
      "LR: [0.03]\n"
     ]
    },
    {
     "name": "stderr",
     "output_type": "stream",
     "text": [
      "Loss=0.5041921734809875 Batch_id=468 Accuracy=97.43: 100%|██████████| 469/469 [00:18<00:00, 25.10it/s]\n"
     ]
    },
    {
     "name": "stdout",
     "output_type": "stream",
     "text": [
      "\n",
      "Test set: Average loss: 0.0508, Accuracy: 9841/10000 (98.41%)\n",
      "\n",
      "EPOCH: 7\n",
      "LR: [0.03]\n"
     ]
    },
    {
     "name": "stderr",
     "output_type": "stream",
     "text": [
      "Loss=0.26594382524490356 Batch_id=468 Accuracy=97.54: 100%|██████████| 469/469 [00:18<00:00, 25.64it/s]\n"
     ]
    },
    {
     "name": "stdout",
     "output_type": "stream",
     "text": [
      "\n",
      "Test set: Average loss: 0.0463, Accuracy: 9851/10000 (98.51%)\n",
      "\n",
      "EPOCH: 8\n",
      "LR: [0.03]\n"
     ]
    },
    {
     "name": "stderr",
     "output_type": "stream",
     "text": [
      "Loss=0.28028208017349243 Batch_id=468 Accuracy=97.47: 100%|██████████| 469/469 [00:18<00:00, 25.22it/s]\n"
     ]
    },
    {
     "name": "stdout",
     "output_type": "stream",
     "text": [
      "\n",
      "Test set: Average loss: 0.0583, Accuracy: 9813/10000 (98.13%)\n",
      "\n",
      "EPOCH: 9\n",
      "LR: [0.03]\n"
     ]
    },
    {
     "name": "stderr",
     "output_type": "stream",
     "text": [
      "Loss=0.27756088972091675 Batch_id=468 Accuracy=97.39: 100%|██████████| 469/469 [00:18<00:00, 25.48it/s]\n"
     ]
    },
    {
     "name": "stdout",
     "output_type": "stream",
     "text": [
      "\n",
      "Test set: Average loss: 0.0666, Accuracy: 9779/10000 (97.79%)\n",
      "\n",
      "EPOCH: 10\n",
      "LR: [0.03]\n"
     ]
    },
    {
     "name": "stderr",
     "output_type": "stream",
     "text": [
      "Loss=0.26132896542549133 Batch_id=468 Accuracy=97.27: 100%|██████████| 469/469 [00:18<00:00, 25.13it/s]\n"
     ]
    },
    {
     "name": "stdout",
     "output_type": "stream",
     "text": [
      "\n",
      "Test set: Average loss: 0.0737, Accuracy: 9755/10000 (97.55%)\n",
      "\n",
      "EPOCH: 11\n",
      "LR: [0.03]\n"
     ]
    },
    {
     "name": "stderr",
     "output_type": "stream",
     "text": [
      "Loss=0.22757922112941742 Batch_id=468 Accuracy=97.17: 100%|██████████| 469/469 [00:18<00:00, 25.28it/s]\n"
     ]
    },
    {
     "name": "stdout",
     "output_type": "stream",
     "text": [
      "\n",
      "Test set: Average loss: 0.0790, Accuracy: 9769/10000 (97.69%)\n",
      "\n",
      "EPOCH: 12\n",
      "LR: [0.003]\n"
     ]
    },
    {
     "name": "stderr",
     "output_type": "stream",
     "text": [
      "Loss=0.1861853450536728 Batch_id=468 Accuracy=97.90: 100%|██████████| 469/469 [00:20<00:00, 23.19it/s]\n"
     ]
    },
    {
     "name": "stdout",
     "output_type": "stream",
     "text": [
      "\n",
      "Test set: Average loss: 0.0377, Accuracy: 9888/10000 (98.88%)\n",
      "\n",
      "EPOCH: 13\n",
      "LR: [0.003]\n"
     ]
    },
    {
     "name": "stderr",
     "output_type": "stream",
     "text": [
      "Loss=0.21851131319999695 Batch_id=468 Accuracy=98.06: 100%|██████████| 469/469 [00:18<00:00, 25.32it/s]\n"
     ]
    },
    {
     "name": "stdout",
     "output_type": "stream",
     "text": [
      "\n",
      "Test set: Average loss: 0.0366, Accuracy: 9887/10000 (98.87%)\n",
      "\n",
      "EPOCH: 14\n",
      "LR: [0.003]\n"
     ]
    },
    {
     "name": "stderr",
     "output_type": "stream",
     "text": [
      "Loss=0.20470254123210907 Batch_id=468 Accuracy=98.05: 100%|██████████| 469/469 [00:18<00:00, 25.32it/s]\n"
     ]
    },
    {
     "name": "stdout",
     "output_type": "stream",
     "text": [
      "\n",
      "Test set: Average loss: 0.0350, Accuracy: 9890/10000 (98.90%)\n",
      "\n",
      "EPOCH: 15\n",
      "LR: [0.003]\n"
     ]
    },
    {
     "name": "stderr",
     "output_type": "stream",
     "text": [
      "Loss=0.17142538726329803 Batch_id=468 Accuracy=97.99: 100%|██████████| 469/469 [00:18<00:00, 25.59it/s]\n"
     ]
    },
    {
     "name": "stdout",
     "output_type": "stream",
     "text": [
      "\n",
      "Test set: Average loss: 0.0356, Accuracy: 9897/10000 (98.97%)\n",
      "\n",
      "EPOCH: 16\n",
      "LR: [0.003]\n"
     ]
    },
    {
     "name": "stderr",
     "output_type": "stream",
     "text": [
      "Loss=0.24000966548919678 Batch_id=468 Accuracy=98.04: 100%|██████████| 469/469 [00:18<00:00, 25.71it/s]\n"
     ]
    },
    {
     "name": "stdout",
     "output_type": "stream",
     "text": [
      "\n",
      "Test set: Average loss: 0.0375, Accuracy: 9883/10000 (98.83%)\n",
      "\n",
      "EPOCH: 17\n",
      "LR: [0.003]\n"
     ]
    },
    {
     "name": "stderr",
     "output_type": "stream",
     "text": [
      "Loss=0.17039190232753754 Batch_id=468 Accuracy=98.10: 100%|██████████| 469/469 [00:18<00:00, 25.54it/s]\n"
     ]
    },
    {
     "name": "stdout",
     "output_type": "stream",
     "text": [
      "\n",
      "Test set: Average loss: 0.0386, Accuracy: 9881/10000 (98.81%)\n",
      "\n",
      "EPOCH: 18\n",
      "LR: [0.00030000000000000003]\n"
     ]
    },
    {
     "name": "stderr",
     "output_type": "stream",
     "text": [
      "Loss=0.16440097987651825 Batch_id=468 Accuracy=98.13: 100%|██████████| 469/469 [00:18<00:00, 25.43it/s]\n"
     ]
    },
    {
     "name": "stdout",
     "output_type": "stream",
     "text": [
      "\n",
      "Test set: Average loss: 0.0365, Accuracy: 9887/10000 (98.87%)\n",
      "\n",
      "EPOCH: 19\n",
      "LR: [0.00030000000000000003]\n"
     ]
    },
    {
     "name": "stderr",
     "output_type": "stream",
     "text": [
      "Loss=0.174587681889534 Batch_id=468 Accuracy=98.17: 100%|██████████| 469/469 [00:18<00:00, 25.78it/s]\n"
     ]
    },
    {
     "name": "stdout",
     "output_type": "stream",
     "text": [
      "\n",
      "Test set: Average loss: 0.0356, Accuracy: 9893/10000 (98.93%)\n",
      "\n",
      "******** using the GROUP noramlization technique ************\n",
      "EPOCH: 0\n",
      "LR: [0.3]\n"
     ]
    },
    {
     "name": "stderr",
     "output_type": "stream",
     "text": [
      "Loss=0.5795656442642212 Batch_id=468 Accuracy=84.30: 100%|██████████| 469/469 [00:19<00:00, 24.56it/s]\n"
     ]
    },
    {
     "name": "stdout",
     "output_type": "stream",
     "text": [
      "\n",
      "Test set: Average loss: 0.1682, Accuracy: 9507/10000 (95.07%)\n",
      "\n",
      "EPOCH: 1\n",
      "LR: [0.3]\n"
     ]
    },
    {
     "name": "stderr",
     "output_type": "stream",
     "text": [
      "Loss=0.5233907699584961 Batch_id=468 Accuracy=93.33: 100%|██████████| 469/469 [00:20<00:00, 23.15it/s]\n"
     ]
    },
    {
     "name": "stdout",
     "output_type": "stream",
     "text": [
      "\n",
      "Test set: Average loss: 0.1220, Accuracy: 9624/10000 (96.24%)\n",
      "\n",
      "EPOCH: 2\n",
      "LR: [0.3]\n"
     ]
    },
    {
     "name": "stderr",
     "output_type": "stream",
     "text": [
      "Loss=0.47963747382164 Batch_id=468 Accuracy=93.81: 100%|██████████| 469/469 [00:18<00:00, 24.69it/s]\n"
     ]
    },
    {
     "name": "stdout",
     "output_type": "stream",
     "text": [
      "\n",
      "Test set: Average loss: 0.1138, Accuracy: 9641/10000 (96.41%)\n",
      "\n",
      "EPOCH: 3\n",
      "LR: [0.3]\n"
     ]
    },
    {
     "name": "stderr",
     "output_type": "stream",
     "text": [
      "Loss=0.4662612974643707 Batch_id=468 Accuracy=94.11: 100%|██████████| 469/469 [00:18<00:00, 25.32it/s]\n"
     ]
    },
    {
     "name": "stdout",
     "output_type": "stream",
     "text": [
      "\n",
      "Test set: Average loss: 0.1052, Accuracy: 9686/10000 (96.86%)\n",
      "\n",
      "EPOCH: 4\n",
      "LR: [0.3]\n"
     ]
    },
    {
     "name": "stderr",
     "output_type": "stream",
     "text": [
      "Loss=0.48432886600494385 Batch_id=468 Accuracy=94.24: 100%|██████████| 469/469 [00:18<00:00, 24.91it/s]\n"
     ]
    },
    {
     "name": "stdout",
     "output_type": "stream",
     "text": [
      "\n",
      "Test set: Average loss: 0.1117, Accuracy: 9674/10000 (96.74%)\n",
      "\n",
      "EPOCH: 5\n",
      "LR: [0.3]\n"
     ]
    },
    {
     "name": "stderr",
     "output_type": "stream",
     "text": [
      "Loss=0.5958213806152344 Batch_id=468 Accuracy=94.31: 100%|██████████| 469/469 [00:18<00:00, 24.94it/s]\n"
     ]
    },
    {
     "name": "stdout",
     "output_type": "stream",
     "text": [
      "\n",
      "Test set: Average loss: 0.1745, Accuracy: 9538/10000 (95.38%)\n",
      "\n",
      "EPOCH: 6\n",
      "LR: [0.03]\n"
     ]
    },
    {
     "name": "stderr",
     "output_type": "stream",
     "text": [
      "Loss=0.4063910245895386 Batch_id=468 Accuracy=96.88: 100%|██████████| 469/469 [00:18<00:00, 24.71it/s]\n"
     ]
    },
    {
     "name": "stdout",
     "output_type": "stream",
     "text": [
      "\n",
      "Test set: Average loss: 0.0459, Accuracy: 9856/10000 (98.56%)\n",
      "\n",
      "EPOCH: 7\n",
      "LR: [0.03]\n"
     ]
    },
    {
     "name": "stderr",
     "output_type": "stream",
     "text": [
      "Loss=0.33879685401916504 Batch_id=468 Accuracy=97.13: 100%|██████████| 469/469 [00:18<00:00, 25.14it/s]\n"
     ]
    },
    {
     "name": "stdout",
     "output_type": "stream",
     "text": [
      "\n",
      "Test set: Average loss: 0.0484, Accuracy: 9845/10000 (98.45%)\n",
      "\n",
      "EPOCH: 8\n",
      "LR: [0.03]\n"
     ]
    },
    {
     "name": "stderr",
     "output_type": "stream",
     "text": [
      "Loss=0.24777594208717346 Batch_id=468 Accuracy=97.01: 100%|██████████| 469/469 [00:18<00:00, 24.82it/s]\n"
     ]
    },
    {
     "name": "stdout",
     "output_type": "stream",
     "text": [
      "\n",
      "Test set: Average loss: 0.0646, Accuracy: 9794/10000 (97.94%)\n",
      "\n",
      "EPOCH: 9\n",
      "LR: [0.03]\n"
     ]
    },
    {
     "name": "stderr",
     "output_type": "stream",
     "text": [
      "Loss=0.41879355907440186 Batch_id=468 Accuracy=97.02: 100%|██████████| 469/469 [00:19<00:00, 24.59it/s]\n"
     ]
    },
    {
     "name": "stdout",
     "output_type": "stream",
     "text": [
      "\n",
      "Test set: Average loss: 0.0575, Accuracy: 9824/10000 (98.24%)\n",
      "\n",
      "EPOCH: 10\n",
      "LR: [0.03]\n"
     ]
    },
    {
     "name": "stderr",
     "output_type": "stream",
     "text": [
      "Loss=0.22780248522758484 Batch_id=468 Accuracy=96.97: 100%|██████████| 469/469 [00:20<00:00, 23.04it/s]\n"
     ]
    },
    {
     "name": "stdout",
     "output_type": "stream",
     "text": [
      "\n",
      "Test set: Average loss: 0.0526, Accuracy: 9849/10000 (98.49%)\n",
      "\n",
      "EPOCH: 11\n",
      "LR: [0.03]\n"
     ]
    },
    {
     "name": "stderr",
     "output_type": "stream",
     "text": [
      "Loss=0.307557612657547 Batch_id=468 Accuracy=96.83: 100%|██████████| 469/469 [00:18<00:00, 25.26it/s]\n"
     ]
    },
    {
     "name": "stdout",
     "output_type": "stream",
     "text": [
      "\n",
      "Test set: Average loss: 0.0592, Accuracy: 9828/10000 (98.28%)\n",
      "\n",
      "EPOCH: 12\n",
      "LR: [0.003]\n"
     ]
    },
    {
     "name": "stderr",
     "output_type": "stream",
     "text": [
      "Loss=0.364819198846817 Batch_id=468 Accuracy=97.61: 100%|██████████| 469/469 [00:18<00:00, 25.12it/s]\n"
     ]
    },
    {
     "name": "stdout",
     "output_type": "stream",
     "text": [
      "\n",
      "Test set: Average loss: 0.0405, Accuracy: 9871/10000 (98.71%)\n",
      "\n",
      "EPOCH: 13\n",
      "LR: [0.003]\n"
     ]
    },
    {
     "name": "stderr",
     "output_type": "stream",
     "text": [
      "Loss=0.19795635342597961 Batch_id=468 Accuracy=97.67: 100%|██████████| 469/469 [00:18<00:00, 25.44it/s]\n"
     ]
    },
    {
     "name": "stdout",
     "output_type": "stream",
     "text": [
      "\n",
      "Test set: Average loss: 0.0402, Accuracy: 9870/10000 (98.70%)\n",
      "\n",
      "EPOCH: 14\n",
      "LR: [0.003]\n"
     ]
    },
    {
     "name": "stderr",
     "output_type": "stream",
     "text": [
      "Loss=0.21795621514320374 Batch_id=468 Accuracy=97.73: 100%|██████████| 469/469 [00:18<00:00, 25.41it/s]\n"
     ]
    },
    {
     "name": "stdout",
     "output_type": "stream",
     "text": [
      "\n",
      "Test set: Average loss: 0.0384, Accuracy: 9873/10000 (98.73%)\n",
      "\n",
      "EPOCH: 15\n",
      "LR: [0.003]\n"
     ]
    },
    {
     "name": "stderr",
     "output_type": "stream",
     "text": [
      "Loss=0.19523602724075317 Batch_id=468 Accuracy=97.67: 100%|██████████| 469/469 [00:18<00:00, 25.30it/s]\n"
     ]
    },
    {
     "name": "stdout",
     "output_type": "stream",
     "text": [
      "\n",
      "Test set: Average loss: 0.0380, Accuracy: 9882/10000 (98.82%)\n",
      "\n",
      "EPOCH: 16\n",
      "LR: [0.003]\n"
     ]
    },
    {
     "name": "stderr",
     "output_type": "stream",
     "text": [
      "Loss=0.18094246089458466 Batch_id=468 Accuracy=97.66: 100%|██████████| 469/469 [00:18<00:00, 25.35it/s]\n"
     ]
    },
    {
     "name": "stdout",
     "output_type": "stream",
     "text": [
      "\n",
      "Test set: Average loss: 0.0366, Accuracy: 9887/10000 (98.87%)\n",
      "\n",
      "EPOCH: 17\n",
      "LR: [0.003]\n"
     ]
    },
    {
     "name": "stderr",
     "output_type": "stream",
     "text": [
      "Loss=0.24212488532066345 Batch_id=468 Accuracy=97.72: 100%|██████████| 469/469 [00:18<00:00, 25.24it/s]\n"
     ]
    },
    {
     "name": "stdout",
     "output_type": "stream",
     "text": [
      "\n",
      "Test set: Average loss: 0.0396, Accuracy: 9874/10000 (98.74%)\n",
      "\n",
      "EPOCH: 18\n",
      "LR: [0.00030000000000000003]\n"
     ]
    },
    {
     "name": "stderr",
     "output_type": "stream",
     "text": [
      "Loss=0.25498494505882263 Batch_id=468 Accuracy=97.79: 100%|██████████| 469/469 [00:18<00:00, 25.30it/s]\n"
     ]
    },
    {
     "name": "stdout",
     "output_type": "stream",
     "text": [
      "\n",
      "Test set: Average loss: 0.0362, Accuracy: 9886/10000 (98.86%)\n",
      "\n",
      "EPOCH: 19\n",
      "LR: [0.00030000000000000003]\n"
     ]
    },
    {
     "name": "stderr",
     "output_type": "stream",
     "text": [
      "Loss=0.23897825181484222 Batch_id=468 Accuracy=97.92: 100%|██████████| 469/469 [00:18<00:00, 25.29it/s]\n"
     ]
    },
    {
     "name": "stdout",
     "output_type": "stream",
     "text": [
      "\n",
      "Test set: Average loss: 0.0354, Accuracy: 9893/10000 (98.93%)\n",
      "\n"
     ]
    }
   ],
   "source": [
    "from torch.optim.lr_scheduler import StepLR\n",
    "#scheduler = torch.optim.lr_scheduler.OneCycleLR(optimizer, max_lr=0.01, steps_per_epoch=len(train_loader), epochs=15)\n",
    "lstNorms=['LAYER','BATCH','GROUP']\n",
    "modelNamePrefix=\"normalizationModels_\"\n",
    "train_losses_dict = {}\n",
    "test_losses_dict = {}\n",
    "train_acc_dict = {}\n",
    "test_acc_dict = {}\n",
    "use_L1_regularization=False\n",
    "\n",
    "for norm in lstNorms:\n",
    "  print(\"******** using the \"+ norm+\" noramlization technique ************\")\n",
    "  model =  Net(norm).to(device)\n",
    "  ## oprimizerr & Scheduler\n",
    "  optimizer = optim.SGD(model.parameters(), lr=0.3, momentum=0.9)\n",
    "  scheduler = StepLR(optimizer, step_size=6, gamma=0.1)\n",
    "  \n",
    "  ## variables to hold the losses & accuracy\n",
    "  train_losses = []\n",
    "  test_losses = []\n",
    "  train_acc = []\n",
    "  test_acc = []\n",
    "  \n",
    "  for epoch in range(EPOCHS):\n",
    "      print(\"EPOCH:\", epoch)\n",
    "      print('LR:', scheduler.get_last_lr())\n",
    "      if(norm==\"BATCH\"):\n",
    "        use_L1_regularization=True      \n",
    "      train(model, device, train_loader, optimizer,use_L1_regularization, epoch)\n",
    "      test(model, device, test_loader)\n",
    "      scheduler.step()\n",
    "  torch.save(model,\"/content/drive/MyDrive/Colab_Notebooks/EVA8/normalizationTechniques/Models/\"+modelNamePrefix+\"_\"+norm)\n",
    "  del model\n",
    "  \n",
    "  t=[t.cpu().item() for t in train_losses]\n",
    "  train_losses_dict[norm]=t\n",
    "  test_losses_dict[norm]=test_losses\n",
    "  train_acc_dict[norm]=train_acc\n",
    "  test_acc_dict[norm]=test_acc\n",
    "\n"
   ]
  },
  {
   "cell_type": "markdown",
   "metadata": {
    "id": "7XbJghZxBmbM"
   },
   "source": [
    "## Plotting the Results"
   ]
  },
  {
   "cell_type": "code",
   "execution_count": null,
   "metadata": {
    "colab": {
     "base_uri": "https://localhost:8080/",
     "height": 899
    },
    "id": "RrMn9jkmuDCW",
    "outputId": "1e62f5d2-c2e1-49cd-8d37-e312caeab0e6"
   },
   "outputs": [
    {
     "data": {
      "image/png": "[encoded data removed]",
      "text/plain": [
       "<Figure size 1080x1080 with 6 Axes>"
      ]
     },
     "metadata": {},
     "output_type": "display_data"
    }
   ],
   "source": [
    "\n",
    "## first bdirn the data to the cpu\n",
    "import numpy as np\n",
    "t=[t.cpu().item() for t in train_losses]\n",
    "import seaborn as sns\n",
    "import matplotlib.pyplot as plt\n",
    "sns.set()\n",
    "\n",
    "fig, axs = plt.subplots(2,3,figsize=(15,15))\n",
    "num_col=3\n",
    "num_row=2\n",
    "for i in range(num_row):\n",
    "  for j in range(num_col):\n",
    "    if(i==0):\n",
    "      axs[i, j].plot(test_losses_dict[lstNorms[j]])\n",
    "      axs[i,j].set_title(\"Test_Loss_\"+lstNorms[j])\n",
    "      #axs[i,j].set_xticks(range(0,21))\n",
    "\n",
    "    else:\n",
    "      axs[i, j].plot(test_acc_dict[lstNorms[j]])\n",
    "      axs[i,j].set_title(\"Test_Acc_\"+lstNorms[j])\n",
    "    axs[i,j].set_xlabel(\"Epochs\")  \n",
    "\n",
    "plt.show()\n",
    "\n",
    "\n",
    "     "
   ]
  },
  {
   "cell_type": "markdown",
   "metadata": {
    "id": "SDoT1N7Qtw1Y"
   },
   "source": [
    "## Checking for Misclassifications"
   ]
  },
  {
   "cell_type": "code",
   "execution_count": null,
   "metadata": {
    "id": "tN61WU-BcFIF"
   },
   "outputs": [],
   "source": [
    "def get_misclassified(model, device, test_loader):\n",
    "    misclassified = []\n",
    "    misclassified_pred = []\n",
    "    misclassified_target = []\n",
    "    # put the model to evaluation mode\n",
    "    model.eval()\n",
    "    # turn off gradients\n",
    "    with torch.no_grad():\n",
    "        for data, target in test_loader:\n",
    "            # move them to the respective device\n",
    "            data, target = data.to(device), target.to(device)\n",
    "            # do inferencing\n",
    "            output = model(data)\n",
    "            # get the predicted output\n",
    "            pred = output.argmax(dim=1, keepdim=True)\n",
    "\n",
    "            # get the current misclassified in this batch\n",
    "            list_misclassified = (pred.eq(target.view_as(pred)) == False)\n",
    "            batch_misclassified = data[list_misclassified]\n",
    "            batch_mis_pred = pred[list_misclassified]\n",
    "            batch_mis_target = target.view_as(pred)[list_misclassified]\n",
    "\n",
    "            # batch_misclassified =\n",
    "\n",
    "            misclassified.append(batch_misclassified)\n",
    "            misclassified_pred.append(batch_mis_pred)\n",
    "            misclassified_target.append(batch_mis_target)\n",
    "\n",
    "    # group all the batched together\n",
    "    misclassified = torch.cat(misclassified)\n",
    "    misclassified_pred = torch.cat(misclassified_pred)\n",
    "    misclassified_target = torch.cat(misclassified_target)\n",
    "\n",
    "    return list(map(lambda x, y, z: (x, y, z), misclassified, misclassified_pred, misclassified_target))\n",
    "     "
   ]
  },
  {
   "cell_type": "code",
   "execution_count": null,
   "metadata": {
    "id": "fihs5kRtcMM7"
   },
   "outputs": [],
   "source": [
    "def plotMisclassified(misclassified):\n",
    "  import seaborn as sns\n",
    "  import matplotlib.pyplot as plt\n",
    "  num_images = 10\n",
    "  num_row=5\n",
    "  num_col=2\n",
    "  #fig = plt.figure()\n",
    "  fig, axes = plt.subplots(num_row, num_col, figsize=(1.5*num_col,2*num_row))\n",
    "  for idx, (image, pred, target) in enumerate(misclassified[:num_images]):\n",
    "      image, pred, target = image.cpu().numpy(), pred.cpu(), target.cpu()\n",
    "      # ax = fig.add_subplot(2, 5, idx+1)\n",
    "      ax=axes[idx//num_col, idx%num_col]\n",
    "      ax.axis('off')\n",
    "\n",
    "      ax.set_title('\\ntarget {},pred {}'.format(target.item(), pred.item()), fontsize=10)\n",
    "      ax.imshow(image,interpolation='bilinear')\n",
    "      ax.axis('off')\n",
    "  #plt.tight_layout()\n",
    "  #plt.figure(12,12)\n",
    "  plt.show()"
   ]
  },
  {
   "cell_type": "code",
   "execution_count": null,
   "metadata": {
    "colab": {
     "base_uri": "https://localhost:8080/",
     "height": 1000
    },
    "id": "VzWjWXFqcIO2",
    "outputId": "7cf832a6-fa8d-4f6c-c41a-3a8a26cf9a72"
   },
   "outputs": [
    {
     "name": "stdout",
     "output_type": "stream",
     "text": [
      "Getting Misclassifications for the Model with Norm  LAYER\n"
     ]
    },
    {
     "data": {
      "image/png": "[encoded data removed]",
      "text/plain": [
       "<Figure size 216x720 with 10 Axes>"
      ]
     },
     "metadata": {},
     "output_type": "display_data"
    },
    {
     "name": "stdout",
     "output_type": "stream",
     "text": [
      "********************************\n",
      "Getting Misclassifications for the Model with Norm  BATCH\n"
     ]
    },
    {
     "data": {
      "image/png": "[encoded data removed]",
      "text/plain": [
       "<Figure size 216x720 with 10 Axes>"
      ]
     },
     "metadata": {},
     "output_type": "display_data"
    },
    {
     "name": "stdout",
     "output_type": "stream",
     "text": [
      "********************************\n",
      "Getting Misclassifications for the Model with Norm  GROUP\n"
     ]
    },
    {
     "data": {
      "image/png": "[encoded data removed]",
      "text/plain": [
       "<Figure size 216x720 with 10 Axes>"
      ]
     },
     "metadata": {},
     "output_type": "display_data"
    },
    {
     "name": "stdout",
     "output_type": "stream",
     "text": [
      "********************************\n"
     ]
    }
   ],
   "source": [
    "for norm in lstNorms:\n",
    "  print(\"Getting Misclassifications for the Model with Norm \",norm)\n",
    "  model=torch.load(\"/content/drive/MyDrive/Colab_Notebooks/EVA8/normalizationTechniques/Models/\"+modelNamePrefix+\"_\"+norm)\n",
    "  misclassified = get_misclassified(model, device, test_loader)\n",
    "  plotMisclassified(misclassified)\n",
    "  print(\"********************************\")\n"
   ]
  }
 ],
 "metadata": {
  "accelerator": "GPU",
  "colab": {
   "provenance": []
  },
  "gpuClass": "standard",
  "kernelspec": {
   "display_name": "Python 3 (ipykernel)",
   "language": "python",
   "name": "python3"
  },
  "language_info": {
   "codemirror_mode": {
    "name": "ipython",
    "version": 3
   },
   "file_extension": ".py",
   "mimetype": "text/x-python",
   "name": "python",
   "nbconvert_exporter": "python",
   "pygments_lexer": "ipython3",
   "version": "3.7.11"
  },
  "widgets": {
   "application/vnd.jupyter.widget-state+json": {
    "02f1000548534e3d997bf4363b20c674": {
     "model_module": "@jupyter-widgets/controls",
     "model_module_version": "1.5.0",
     "model_name": "HTMLModel",
     "state": {
      "_dom_classes": [],
      "_model_module": "@jupyter-widgets/controls",
      "_model_module_version": "1.5.0",
      "_model_name": "HTMLModel",
      "_view_count": null,
      "_view_module": "@jupyter-widgets/controls",
      "_view_module_version": "1.5.0",
      "_view_name": "HTMLView",
      "description": "",
      "description_tooltip": null,
      "layout": "IPY_MODEL_61db4c0284d74c75a7c9a68dcdc26b67",
      "placeholder": "​",
      "style": "IPY_MODEL_2c885d6e47d54163a2544f85082f6be7",
      "value": "100%"
     }
    },
    "03041b5ea3144ad7a005f22420b0a9f6": {
     "model_module": "@jupyter-widgets/base",
     "model_module_version": "1.2.0",
     "model_name": "LayoutModel",
     "state": {
      "_model_module": "@jupyter-widgets/base",
      "_model_module_version": "1.2.0",
      "_model_name": "LayoutModel",
      "_view_count": null,
      "_view_module": "@jupyter-widgets/base",
      "_view_module_version": "1.2.0",
      "_view_name": "LayoutView",
      "align_content": null,
      "align_items": null,
      "align_self": null,
      "border": null,
      "bottom": null,
      "display": null,
      "flex": null,
      "flex_flow": null,
      "grid_area": null,
      "grid_auto_columns": null,
      "grid_auto_flow": null,
      "grid_auto_rows": null,
      "grid_column": null,
      "grid_gap": null,
      "grid_row": null,
      "grid_template_areas": null,
      "grid_template_columns": null,
      "grid_template_rows": null,
      "height": null,
      "justify_content": null,
      "justify_items": null,
      "left": null,
      "margin": null,
      "max_height": null,
      "max_width": null,
      "min_height": null,
      "min_width": null,
      "object_fit": null,
      "object_position": null,
      "order": null,
      "overflow": null,
      "overflow_x": null,
      "overflow_y": null,
      "padding": null,
      "right": null,
      "top": null,
      "visibility": null,
      "width": null
     }
    },
    "0542838533aa466391c34f8ecd10c1ba": {
     "model_module": "@jupyter-widgets/base",
     "model_module_version": "1.2.0",
     "model_name": "LayoutModel",
     "state": {
      "_model_module": "@jupyter-widgets/base",
      "_model_module_version": "1.2.0",
      "_model_name": "LayoutModel",
      "_view_count": null,
      "_view_module": "@jupyter-widgets/base",
      "_view_module_version": "1.2.0",
      "_view_name": "LayoutView",
      "align_content": null,
      "align_items": null,
      "align_self": null,
      "border": null,
      "bottom": null,
      "display": null,
      "flex": null,
      "flex_flow": null,
      "grid_area": null,
      "grid_auto_columns": null,
      "grid_auto_flow": null,
      "grid_auto_rows": null,
      "grid_column": null,
      "grid_gap": null,
      "grid_row": null,
      "grid_template_areas": null,
      "grid_template_columns": null,
      "grid_template_rows": null,
      "height": null,
      "justify_content": null,
      "justify_items": null,
      "left": null,
      "margin": null,
      "max_height": null,
      "max_width": null,
      "min_height": null,
      "min_width": null,
      "object_fit": null,
      "object_position": null,
      "order": null,
      "overflow": null,
      "overflow_x": null,
      "overflow_y": null,
      "padding": null,
      "right": null,
      "top": null,
      "visibility": null,
      "width": null
     }
    },
    "08e260b97ba645c4a778e4d2b86df9f5": {
     "model_module": "@jupyter-widgets/controls",
     "model_module_version": "1.5.0",
     "model_name": "ProgressStyleModel",
     "state": {
      "_model_module": "@jupyter-widgets/controls",
      "_model_module_version": "1.5.0",
      "_model_name": "ProgressStyleModel",
      "_view_count": null,
      "_view_module": "@jupyter-widgets/base",
      "_view_module_version": "1.2.0",
      "_view_name": "StyleView",
      "bar_color": null,
      "description_width": ""
     }
    },
    "0b5a00a1f9844e4dac16684b6252905a": {
     "model_module": "@jupyter-widgets/controls",
     "model_module_version": "1.5.0",
     "model_name": "FloatProgressModel",
     "state": {
      "_dom_classes": [],
      "_model_module": "@jupyter-widgets/controls",
      "_model_module_version": "1.5.0",
      "_model_name": "FloatProgressModel",
      "_view_count": null,
      "_view_module": "@jupyter-widgets/controls",
      "_view_module_version": "1.5.0",
      "_view_name": "ProgressView",
      "bar_style": "success",
      "description": "",
      "description_tooltip": null,
      "layout": "IPY_MODEL_20fb763136364253a7ededa3455a7b6f",
      "max": 9912422,
      "min": 0,
      "orientation": "horizontal",
      "style": "IPY_MODEL_08e260b97ba645c4a778e4d2b86df9f5",
      "value": 9912422
     }
    },
    "0c16ae10894a47d68bf1b08a96f30873": {
     "model_module": "@jupyter-widgets/controls",
     "model_module_version": "1.5.0",
     "model_name": "ProgressStyleModel",
     "state": {
      "_model_module": "@jupyter-widgets/controls",
      "_model_module_version": "1.5.0",
      "_model_name": "ProgressStyleModel",
      "_view_count": null,
      "_view_module": "@jupyter-widgets/base",
      "_view_module_version": "1.2.0",
      "_view_name": "StyleView",
      "bar_color": null,
      "description_width": ""
     }
    },
    "16e80ec9820a455db8104c53f5199191": {
     "model_module": "@jupyter-widgets/controls",
     "model_module_version": "1.5.0",
     "model_name": "HTMLModel",
     "state": {
      "_dom_classes": [],
      "_model_module": "@jupyter-widgets/controls",
      "_model_module_version": "1.5.0",
      "_model_name": "HTMLModel",
      "_view_count": null,
      "_view_module": "@jupyter-widgets/controls",
      "_view_module_version": "1.5.0",
      "_view_name": "HTMLView",
      "description": "",
      "description_tooltip": null,
      "layout": "IPY_MODEL_03041b5ea3144ad7a005f22420b0a9f6",
      "placeholder": "​",
      "style": "IPY_MODEL_19205f16faba426aaf067adbbce4b5e5",
      "value": "100%"
     }
    },
    "19205f16faba426aaf067adbbce4b5e5": {
     "model_module": "@jupyter-widgets/controls",
     "model_module_version": "1.5.0",
     "model_name": "DescriptionStyleModel",
     "state": {
      "_model_module": "@jupyter-widgets/controls",
      "_model_module_version": "1.5.0",
      "_model_name": "DescriptionStyleModel",
      "_view_count": null,
      "_view_module": "@jupyter-widgets/base",
      "_view_module_version": "1.2.0",
      "_view_name": "StyleView",
      "description_width": ""
     }
    },
    "1f9c926c90764029acbbd3a510f845d5": {
     "model_module": "@jupyter-widgets/controls",
     "model_module_version": "1.5.0",
     "model_name": "HTMLModel",
     "state": {
      "_dom_classes": [],
      "_model_module": "@jupyter-widgets/controls",
      "_model_module_version": "1.5.0",
      "_model_name": "HTMLModel",
      "_view_count": null,
      "_view_module": "@jupyter-widgets/controls",
      "_view_module_version": "1.5.0",
      "_view_name": "HTMLView",
      "description": "",
      "description_tooltip": null,
      "layout": "IPY_MODEL_479b99d09e55434aa93fceca86327dbb",
      "placeholder": "​",
      "style": "IPY_MODEL_c14bad606421428f9bd03d079120094e",
      "value": " 28881/28881 [00:00&lt;00:00, 1835834.35it/s]"
     }
    },
    "20fb763136364253a7ededa3455a7b6f": {
     "model_module": "@jupyter-widgets/base",
     "model_module_version": "1.2.0",
     "model_name": "LayoutModel",
     "state": {
      "_model_module": "@jupyter-widgets/base",
      "_model_module_version": "1.2.0",
      "_model_name": "LayoutModel",
      "_view_count": null,
      "_view_module": "@jupyter-widgets/base",
      "_view_module_version": "1.2.0",
      "_view_name": "LayoutView",
      "align_content": null,
      "align_items": null,
      "align_self": null,
      "border": null,
      "bottom": null,
      "display": null,
      "flex": null,
      "flex_flow": null,
      "grid_area": null,
      "grid_auto_columns": null,
      "grid_auto_flow": null,
      "grid_auto_rows": null,
      "grid_column": null,
      "grid_gap": null,
      "grid_row": null,
      "grid_template_areas": null,
      "grid_template_columns": null,
      "grid_template_rows": null,
      "height": null,
      "justify_content": null,
      "justify_items": null,
      "left": null,
      "margin": null,
      "max_height": null,
      "max_width": null,
      "min_height": null,
      "min_width": null,
      "object_fit": null,
      "object_position": null,
      "order": null,
      "overflow": null,
      "overflow_x": null,
      "overflow_y": null,
      "padding": null,
      "right": null,
      "top": null,
      "visibility": null,
      "width": null
     }
    },
    "29dd322fe444478bb69c9ac04acd5348": {
     "model_module": "@jupyter-widgets/base",
     "model_module_version": "1.2.0",
     "model_name": "LayoutModel",
     "state": {
      "_model_module": "@jupyter-widgets/base",
      "_model_module_version": "1.2.0",
      "_model_name": "LayoutModel",
      "_view_count": null,
      "_view_module": "@jupyter-widgets/base",
      "_view_module_version": "1.2.0",
      "_view_name": "LayoutView",
      "align_content": null,
      "align_items": null,
      "align_self": null,
      "border": null,
      "bottom": null,
      "display": null,
      "flex": null,
      "flex_flow": null,
      "grid_area": null,
      "grid_auto_columns": null,
      "grid_auto_flow": null,
      "grid_auto_rows": null,
      "grid_column": null,
      "grid_gap": null,
      "grid_row": null,
      "grid_template_areas": null,
      "grid_template_columns": null,
      "grid_template_rows": null,
      "height": null,
      "justify_content": null,
      "justify_items": null,
      "left": null,
      "margin": null,
      "max_height": null,
      "max_width": null,
      "min_height": null,
      "min_width": null,
      "object_fit": null,
      "object_position": null,
      "order": null,
      "overflow": null,
      "overflow_x": null,
      "overflow_y": null,
      "padding": null,
      "right": null,
      "top": null,
      "visibility": null,
      "width": null
     }
    },
    "2c885d6e47d54163a2544f85082f6be7": {
     "model_module": "@jupyter-widgets/controls",
     "model_module_version": "1.5.0",
     "model_name": "DescriptionStyleModel",
     "state": {
      "_model_module": "@jupyter-widgets/controls",
      "_model_module_version": "1.5.0",
      "_model_name": "DescriptionStyleModel",
      "_view_count": null,
      "_view_module": "@jupyter-widgets/base",
      "_view_module_version": "1.2.0",
      "_view_name": "StyleView",
      "description_width": ""
     }
    },
    "2f17fad1be434348ba04fd02ddf076a1": {
     "model_module": "@jupyter-widgets/base",
     "model_module_version": "1.2.0",
     "model_name": "LayoutModel",
     "state": {
      "_model_module": "@jupyter-widgets/base",
      "_model_module_version": "1.2.0",
      "_model_name": "LayoutModel",
      "_view_count": null,
      "_view_module": "@jupyter-widgets/base",
      "_view_module_version": "1.2.0",
      "_view_name": "LayoutView",
      "align_content": null,
      "align_items": null,
      "align_self": null,
      "border": null,
      "bottom": null,
      "display": null,
      "flex": null,
      "flex_flow": null,
      "grid_area": null,
      "grid_auto_columns": null,
      "grid_auto_flow": null,
      "grid_auto_rows": null,
      "grid_column": null,
      "grid_gap": null,
      "grid_row": null,
      "grid_template_areas": null,
      "grid_template_columns": null,
      "grid_template_rows": null,
      "height": null,
      "justify_content": null,
      "justify_items": null,
      "left": null,
      "margin": null,
      "max_height": null,
      "max_width": null,
      "min_height": null,
      "min_width": null,
      "object_fit": null,
      "object_position": null,
      "order": null,
      "overflow": null,
      "overflow_x": null,
      "overflow_y": null,
      "padding": null,
      "right": null,
      "top": null,
      "visibility": null,
      "width": null
     }
    },
    "3950a94ec2fd49798fd09a20b5ad3e4a": {
     "model_module": "@jupyter-widgets/controls",
     "model_module_version": "1.5.0",
     "model_name": "HBoxModel",
     "state": {
      "_dom_classes": [],
      "_model_module": "@jupyter-widgets/controls",
      "_model_module_version": "1.5.0",
      "_model_name": "HBoxModel",
      "_view_count": null,
      "_view_module": "@jupyter-widgets/controls",
      "_view_module_version": "1.5.0",
      "_view_name": "HBoxView",
      "box_style": "",
      "children": [
       "IPY_MODEL_5c19c0fc177d47ec92ab8dd6436a3f8b",
       "IPY_MODEL_0b5a00a1f9844e4dac16684b6252905a",
       "IPY_MODEL_acbf7f8fe8394bc0842d7992f0dead9b"
      ],
      "layout": "IPY_MODEL_746c478082d64b528e06bffb38896e61"
     }
    },
    "3a787226a8d04eb49c5aec3f32d98706": {
     "model_module": "@jupyter-widgets/controls",
     "model_module_version": "1.5.0",
     "model_name": "HBoxModel",
     "state": {
      "_dom_classes": [],
      "_model_module": "@jupyter-widgets/controls",
      "_model_module_version": "1.5.0",
      "_model_name": "HBoxModel",
      "_view_count": null,
      "_view_module": "@jupyter-widgets/controls",
      "_view_module_version": "1.5.0",
      "_view_name": "HBoxView",
      "box_style": "",
      "children": [
       "IPY_MODEL_16e80ec9820a455db8104c53f5199191",
       "IPY_MODEL_7a7680042be2418b8ebef8112f3d1cd6",
       "IPY_MODEL_ad2908e1d5bc4c7db7ec1e937b4b1f5f"
      ],
      "layout": "IPY_MODEL_9c6308adfc4749d4aef8cce4fa5a6def"
     }
    },
    "3dfac077731147fabe78b0690f3687ad": {
     "model_module": "@jupyter-widgets/controls",
     "model_module_version": "1.5.0",
     "model_name": "DescriptionStyleModel",
     "state": {
      "_model_module": "@jupyter-widgets/controls",
      "_model_module_version": "1.5.0",
      "_model_name": "DescriptionStyleModel",
      "_view_count": null,
      "_view_module": "@jupyter-widgets/base",
      "_view_module_version": "1.2.0",
      "_view_name": "StyleView",
      "description_width": ""
     }
    },
    "479b99d09e55434aa93fceca86327dbb": {
     "model_module": "@jupyter-widgets/base",
     "model_module_version": "1.2.0",
     "model_name": "LayoutModel",
     "state": {
      "_model_module": "@jupyter-widgets/base",
      "_model_module_version": "1.2.0",
      "_model_name": "LayoutModel",
      "_view_count": null,
      "_view_module": "@jupyter-widgets/base",
      "_view_module_version": "1.2.0",
      "_view_name": "LayoutView",
      "align_content": null,
      "align_items": null,
      "align_self": null,
      "border": null,
      "bottom": null,
      "display": null,
      "flex": null,
      "flex_flow": null,
      "grid_area": null,
      "grid_auto_columns": null,
      "grid_auto_flow": null,
      "grid_auto_rows": null,
      "grid_column": null,
      "grid_gap": null,
      "grid_row": null,
      "grid_template_areas": null,
      "grid_template_columns": null,
      "grid_template_rows": null,
      "height": null,
      "justify_content": null,
      "justify_items": null,
      "left": null,
      "margin": null,
      "max_height": null,
      "max_width": null,
      "min_height": null,
      "min_width": null,
      "object_fit": null,
      "object_position": null,
      "order": null,
      "overflow": null,
      "overflow_x": null,
      "overflow_y": null,
      "padding": null,
      "right": null,
      "top": null,
      "visibility": null,
      "width": null
     }
    },
    "4cf1dba7c1a047ac993a24bfef7c4a6d": {
     "model_module": "@jupyter-widgets/controls",
     "model_module_version": "1.5.0",
     "model_name": "FloatProgressModel",
     "state": {
      "_dom_classes": [],
      "_model_module": "@jupyter-widgets/controls",
      "_model_module_version": "1.5.0",
      "_model_name": "FloatProgressModel",
      "_view_count": null,
      "_view_module": "@jupyter-widgets/controls",
      "_view_module_version": "1.5.0",
      "_view_name": "ProgressView",
      "bar_style": "success",
      "description": "",
      "description_tooltip": null,
      "layout": "IPY_MODEL_f038cad390b34e7fb54a46496eae22ae",
      "max": 4542,
      "min": 0,
      "orientation": "horizontal",
      "style": "IPY_MODEL_0c16ae10894a47d68bf1b08a96f30873",
      "value": 4542
     }
    },
    "50268d9668ff4cf39b9d1feb278f2ab7": {
     "model_module": "@jupyter-widgets/controls",
     "model_module_version": "1.5.0",
     "model_name": "HTMLModel",
     "state": {
      "_dom_classes": [],
      "_model_module": "@jupyter-widgets/controls",
      "_model_module_version": "1.5.0",
      "_model_name": "HTMLModel",
      "_view_count": null,
      "_view_module": "@jupyter-widgets/controls",
      "_view_module_version": "1.5.0",
      "_view_name": "HTMLView",
      "description": "",
      "description_tooltip": null,
      "layout": "IPY_MODEL_d3aeb39fd18746aca77cdab88ec3ab70",
      "placeholder": "​",
      "style": "IPY_MODEL_9165f767204b4d4f9855d37d06eec1ea",
      "value": "100%"
     }
    },
    "5c19c0fc177d47ec92ab8dd6436a3f8b": {
     "model_module": "@jupyter-widgets/controls",
     "model_module_version": "1.5.0",
     "model_name": "HTMLModel",
     "state": {
      "_dom_classes": [],
      "_model_module": "@jupyter-widgets/controls",
      "_model_module_version": "1.5.0",
      "_model_name": "HTMLModel",
      "_view_count": null,
      "_view_module": "@jupyter-widgets/controls",
      "_view_module_version": "1.5.0",
      "_view_name": "HTMLView",
      "description": "",
      "description_tooltip": null,
      "layout": "IPY_MODEL_29dd322fe444478bb69c9ac04acd5348",
      "placeholder": "​",
      "style": "IPY_MODEL_86262e54567e47e7a14713a8727340b4",
      "value": "100%"
     }
    },
    "5e46591646444ade902e5632c442001c": {
     "model_module": "@jupyter-widgets/controls",
     "model_module_version": "1.5.0",
     "model_name": "HTMLModel",
     "state": {
      "_dom_classes": [],
      "_model_module": "@jupyter-widgets/controls",
      "_model_module_version": "1.5.0",
      "_model_name": "HTMLModel",
      "_view_count": null,
      "_view_module": "@jupyter-widgets/controls",
      "_view_module_version": "1.5.0",
      "_view_name": "HTMLView",
      "description": "",
      "description_tooltip": null,
      "layout": "IPY_MODEL_d3491f1840d14e11a4fd3ee1fdcd7898",
      "placeholder": "​",
      "style": "IPY_MODEL_3dfac077731147fabe78b0690f3687ad",
      "value": " 4542/4542 [00:00&lt;00:00, 238725.44it/s]"
     }
    },
    "5f9a70e949a74e33a582f5e4d4a7e8bd": {
     "model_module": "@jupyter-widgets/base",
     "model_module_version": "1.2.0",
     "model_name": "LayoutModel",
     "state": {
      "_model_module": "@jupyter-widgets/base",
      "_model_module_version": "1.2.0",
      "_model_name": "LayoutModel",
      "_view_count": null,
      "_view_module": "@jupyter-widgets/base",
      "_view_module_version": "1.2.0",
      "_view_name": "LayoutView",
      "align_content": null,
      "align_items": null,
      "align_self": null,
      "border": null,
      "bottom": null,
      "display": null,
      "flex": null,
      "flex_flow": null,
      "grid_area": null,
      "grid_auto_columns": null,
      "grid_auto_flow": null,
      "grid_auto_rows": null,
      "grid_column": null,
      "grid_gap": null,
      "grid_row": null,
      "grid_template_areas": null,
      "grid_template_columns": null,
      "grid_template_rows": null,
      "height": null,
      "justify_content": null,
      "justify_items": null,
      "left": null,
      "margin": null,
      "max_height": null,
      "max_width": null,
      "min_height": null,
      "min_width": null,
      "object_fit": null,
      "object_position": null,
      "order": null,
      "overflow": null,
      "overflow_x": null,
      "overflow_y": null,
      "padding": null,
      "right": null,
      "top": null,
      "visibility": null,
      "width": null
     }
    },
    "61db4c0284d74c75a7c9a68dcdc26b67": {
     "model_module": "@jupyter-widgets/base",
     "model_module_version": "1.2.0",
     "model_name": "LayoutModel",
     "state": {
      "_model_module": "@jupyter-widgets/base",
      "_model_module_version": "1.2.0",
      "_model_name": "LayoutModel",
      "_view_count": null,
      "_view_module": "@jupyter-widgets/base",
      "_view_module_version": "1.2.0",
      "_view_name": "LayoutView",
      "align_content": null,
      "align_items": null,
      "align_self": null,
      "border": null,
      "bottom": null,
      "display": null,
      "flex": null,
      "flex_flow": null,
      "grid_area": null,
      "grid_auto_columns": null,
      "grid_auto_flow": null,
      "grid_auto_rows": null,
      "grid_column": null,
      "grid_gap": null,
      "grid_row": null,
      "grid_template_areas": null,
      "grid_template_columns": null,
      "grid_template_rows": null,
      "height": null,
      "justify_content": null,
      "justify_items": null,
      "left": null,
      "margin": null,
      "max_height": null,
      "max_width": null,
      "min_height": null,
      "min_width": null,
      "object_fit": null,
      "object_position": null,
      "order": null,
      "overflow": null,
      "overflow_x": null,
      "overflow_y": null,
      "padding": null,
      "right": null,
      "top": null,
      "visibility": null,
      "width": null
     }
    },
    "6f9539752da049c7aa3359b3a602e2c9": {
     "model_module": "@jupyter-widgets/controls",
     "model_module_version": "1.5.0",
     "model_name": "ProgressStyleModel",
     "state": {
      "_model_module": "@jupyter-widgets/controls",
      "_model_module_version": "1.5.0",
      "_model_name": "ProgressStyleModel",
      "_view_count": null,
      "_view_module": "@jupyter-widgets/base",
      "_view_module_version": "1.2.0",
      "_view_name": "StyleView",
      "bar_color": null,
      "description_width": ""
     }
    },
    "746c478082d64b528e06bffb38896e61": {
     "model_module": "@jupyter-widgets/base",
     "model_module_version": "1.2.0",
     "model_name": "LayoutModel",
     "state": {
      "_model_module": "@jupyter-widgets/base",
      "_model_module_version": "1.2.0",
      "_model_name": "LayoutModel",
      "_view_count": null,
      "_view_module": "@jupyter-widgets/base",
      "_view_module_version": "1.2.0",
      "_view_name": "LayoutView",
      "align_content": null,
      "align_items": null,
      "align_self": null,
      "border": null,
      "bottom": null,
      "display": null,
      "flex": null,
      "flex_flow": null,
      "grid_area": null,
      "grid_auto_columns": null,
      "grid_auto_flow": null,
      "grid_auto_rows": null,
      "grid_column": null,
      "grid_gap": null,
      "grid_row": null,
      "grid_template_areas": null,
      "grid_template_columns": null,
      "grid_template_rows": null,
      "height": null,
      "justify_content": null,
      "justify_items": null,
      "left": null,
      "margin": null,
      "max_height": null,
      "max_width": null,
      "min_height": null,
      "min_width": null,
      "object_fit": null,
      "object_position": null,
      "order": null,
      "overflow": null,
      "overflow_x": null,
      "overflow_y": null,
      "padding": null,
      "right": null,
      "top": null,
      "visibility": null,
      "width": null
     }
    },
    "772def2eed524ca895d9bace34398a45": {
     "model_module": "@jupyter-widgets/base",
     "model_module_version": "1.2.0",
     "model_name": "LayoutModel",
     "state": {
      "_model_module": "@jupyter-widgets/base",
      "_model_module_version": "1.2.0",
      "_model_name": "LayoutModel",
      "_view_count": null,
      "_view_module": "@jupyter-widgets/base",
      "_view_module_version": "1.2.0",
      "_view_name": "LayoutView",
      "align_content": null,
      "align_items": null,
      "align_self": null,
      "border": null,
      "bottom": null,
      "display": null,
      "flex": null,
      "flex_flow": null,
      "grid_area": null,
      "grid_auto_columns": null,
      "grid_auto_flow": null,
      "grid_auto_rows": null,
      "grid_column": null,
      "grid_gap": null,
      "grid_row": null,
      "grid_template_areas": null,
      "grid_template_columns": null,
      "grid_template_rows": null,
      "height": null,
      "justify_content": null,
      "justify_items": null,
      "left": null,
      "margin": null,
      "max_height": null,
      "max_width": null,
      "min_height": null,
      "min_width": null,
      "object_fit": null,
      "object_position": null,
      "order": null,
      "overflow": null,
      "overflow_x": null,
      "overflow_y": null,
      "padding": null,
      "right": null,
      "top": null,
      "visibility": null,
      "width": null
     }
    },
    "7a7680042be2418b8ebef8112f3d1cd6": {
     "model_module": "@jupyter-widgets/controls",
     "model_module_version": "1.5.0",
     "model_name": "FloatProgressModel",
     "state": {
      "_dom_classes": [],
      "_model_module": "@jupyter-widgets/controls",
      "_model_module_version": "1.5.0",
      "_model_name": "FloatProgressModel",
      "_view_count": null,
      "_view_module": "@jupyter-widgets/controls",
      "_view_module_version": "1.5.0",
      "_view_name": "ProgressView",
      "bar_style": "success",
      "description": "",
      "description_tooltip": null,
      "layout": "IPY_MODEL_0542838533aa466391c34f8ecd10c1ba",
      "max": 1648877,
      "min": 0,
      "orientation": "horizontal",
      "style": "IPY_MODEL_6f9539752da049c7aa3359b3a602e2c9",
      "value": 1648877
     }
    },
    "7ce51d2dae13499ab4ea9da1400470ec": {
     "model_module": "@jupyter-widgets/controls",
     "model_module_version": "1.5.0",
     "model_name": "DescriptionStyleModel",
     "state": {
      "_model_module": "@jupyter-widgets/controls",
      "_model_module_version": "1.5.0",
      "_model_name": "DescriptionStyleModel",
      "_view_count": null,
      "_view_module": "@jupyter-widgets/base",
      "_view_module_version": "1.2.0",
      "_view_name": "StyleView",
      "description_width": ""
     }
    },
    "86262e54567e47e7a14713a8727340b4": {
     "model_module": "@jupyter-widgets/controls",
     "model_module_version": "1.5.0",
     "model_name": "DescriptionStyleModel",
     "state": {
      "_model_module": "@jupyter-widgets/controls",
      "_model_module_version": "1.5.0",
      "_model_name": "DescriptionStyleModel",
      "_view_count": null,
      "_view_module": "@jupyter-widgets/base",
      "_view_module_version": "1.2.0",
      "_view_name": "StyleView",
      "description_width": ""
     }
    },
    "8d9762df75af4806b69d1388c34112ec": {
     "model_module": "@jupyter-widgets/controls",
     "model_module_version": "1.5.0",
     "model_name": "HBoxModel",
     "state": {
      "_dom_classes": [],
      "_model_module": "@jupyter-widgets/controls",
      "_model_module_version": "1.5.0",
      "_model_name": "HBoxModel",
      "_view_count": null,
      "_view_module": "@jupyter-widgets/controls",
      "_view_module_version": "1.5.0",
      "_view_name": "HBoxView",
      "box_style": "",
      "children": [
       "IPY_MODEL_50268d9668ff4cf39b9d1feb278f2ab7",
       "IPY_MODEL_4cf1dba7c1a047ac993a24bfef7c4a6d",
       "IPY_MODEL_5e46591646444ade902e5632c442001c"
      ],
      "layout": "IPY_MODEL_e7800a55765c4368a4d88fe8138c5f47"
     }
    },
    "915ebeffdb5a4d2fb00ef2571fd180d9": {
     "model_module": "@jupyter-widgets/controls",
     "model_module_version": "1.5.0",
     "model_name": "HBoxModel",
     "state": {
      "_dom_classes": [],
      "_model_module": "@jupyter-widgets/controls",
      "_model_module_version": "1.5.0",
      "_model_name": "HBoxModel",
      "_view_count": null,
      "_view_module": "@jupyter-widgets/controls",
      "_view_module_version": "1.5.0",
      "_view_name": "HBoxView",
      "box_style": "",
      "children": [
       "IPY_MODEL_02f1000548534e3d997bf4363b20c674",
       "IPY_MODEL_d7330aaedf2149df9ba68b336f1a39d7",
       "IPY_MODEL_1f9c926c90764029acbbd3a510f845d5"
      ],
      "layout": "IPY_MODEL_772def2eed524ca895d9bace34398a45"
     }
    },
    "9165f767204b4d4f9855d37d06eec1ea": {
     "model_module": "@jupyter-widgets/controls",
     "model_module_version": "1.5.0",
     "model_name": "DescriptionStyleModel",
     "state": {
      "_model_module": "@jupyter-widgets/controls",
      "_model_module_version": "1.5.0",
      "_model_name": "DescriptionStyleModel",
      "_view_count": null,
      "_view_module": "@jupyter-widgets/base",
      "_view_module_version": "1.2.0",
      "_view_name": "StyleView",
      "description_width": ""
     }
    },
    "9c6308adfc4749d4aef8cce4fa5a6def": {
     "model_module": "@jupyter-widgets/base",
     "model_module_version": "1.2.0",
     "model_name": "LayoutModel",
     "state": {
      "_model_module": "@jupyter-widgets/base",
      "_model_module_version": "1.2.0",
      "_model_name": "LayoutModel",
      "_view_count": null,
      "_view_module": "@jupyter-widgets/base",
      "_view_module_version": "1.2.0",
      "_view_name": "LayoutView",
      "align_content": null,
      "align_items": null,
      "align_self": null,
      "border": null,
      "bottom": null,
      "display": null,
      "flex": null,
      "flex_flow": null,
      "grid_area": null,
      "grid_auto_columns": null,
      "grid_auto_flow": null,
      "grid_auto_rows": null,
      "grid_column": null,
      "grid_gap": null,
      "grid_row": null,
      "grid_template_areas": null,
      "grid_template_columns": null,
      "grid_template_rows": null,
      "height": null,
      "justify_content": null,
      "justify_items": null,
      "left": null,
      "margin": null,
      "max_height": null,
      "max_width": null,
      "min_height": null,
      "min_width": null,
      "object_fit": null,
      "object_position": null,
      "order": null,
      "overflow": null,
      "overflow_x": null,
      "overflow_y": null,
      "padding": null,
      "right": null,
      "top": null,
      "visibility": null,
      "width": null
     }
    },
    "a88dcd5f3b4346a79c52ea0dcdde0ead": {
     "model_module": "@jupyter-widgets/controls",
     "model_module_version": "1.5.0",
     "model_name": "DescriptionStyleModel",
     "state": {
      "_model_module": "@jupyter-widgets/controls",
      "_model_module_version": "1.5.0",
      "_model_name": "DescriptionStyleModel",
      "_view_count": null,
      "_view_module": "@jupyter-widgets/base",
      "_view_module_version": "1.2.0",
      "_view_name": "StyleView",
      "description_width": ""
     }
    },
    "acbf7f8fe8394bc0842d7992f0dead9b": {
     "model_module": "@jupyter-widgets/controls",
     "model_module_version": "1.5.0",
     "model_name": "HTMLModel",
     "state": {
      "_dom_classes": [],
      "_model_module": "@jupyter-widgets/controls",
      "_model_module_version": "1.5.0",
      "_model_name": "HTMLModel",
      "_view_count": null,
      "_view_module": "@jupyter-widgets/controls",
      "_view_module_version": "1.5.0",
      "_view_name": "HTMLView",
      "description": "",
      "description_tooltip": null,
      "layout": "IPY_MODEL_5f9a70e949a74e33a582f5e4d4a7e8bd",
      "placeholder": "​",
      "style": "IPY_MODEL_a88dcd5f3b4346a79c52ea0dcdde0ead",
      "value": " 9912422/9912422 [00:00&lt;00:00, 125441144.73it/s]"
     }
    },
    "ad2908e1d5bc4c7db7ec1e937b4b1f5f": {
     "model_module": "@jupyter-widgets/controls",
     "model_module_version": "1.5.0",
     "model_name": "HTMLModel",
     "state": {
      "_dom_classes": [],
      "_model_module": "@jupyter-widgets/controls",
      "_model_module_version": "1.5.0",
      "_model_name": "HTMLModel",
      "_view_count": null,
      "_view_module": "@jupyter-widgets/controls",
      "_view_module_version": "1.5.0",
      "_view_name": "HTMLView",
      "description": "",
      "description_tooltip": null,
      "layout": "IPY_MODEL_d480721b3af3437f9d9db49decfc03ae",
      "placeholder": "​",
      "style": "IPY_MODEL_7ce51d2dae13499ab4ea9da1400470ec",
      "value": " 1648877/1648877 [00:00&lt;00:00, 39314271.24it/s]"
     }
    },
    "bc2190842cde46408e41d43d87d78617": {
     "model_module": "@jupyter-widgets/controls",
     "model_module_version": "1.5.0",
     "model_name": "ProgressStyleModel",
     "state": {
      "_model_module": "@jupyter-widgets/controls",
      "_model_module_version": "1.5.0",
      "_model_name": "ProgressStyleModel",
      "_view_count": null,
      "_view_module": "@jupyter-widgets/base",
      "_view_module_version": "1.2.0",
      "_view_name": "StyleView",
      "bar_color": null,
      "description_width": ""
     }
    },
    "c14bad606421428f9bd03d079120094e": {
     "model_module": "@jupyter-widgets/controls",
     "model_module_version": "1.5.0",
     "model_name": "DescriptionStyleModel",
     "state": {
      "_model_module": "@jupyter-widgets/controls",
      "_model_module_version": "1.5.0",
      "_model_name": "DescriptionStyleModel",
      "_view_count": null,
      "_view_module": "@jupyter-widgets/base",
      "_view_module_version": "1.2.0",
      "_view_name": "StyleView",
      "description_width": ""
     }
    },
    "d3491f1840d14e11a4fd3ee1fdcd7898": {
     "model_module": "@jupyter-widgets/base",
     "model_module_version": "1.2.0",
     "model_name": "LayoutModel",
     "state": {
      "_model_module": "@jupyter-widgets/base",
      "_model_module_version": "1.2.0",
      "_model_name": "LayoutModel",
      "_view_count": null,
      "_view_module": "@jupyter-widgets/base",
      "_view_module_version": "1.2.0",
      "_view_name": "LayoutView",
      "align_content": null,
      "align_items": null,
      "align_self": null,
      "border": null,
      "bottom": null,
      "display": null,
      "flex": null,
      "flex_flow": null,
      "grid_area": null,
      "grid_auto_columns": null,
      "grid_auto_flow": null,
      "grid_auto_rows": null,
      "grid_column": null,
      "grid_gap": null,
      "grid_row": null,
      "grid_template_areas": null,
      "grid_template_columns": null,
      "grid_template_rows": null,
      "height": null,
      "justify_content": null,
      "justify_items": null,
      "left": null,
      "margin": null,
      "max_height": null,
      "max_width": null,
      "min_height": null,
      "min_width": null,
      "object_fit": null,
      "object_position": null,
      "order": null,
      "overflow": null,
      "overflow_x": null,
      "overflow_y": null,
      "padding": null,
      "right": null,
      "top": null,
      "visibility": null,
      "width": null
     }
    },
    "d3aeb39fd18746aca77cdab88ec3ab70": {
     "model_module": "@jupyter-widgets/base",
     "model_module_version": "1.2.0",
     "model_name": "LayoutModel",
     "state": {
      "_model_module": "@jupyter-widgets/base",
      "_model_module_version": "1.2.0",
      "_model_name": "LayoutModel",
      "_view_count": null,
      "_view_module": "@jupyter-widgets/base",
      "_view_module_version": "1.2.0",
      "_view_name": "LayoutView",
      "align_content": null,
      "align_items": null,
      "align_self": null,
      "border": null,
      "bottom": null,
      "display": null,
      "flex": null,
      "flex_flow": null,
      "grid_area": null,
      "grid_auto_columns": null,
      "grid_auto_flow": null,
      "grid_auto_rows": null,
      "grid_column": null,
      "grid_gap": null,
      "grid_row": null,
      "grid_template_areas": null,
      "grid_template_columns": null,
      "grid_template_rows": null,
      "height": null,
      "justify_content": null,
      "justify_items": null,
      "left": null,
      "margin": null,
      "max_height": null,
      "max_width": null,
      "min_height": null,
      "min_width": null,
      "object_fit": null,
      "object_position": null,
      "order": null,
      "overflow": null,
      "overflow_x": null,
      "overflow_y": null,
      "padding": null,
      "right": null,
      "top": null,
      "visibility": null,
      "width": null
     }
    },
    "d480721b3af3437f9d9db49decfc03ae": {
     "model_module": "@jupyter-widgets/base",
     "model_module_version": "1.2.0",
     "model_name": "LayoutModel",
     "state": {
      "_model_module": "@jupyter-widgets/base",
      "_model_module_version": "1.2.0",
      "_model_name": "LayoutModel",
      "_view_count": null,
      "_view_module": "@jupyter-widgets/base",
      "_view_module_version": "1.2.0",
      "_view_name": "LayoutView",
      "align_content": null,
      "align_items": null,
      "align_self": null,
      "border": null,
      "bottom": null,
      "display": null,
      "flex": null,
      "flex_flow": null,
      "grid_area": null,
      "grid_auto_columns": null,
      "grid_auto_flow": null,
      "grid_auto_rows": null,
      "grid_column": null,
      "grid_gap": null,
      "grid_row": null,
      "grid_template_areas": null,
      "grid_template_columns": null,
      "grid_template_rows": null,
      "height": null,
      "justify_content": null,
      "justify_items": null,
      "left": null,
      "margin": null,
      "max_height": null,
      "max_width": null,
      "min_height": null,
      "min_width": null,
      "object_fit": null,
      "object_position": null,
      "order": null,
      "overflow": null,
      "overflow_x": null,
      "overflow_y": null,
      "padding": null,
      "right": null,
      "top": null,
      "visibility": null,
      "width": null
     }
    },
    "d7330aaedf2149df9ba68b336f1a39d7": {
     "model_module": "@jupyter-widgets/controls",
     "model_module_version": "1.5.0",
     "model_name": "FloatProgressModel",
     "state": {
      "_dom_classes": [],
      "_model_module": "@jupyter-widgets/controls",
      "_model_module_version": "1.5.0",
      "_model_name": "FloatProgressModel",
      "_view_count": null,
      "_view_module": "@jupyter-widgets/controls",
      "_view_module_version": "1.5.0",
      "_view_name": "ProgressView",
      "bar_style": "success",
      "description": "",
      "description_tooltip": null,
      "layout": "IPY_MODEL_2f17fad1be434348ba04fd02ddf076a1",
      "max": 28881,
      "min": 0,
      "orientation": "horizontal",
      "style": "IPY_MODEL_bc2190842cde46408e41d43d87d78617",
      "value": 28881
     }
    },
    "e7800a55765c4368a4d88fe8138c5f47": {
     "model_module": "@jupyter-widgets/base",
     "model_module_version": "1.2.0",
     "model_name": "LayoutModel",
     "state": {
      "_model_module": "@jupyter-widgets/base",
      "_model_module_version": "1.2.0",
      "_model_name": "LayoutModel",
      "_view_count": null,
      "_view_module": "@jupyter-widgets/base",
      "_view_module_version": "1.2.0",
      "_view_name": "LayoutView",
      "align_content": null,
      "align_items": null,
      "align_self": null,
      "border": null,
      "bottom": null,
      "display": null,
      "flex": null,
      "flex_flow": null,
      "grid_area": null,
      "grid_auto_columns": null,
      "grid_auto_flow": null,
      "grid_auto_rows": null,
      "grid_column": null,
      "grid_gap": null,
      "grid_row": null,
      "grid_template_areas": null,
      "grid_template_columns": null,
      "grid_template_rows": null,
      "height": null,
      "justify_content": null,
      "justify_items": null,
      "left": null,
      "margin": null,
      "max_height": null,
      "max_width": null,
      "min_height": null,
      "min_width": null,
      "object_fit": null,
      "object_position": null,
      "order": null,
      "overflow": null,
      "overflow_x": null,
      "overflow_y": null,
      "padding": null,
      "right": null,
      "top": null,
      "visibility": null,
      "width": null
     }
    },
    "f038cad390b34e7fb54a46496eae22ae": {
     "model_module": "@jupyter-widgets/base",
     "model_module_version": "1.2.0",
     "model_name": "LayoutModel",
     "state": {
      "_model_module": "@jupyter-widgets/base",
      "_model_module_version": "1.2.0",
      "_model_name": "LayoutModel",
      "_view_count": null,
      "_view_module": "@jupyter-widgets/base",
      "_view_module_version": "1.2.0",
      "_view_name": "LayoutView",
      "align_content": null,
      "align_items": null,
      "align_self": null,
      "border": null,
      "bottom": null,
      "display": null,
      "flex": null,
      "flex_flow": null,
      "grid_area": null,
      "grid_auto_columns": null,
      "grid_auto_flow": null,
      "grid_auto_rows": null,
      "grid_column": null,
      "grid_gap": null,
      "grid_row": null,
      "grid_template_areas": null,
      "grid_template_columns": null,
      "grid_template_rows": null,
      "height": null,
      "justify_content": null,
      "justify_items": null,
      "left": null,
      "margin": null,
      "max_height": null,
      "max_width": null,
      "min_height": null,
      "min_width": null,
      "object_fit": null,
      "object_position": null,
      "order": null,
      "overflow": null,
      "overflow_x": null,
      "overflow_y": null,
      "padding": null,
      "right": null,
      "top": null,
      "visibility": null,
      "width": null
     }
    }
   }
  }
 },
 "nbformat": 4,
 "nbformat_minor": 1
}
